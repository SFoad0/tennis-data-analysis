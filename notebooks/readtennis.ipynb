{
 "cells": [
  {
   "cell_type": "code",
   "execution_count": 1,
   "metadata": {},
   "outputs": [],
   "source": [
    "import os\n",
    "import pandas as pd"
   ]
  },
  {
   "cell_type": "code",
   "execution_count": null,
   "metadata": {},
   "outputs": [],
   "source": [
    "path = r\"data\\tennis_data_20231212\\raw\"\n",
    "directory_list = []\n",
    "for directory in os.listdir(r\"data\\tennis_data_20231212\\raw\"):\n",
    "    directory_list.append(directory)"
   ]
  },
  {
   "cell_type": "code",
   "execution_count": null,
   "metadata": {},
   "outputs": [],
   "source": [
    "for directory_name in directory_list:\n",
    "    statistics_dataframe = pd.DataFrame()\n",
    "    for file in os.listdir(f\"{path}\\\\{directory_name}\"):\n",
    "        single_stats = pd.read_parquet(f\"{path}\\\\{directory_name}\\\\{file}\")\n",
    "        statistics_dataframe = pd.concat([statistics_dataframe, single_stats], axis=\"rows\", ignore_index=True)\n",
    "    statistics_dataframe.to_csv(f\"dataset_csv\\\\{directory_name}.csv\", index=False)"
   ]
  }
 ],
 "metadata": {
  "kernelspec": {
   "display_name": "Python 3",
   "language": "python",
   "name": "python3"
  },
  "language_info": {
   "codemirror_mode": {
    "name": "ipython",
    "version": 3
   },
   "file_extension": ".py",
   "mimetype": "text/x-python",
   "name": "python",
   "nbconvert_exporter": "python",
   "pygments_lexer": "ipython3",
   "version": "3.10.2"
  }
 },
 "nbformat": 4,
 "nbformat_minor": 2
}
