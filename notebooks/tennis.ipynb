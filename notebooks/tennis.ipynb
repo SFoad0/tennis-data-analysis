{
 "cells": [
  {
   "cell_type": "markdown",
   "metadata": {},
   "source": [
    "# Tennis Dataset Analysis"
   ]
  },
  {
   "cell_type": "markdown",
   "metadata": {},
   "source": [
    "## Introduction\n"
   ]
  },
  {
   "cell_type": "markdown",
   "metadata": {},
   "source": [
    "In this project, we analyze tennis data with the goal of identifying various events and factors in matches.\n"
   ]
  },
  {
   "cell_type": "markdown",
   "metadata": {},
   "source": [
    "### Datasets:\n"
   ]
  },
  {
   "cell_type": "markdown",
   "metadata": {},
   "source": [
    "The data was collected from various tennis tournaments over a two-month period. The datasets are as follows:\n",
    "1. Home Team: Shows information about the home team in each match, with 18 columns and 436 rows.\n",
    "2. Away Team: Shows information about the away team in each match, with 18 columns and 386 rows.\n",
    "3. Home Score: Shows the home team's score in the match, with 14 columns and 764 rows.\n",
    "4. Away Score: Shows the away team's score in the match, with 14 columns and 764 rows.\n",
    "5. Match: Shows information about each match, including location, time, and type of match, with 41 columns and 3996 rows.\n",
    "6. Odds: Shows information about betting on each match, with 11 columns and 848 rows.\n",
    "7. Point by Point: Shows information about each point in the match, with 13 columns and 22880 rows.\n",
    "8. Statistics: Shows statistical information such as aces and other events for each match, with 13 columns and 12263 rows.\n",
    "9. Tennis Power: Shows information about each game in the match, with 5 columns and 3476 rows.\n",
    "10. Votes: Shows survey information for each match, with 3 columns and 746 rows.\n"
   ]
  },
  {
   "cell_type": "code",
   "execution_count": 147,
   "metadata": {},
   "outputs": [],
   "source": [
    "import pandas as pd\n",
    "import matplotlib.pyplot as plt\n",
    "import seaborn as sns\n",
    "import numpy as np"
   ]
  },
  {
   "cell_type": "markdown",
   "metadata": {},
   "source": [
    "### read dataset"
   ]
  },
  {
   "cell_type": "code",
   "execution_count": null,
   "metadata": {},
   "outputs": [],
   "source": [
    "data_away_team = pd.read_csv(r'data\\dataset_csv\\raw_away_team.csv')\n",
    "data_away_score = pd.read_csv(r'data\\dataset_csv\\raw_away_score.csv')\n",
    "data_home_team = pd.read_csv(r'data\\dataset_csv\\raw_home_team.csv')\n",
    "data_home_score = pd.read_csv(r'data\\dataset_csv\\raw_home_score.csv')\n",
    "data_match = pd.read_csv(r'data\\dataset_csv\\raw_match.csv')\n",
    "data_odds = pd.read_csv(r'data\\dataset_csv\\raw_odds.csv')\n",
    "data_point_by_point = pd.read_csv(r'data\\dataset_csv\\raw_point_by_point.csv')\n",
    "data_statistics = pd.read_csv(r'data\\dataset_csv\\raw_statistics.csv')\n",
    "data_tennis_power = pd.read_csv(r'data\\dataset_csv\\raw_tennis_power.csv')\n",
    "data_votes = pd.read_csv(r'data\\dataset_csv\\raw_votes.csv')"
   ]
  },
  {
   "cell_type": "code",
   "execution_count": 149,
   "metadata": {},
   "outputs": [
    {
     "name": "stdout",
     "output_type": "stream",
     "text": [
      "(386, 18)\n"
     ]
    },
    {
     "data": {
      "text/html": [
       "<div>\n",
       "<style scoped>\n",
       "    .dataframe tbody tr th:only-of-type {\n",
       "        vertical-align: middle;\n",
       "    }\n",
       "\n",
       "    .dataframe tbody tr th {\n",
       "        vertical-align: top;\n",
       "    }\n",
       "\n",
       "    .dataframe thead th {\n",
       "        text-align: right;\n",
       "    }\n",
       "</style>\n",
       "<table border=\"1\" class=\"dataframe\">\n",
       "  <thead>\n",
       "    <tr style=\"text-align: right;\">\n",
       "      <th></th>\n",
       "      <th>match_id</th>\n",
       "      <th>name</th>\n",
       "      <th>slug</th>\n",
       "      <th>gender</th>\n",
       "      <th>user_count</th>\n",
       "      <th>residence</th>\n",
       "      <th>birthplace</th>\n",
       "      <th>height</th>\n",
       "      <th>weight</th>\n",
       "      <th>plays</th>\n",
       "      <th>turned_pro</th>\n",
       "      <th>current_prize</th>\n",
       "      <th>total_prize</th>\n",
       "      <th>player_id</th>\n",
       "      <th>current_rank</th>\n",
       "      <th>name_code</th>\n",
       "      <th>country</th>\n",
       "      <th>full_name</th>\n",
       "    </tr>\n",
       "  </thead>\n",
       "  <tbody>\n",
       "    <tr>\n",
       "      <th>0</th>\n",
       "      <td>11673958</td>\n",
       "      <td>Tirante T.</td>\n",
       "      <td>tirante-thiago-agustin</td>\n",
       "      <td>M</td>\n",
       "      <td>1519</td>\n",
       "      <td>La Plata</td>\n",
       "      <td>La Plata, Argentina</td>\n",
       "      <td>1.85</td>\n",
       "      <td>78.0</td>\n",
       "      <td>right-handed</td>\n",
       "      <td>NaN</td>\n",
       "      <td>249335.0</td>\n",
       "      <td>430793.0</td>\n",
       "      <td>221515</td>\n",
       "      <td>123.0</td>\n",
       "      <td>TIR</td>\n",
       "      <td>Argentina</td>\n",
       "      <td>Tirante, Thiago Agustin</td>\n",
       "    </tr>\n",
       "    <tr>\n",
       "      <th>1</th>\n",
       "      <td>11673962</td>\n",
       "      <td>Heide G.</td>\n",
       "      <td>heide-gustavo</td>\n",
       "      <td>M</td>\n",
       "      <td>1177</td>\n",
       "      <td>NaN</td>\n",
       "      <td>Sao Paulo</td>\n",
       "      <td>1.88</td>\n",
       "      <td>NaN</td>\n",
       "      <td>right-handed</td>\n",
       "      <td>NaN</td>\n",
       "      <td>36929.0</td>\n",
       "      <td>87230.0</td>\n",
       "      <td>302582</td>\n",
       "      <td>247.0</td>\n",
       "      <td>HEI</td>\n",
       "      <td>Brazil</td>\n",
       "      <td>Heide, Gustavo</td>\n",
       "    </tr>\n",
       "  </tbody>\n",
       "</table>\n",
       "</div>"
      ],
      "text/plain": [
       "   match_id        name                    slug gender  user_count residence  \\\n",
       "0  11673958  Tirante T.  tirante-thiago-agustin      M        1519  La Plata   \n",
       "1  11673962    Heide G.           heide-gustavo      M        1177       NaN   \n",
       "\n",
       "            birthplace  height  weight         plays  turned_pro  \\\n",
       "0  La Plata, Argentina    1.85    78.0  right-handed         NaN   \n",
       "1            Sao Paulo    1.88     NaN  right-handed         NaN   \n",
       "\n",
       "   current_prize  total_prize  player_id  current_rank name_code    country  \\\n",
       "0       249335.0     430793.0     221515         123.0       TIR  Argentina   \n",
       "1        36929.0      87230.0     302582         247.0       HEI     Brazil   \n",
       "\n",
       "                 full_name  \n",
       "0  Tirante, Thiago Agustin  \n",
       "1           Heide, Gustavo  "
      ]
     },
     "execution_count": 149,
     "metadata": {},
     "output_type": "execute_result"
    }
   ],
   "source": [
    "print(data_away_team.shape)\n",
    "data_away_team.head(2)"
   ]
  },
  {
   "cell_type": "code",
   "execution_count": 150,
   "metadata": {},
   "outputs": [
    {
     "name": "stdout",
     "output_type": "stream",
     "text": [
      "(764, 14)\n"
     ]
    },
    {
     "data": {
      "text/html": [
       "<div>\n",
       "<style scoped>\n",
       "    .dataframe tbody tr th:only-of-type {\n",
       "        vertical-align: middle;\n",
       "    }\n",
       "\n",
       "    .dataframe tbody tr th {\n",
       "        vertical-align: top;\n",
       "    }\n",
       "\n",
       "    .dataframe thead th {\n",
       "        text-align: right;\n",
       "    }\n",
       "</style>\n",
       "<table border=\"1\" class=\"dataframe\">\n",
       "  <thead>\n",
       "    <tr style=\"text-align: right;\">\n",
       "      <th></th>\n",
       "      <th>match_id</th>\n",
       "      <th>current_score</th>\n",
       "      <th>display_score</th>\n",
       "      <th>period_1</th>\n",
       "      <th>period_2</th>\n",
       "      <th>period_3</th>\n",
       "      <th>period_4</th>\n",
       "      <th>period_5</th>\n",
       "      <th>period_1_tie_break</th>\n",
       "      <th>period_2_tie_break</th>\n",
       "      <th>period_3_tie_break</th>\n",
       "      <th>period_4_tie_break</th>\n",
       "      <th>period_5_tie_break</th>\n",
       "      <th>normal_time</th>\n",
       "    </tr>\n",
       "  </thead>\n",
       "  <tbody>\n",
       "    <tr>\n",
       "      <th>0</th>\n",
       "      <td>11673958</td>\n",
       "      <td>2.0</td>\n",
       "      <td>2.0</td>\n",
       "      <td>6.0</td>\n",
       "      <td>6.0</td>\n",
       "      <td>NaN</td>\n",
       "      <td>NaN</td>\n",
       "      <td>NaN</td>\n",
       "      <td>NaN</td>\n",
       "      <td>NaN</td>\n",
       "      <td>NaN</td>\n",
       "      <td>NaN</td>\n",
       "      <td>NaN</td>\n",
       "      <td>NaN</td>\n",
       "    </tr>\n",
       "    <tr>\n",
       "      <th>1</th>\n",
       "      <td>11673962</td>\n",
       "      <td>NaN</td>\n",
       "      <td>NaN</td>\n",
       "      <td>NaN</td>\n",
       "      <td>NaN</td>\n",
       "      <td>NaN</td>\n",
       "      <td>NaN</td>\n",
       "      <td>NaN</td>\n",
       "      <td>NaN</td>\n",
       "      <td>NaN</td>\n",
       "      <td>NaN</td>\n",
       "      <td>NaN</td>\n",
       "      <td>NaN</td>\n",
       "      <td>NaN</td>\n",
       "    </tr>\n",
       "  </tbody>\n",
       "</table>\n",
       "</div>"
      ],
      "text/plain": [
       "   match_id  current_score  display_score  period_1  period_2  period_3  \\\n",
       "0  11673958            2.0            2.0       6.0       6.0       NaN   \n",
       "1  11673962            NaN            NaN       NaN       NaN       NaN   \n",
       "\n",
       "   period_4  period_5  period_1_tie_break  period_2_tie_break  \\\n",
       "0       NaN       NaN                 NaN                 NaN   \n",
       "1       NaN       NaN                 NaN                 NaN   \n",
       "\n",
       "   period_3_tie_break  period_4_tie_break  period_5_tie_break  normal_time  \n",
       "0                 NaN                 NaN                 NaN          NaN  \n",
       "1                 NaN                 NaN                 NaN          NaN  "
      ]
     },
     "execution_count": 150,
     "metadata": {},
     "output_type": "execute_result"
    }
   ],
   "source": [
    "print(data_away_score.shape)\n",
    "data_away_score.head(2)"
   ]
  },
  {
   "cell_type": "code",
   "execution_count": 151,
   "metadata": {},
   "outputs": [
    {
     "name": "stdout",
     "output_type": "stream",
     "text": [
      "(436, 18)\n"
     ]
    },
    {
     "data": {
      "text/html": [
       "<div>\n",
       "<style scoped>\n",
       "    .dataframe tbody tr th:only-of-type {\n",
       "        vertical-align: middle;\n",
       "    }\n",
       "\n",
       "    .dataframe tbody tr th {\n",
       "        vertical-align: top;\n",
       "    }\n",
       "\n",
       "    .dataframe thead th {\n",
       "        text-align: right;\n",
       "    }\n",
       "</style>\n",
       "<table border=\"1\" class=\"dataframe\">\n",
       "  <thead>\n",
       "    <tr style=\"text-align: right;\">\n",
       "      <th></th>\n",
       "      <th>match_id</th>\n",
       "      <th>name</th>\n",
       "      <th>slug</th>\n",
       "      <th>gender</th>\n",
       "      <th>user_count</th>\n",
       "      <th>residence</th>\n",
       "      <th>birthplace</th>\n",
       "      <th>height</th>\n",
       "      <th>weight</th>\n",
       "      <th>plays</th>\n",
       "      <th>turned_pro</th>\n",
       "      <th>current_prize</th>\n",
       "      <th>total_prize</th>\n",
       "      <th>player_id</th>\n",
       "      <th>current_rank</th>\n",
       "      <th>name_code</th>\n",
       "      <th>country</th>\n",
       "      <th>full_name</th>\n",
       "    </tr>\n",
       "  </thead>\n",
       "  <tbody>\n",
       "    <tr>\n",
       "      <th>0</th>\n",
       "      <td>11673958</td>\n",
       "      <td>Barrios Vera T.</td>\n",
       "      <td>barrios-vera-tomas</td>\n",
       "      <td>M</td>\n",
       "      <td>2915</td>\n",
       "      <td>Santiago</td>\n",
       "      <td>Chillan, Chile</td>\n",
       "      <td>1.91</td>\n",
       "      <td>83.0</td>\n",
       "      <td>right-handed</td>\n",
       "      <td>2014.0</td>\n",
       "      <td>265608.0</td>\n",
       "      <td>646273.0</td>\n",
       "      <td>132834</td>\n",
       "      <td>103.0</td>\n",
       "      <td>BAR</td>\n",
       "      <td>Chile</td>\n",
       "      <td>Barrios Vera, Tomás</td>\n",
       "    </tr>\n",
       "    <tr>\n",
       "      <th>1</th>\n",
       "      <td>11673962</td>\n",
       "      <td>Tirante T.</td>\n",
       "      <td>tirante-thiago-agustin</td>\n",
       "      <td>M</td>\n",
       "      <td>1519</td>\n",
       "      <td>La Plata</td>\n",
       "      <td>La Plata, Argentina</td>\n",
       "      <td>1.85</td>\n",
       "      <td>78.0</td>\n",
       "      <td>right-handed</td>\n",
       "      <td>NaN</td>\n",
       "      <td>249335.0</td>\n",
       "      <td>430793.0</td>\n",
       "      <td>221515</td>\n",
       "      <td>123.0</td>\n",
       "      <td>TIR</td>\n",
       "      <td>Argentina</td>\n",
       "      <td>Tirante, Thiago Agustin</td>\n",
       "    </tr>\n",
       "  </tbody>\n",
       "</table>\n",
       "</div>"
      ],
      "text/plain": [
       "   match_id             name                    slug gender  user_count  \\\n",
       "0  11673958  Barrios Vera T.      barrios-vera-tomas      M        2915   \n",
       "1  11673962       Tirante T.  tirante-thiago-agustin      M        1519   \n",
       "\n",
       "  residence           birthplace  height  weight         plays  turned_pro  \\\n",
       "0  Santiago       Chillan, Chile    1.91    83.0  right-handed      2014.0   \n",
       "1  La Plata  La Plata, Argentina    1.85    78.0  right-handed         NaN   \n",
       "\n",
       "   current_prize  total_prize  player_id  current_rank name_code    country  \\\n",
       "0       265608.0     646273.0     132834         103.0       BAR      Chile   \n",
       "1       249335.0     430793.0     221515         123.0       TIR  Argentina   \n",
       "\n",
       "                 full_name  \n",
       "0      Barrios Vera, Tomás  \n",
       "1  Tirante, Thiago Agustin  "
      ]
     },
     "execution_count": 151,
     "metadata": {},
     "output_type": "execute_result"
    }
   ],
   "source": [
    "print(data_home_team.shape)\n",
    "data_home_team.head(2)"
   ]
  },
  {
   "cell_type": "code",
   "execution_count": 152,
   "metadata": {},
   "outputs": [
    {
     "name": "stdout",
     "output_type": "stream",
     "text": [
      "(764, 14)\n"
     ]
    },
    {
     "data": {
      "text/html": [
       "<div>\n",
       "<style scoped>\n",
       "    .dataframe tbody tr th:only-of-type {\n",
       "        vertical-align: middle;\n",
       "    }\n",
       "\n",
       "    .dataframe tbody tr th {\n",
       "        vertical-align: top;\n",
       "    }\n",
       "\n",
       "    .dataframe thead th {\n",
       "        text-align: right;\n",
       "    }\n",
       "</style>\n",
       "<table border=\"1\" class=\"dataframe\">\n",
       "  <thead>\n",
       "    <tr style=\"text-align: right;\">\n",
       "      <th></th>\n",
       "      <th>match_id</th>\n",
       "      <th>current_score</th>\n",
       "      <th>display_score</th>\n",
       "      <th>period_1</th>\n",
       "      <th>period_2</th>\n",
       "      <th>period_3</th>\n",
       "      <th>period_4</th>\n",
       "      <th>period_5</th>\n",
       "      <th>period_1_tie_break</th>\n",
       "      <th>period_2_tie_break</th>\n",
       "      <th>period_3_tie_break</th>\n",
       "      <th>period_4_tie_break</th>\n",
       "      <th>period_5_tie_break</th>\n",
       "      <th>normal_time</th>\n",
       "    </tr>\n",
       "  </thead>\n",
       "  <tbody>\n",
       "    <tr>\n",
       "      <th>0</th>\n",
       "      <td>11673958</td>\n",
       "      <td>0.0</td>\n",
       "      <td>0.0</td>\n",
       "      <td>2.0</td>\n",
       "      <td>4.0</td>\n",
       "      <td>NaN</td>\n",
       "      <td>NaN</td>\n",
       "      <td>NaN</td>\n",
       "      <td>NaN</td>\n",
       "      <td>NaN</td>\n",
       "      <td>NaN</td>\n",
       "      <td>NaN</td>\n",
       "      <td>NaN</td>\n",
       "      <td>NaN</td>\n",
       "    </tr>\n",
       "    <tr>\n",
       "      <th>1</th>\n",
       "      <td>11673962</td>\n",
       "      <td>NaN</td>\n",
       "      <td>NaN</td>\n",
       "      <td>NaN</td>\n",
       "      <td>NaN</td>\n",
       "      <td>NaN</td>\n",
       "      <td>NaN</td>\n",
       "      <td>NaN</td>\n",
       "      <td>NaN</td>\n",
       "      <td>NaN</td>\n",
       "      <td>NaN</td>\n",
       "      <td>NaN</td>\n",
       "      <td>NaN</td>\n",
       "      <td>NaN</td>\n",
       "    </tr>\n",
       "  </tbody>\n",
       "</table>\n",
       "</div>"
      ],
      "text/plain": [
       "   match_id  current_score  display_score  period_1  period_2  period_3  \\\n",
       "0  11673958            0.0            0.0       2.0       4.0       NaN   \n",
       "1  11673962            NaN            NaN       NaN       NaN       NaN   \n",
       "\n",
       "   period_4  period_5  period_1_tie_break  period_2_tie_break  \\\n",
       "0       NaN       NaN                 NaN                 NaN   \n",
       "1       NaN       NaN                 NaN                 NaN   \n",
       "\n",
       "   period_3_tie_break  period_4_tie_break  period_5_tie_break  normal_time  \n",
       "0                 NaN                 NaN                 NaN          NaN  \n",
       "1                 NaN                 NaN                 NaN          NaN  "
      ]
     },
     "execution_count": 152,
     "metadata": {},
     "output_type": "execute_result"
    }
   ],
   "source": [
    "print(data_home_score.shape)\n",
    "data_home_score.head(2)"
   ]
  },
  {
   "cell_type": "code",
   "execution_count": 153,
   "metadata": {},
   "outputs": [
    {
     "name": "stdout",
     "output_type": "stream",
     "text": [
      "(3996, 41)\n"
     ]
    },
    {
     "data": {
      "text/html": [
       "<div>\n",
       "<style scoped>\n",
       "    .dataframe tbody tr th:only-of-type {\n",
       "        vertical-align: middle;\n",
       "    }\n",
       "\n",
       "    .dataframe tbody tr th {\n",
       "        vertical-align: top;\n",
       "    }\n",
       "\n",
       "    .dataframe thead th {\n",
       "        text-align: right;\n",
       "    }\n",
       "</style>\n",
       "<table border=\"1\" class=\"dataframe\">\n",
       "  <thead>\n",
       "    <tr style=\"text-align: right;\">\n",
       "      <th></th>\n",
       "      <th>match_id</th>\n",
       "      <th>first_to_serve</th>\n",
       "      <th>home_team_seed</th>\n",
       "      <th>away_team_seed</th>\n",
       "      <th>custom_id</th>\n",
       "      <th>winner_code</th>\n",
       "      <th>default_period_count</th>\n",
       "      <th>start_datetime</th>\n",
       "      <th>match_slug</th>\n",
       "      <th>final_result_only</th>\n",
       "      <th>...</th>\n",
       "      <th>has_event_player_statistics</th>\n",
       "      <th>crowd_sourcing_enabled</th>\n",
       "      <th>has_performance_graph_feature</th>\n",
       "      <th>display_inverse_home_away_teams</th>\n",
       "      <th>priority</th>\n",
       "      <th>competition_type</th>\n",
       "      <th>city</th>\n",
       "      <th>stadium</th>\n",
       "      <th>venue_id</th>\n",
       "      <th>country</th>\n",
       "    </tr>\n",
       "  </thead>\n",
       "  <tbody>\n",
       "    <tr>\n",
       "      <th>0</th>\n",
       "      <td>11673958</td>\n",
       "      <td>NaN</td>\n",
       "      <td>1</td>\n",
       "      <td>4</td>\n",
       "      <td>JgdbspFNb</td>\n",
       "      <td>2.0</td>\n",
       "      <td>3.0</td>\n",
       "      <td>1.696095e+09</td>\n",
       "      <td>tirante-barrios-vera</td>\n",
       "      <td>False</td>\n",
       "      <td>...</td>\n",
       "      <td>NaN</td>\n",
       "      <td>NaN</td>\n",
       "      <td>NaN</td>\n",
       "      <td>NaN</td>\n",
       "      <td>NaN</td>\n",
       "      <td>NaN</td>\n",
       "      <td>NaN</td>\n",
       "      <td>NaN</td>\n",
       "      <td>NaN</td>\n",
       "      <td>NaN</td>\n",
       "    </tr>\n",
       "    <tr>\n",
       "      <th>1</th>\n",
       "      <td>11673962</td>\n",
       "      <td>NaN</td>\n",
       "      <td>4</td>\n",
       "      <td>NaN</td>\n",
       "      <td>pFNbsHbwc</td>\n",
       "      <td>1.0</td>\n",
       "      <td>3.0</td>\n",
       "      <td>1.696176e+09</td>\n",
       "      <td>heide-tirante</td>\n",
       "      <td>False</td>\n",
       "      <td>...</td>\n",
       "      <td>NaN</td>\n",
       "      <td>NaN</td>\n",
       "      <td>NaN</td>\n",
       "      <td>NaN</td>\n",
       "      <td>NaN</td>\n",
       "      <td>NaN</td>\n",
       "      <td>NaN</td>\n",
       "      <td>NaN</td>\n",
       "      <td>NaN</td>\n",
       "      <td>NaN</td>\n",
       "    </tr>\n",
       "  </tbody>\n",
       "</table>\n",
       "<p>2 rows × 41 columns</p>\n",
       "</div>"
      ],
      "text/plain": [
       "   match_id  first_to_serve home_team_seed away_team_seed  custom_id  \\\n",
       "0  11673958             NaN              1              4  JgdbspFNb   \n",
       "1  11673962             NaN              4            NaN  pFNbsHbwc   \n",
       "\n",
       "   winner_code  default_period_count  start_datetime            match_slug  \\\n",
       "0          2.0                   3.0    1.696095e+09  tirante-barrios-vera   \n",
       "1          1.0                   3.0    1.696176e+09         heide-tirante   \n",
       "\n",
       "  final_result_only  ...  has_event_player_statistics crowd_sourcing_enabled  \\\n",
       "0             False  ...                          NaN                    NaN   \n",
       "1             False  ...                          NaN                    NaN   \n",
       "\n",
       "  has_performance_graph_feature  display_inverse_home_away_teams  priority  \\\n",
       "0                           NaN                              NaN       NaN   \n",
       "1                           NaN                              NaN       NaN   \n",
       "\n",
       "   competition_type  city  stadium  venue_id  country  \n",
       "0               NaN   NaN      NaN       NaN      NaN  \n",
       "1               NaN   NaN      NaN       NaN      NaN  \n",
       "\n",
       "[2 rows x 41 columns]"
      ]
     },
     "execution_count": 153,
     "metadata": {},
     "output_type": "execute_result"
    }
   ],
   "source": [
    "print(data_match.shape)\n",
    "data_match.head(2)"
   ]
  },
  {
   "cell_type": "code",
   "execution_count": 154,
   "metadata": {},
   "outputs": [
    {
     "name": "stdout",
     "output_type": "stream",
     "text": [
      "(848, 11)\n"
     ]
    },
    {
     "data": {
      "text/html": [
       "<div>\n",
       "<style scoped>\n",
       "    .dataframe tbody tr th:only-of-type {\n",
       "        vertical-align: middle;\n",
       "    }\n",
       "\n",
       "    .dataframe tbody tr th {\n",
       "        vertical-align: top;\n",
       "    }\n",
       "\n",
       "    .dataframe thead th {\n",
       "        text-align: right;\n",
       "    }\n",
       "</style>\n",
       "<table border=\"1\" class=\"dataframe\">\n",
       "  <thead>\n",
       "    <tr style=\"text-align: right;\">\n",
       "      <th></th>\n",
       "      <th>match_id</th>\n",
       "      <th>market_id</th>\n",
       "      <th>market_name</th>\n",
       "      <th>is_live</th>\n",
       "      <th>suspended</th>\n",
       "      <th>initial_fractional_value</th>\n",
       "      <th>fractional_value</th>\n",
       "      <th>choice_name</th>\n",
       "      <th>choice_source_id</th>\n",
       "      <th>winnig</th>\n",
       "      <th>change</th>\n",
       "    </tr>\n",
       "  </thead>\n",
       "  <tbody>\n",
       "    <tr>\n",
       "      <th>0</th>\n",
       "      <td>11673958</td>\n",
       "      <td>1</td>\n",
       "      <td>full_time</td>\n",
       "      <td>False</td>\n",
       "      <td>False</td>\n",
       "      <td>73/100</td>\n",
       "      <td>83/100</td>\n",
       "      <td>1</td>\n",
       "      <td>1349454568</td>\n",
       "      <td>False</td>\n",
       "      <td>1</td>\n",
       "    </tr>\n",
       "    <tr>\n",
       "      <th>1</th>\n",
       "      <td>11673958</td>\n",
       "      <td>1</td>\n",
       "      <td>full_time</td>\n",
       "      <td>False</td>\n",
       "      <td>False</td>\n",
       "      <td>1/1</td>\n",
       "      <td>83/100</td>\n",
       "      <td>2</td>\n",
       "      <td>1349454681</td>\n",
       "      <td>True</td>\n",
       "      <td>-1</td>\n",
       "    </tr>\n",
       "  </tbody>\n",
       "</table>\n",
       "</div>"
      ],
      "text/plain": [
       "   match_id  market_id market_name  is_live  suspended  \\\n",
       "0  11673958          1   full_time    False      False   \n",
       "1  11673958          1   full_time    False      False   \n",
       "\n",
       "  initial_fractional_value fractional_value choice_name  choice_source_id  \\\n",
       "0                   73/100           83/100           1        1349454568   \n",
       "1                      1/1           83/100           2        1349454681   \n",
       "\n",
       "  winnig  change  \n",
       "0  False       1  \n",
       "1   True      -1  "
      ]
     },
     "execution_count": 154,
     "metadata": {},
     "output_type": "execute_result"
    }
   ],
   "source": [
    "print(data_odds.shape)\n",
    "data_odds.head(2)"
   ]
  },
  {
   "cell_type": "code",
   "execution_count": 155,
   "metadata": {},
   "outputs": [
    {
     "name": "stdout",
     "output_type": "stream",
     "text": [
      "(22880, 13)\n"
     ]
    },
    {
     "data": {
      "text/html": [
       "<div>\n",
       "<style scoped>\n",
       "    .dataframe tbody tr th:only-of-type {\n",
       "        vertical-align: middle;\n",
       "    }\n",
       "\n",
       "    .dataframe tbody tr th {\n",
       "        vertical-align: top;\n",
       "    }\n",
       "\n",
       "    .dataframe thead th {\n",
       "        text-align: right;\n",
       "    }\n",
       "</style>\n",
       "<table border=\"1\" class=\"dataframe\">\n",
       "  <thead>\n",
       "    <tr style=\"text-align: right;\">\n",
       "      <th></th>\n",
       "      <th>match_id</th>\n",
       "      <th>set_id</th>\n",
       "      <th>game_id</th>\n",
       "      <th>point_id</th>\n",
       "      <th>home_point</th>\n",
       "      <th>away_point</th>\n",
       "      <th>point_description</th>\n",
       "      <th>home_point_type</th>\n",
       "      <th>away_point_type</th>\n",
       "      <th>home_score</th>\n",
       "      <th>away_score</th>\n",
       "      <th>serving</th>\n",
       "      <th>scoring</th>\n",
       "    </tr>\n",
       "  </thead>\n",
       "  <tbody>\n",
       "    <tr>\n",
       "      <th>0</th>\n",
       "      <td>11674074</td>\n",
       "      <td>2</td>\n",
       "      <td>7</td>\n",
       "      <td>0</td>\n",
       "      <td>0</td>\n",
       "      <td>15</td>\n",
       "      <td>2</td>\n",
       "      <td>5</td>\n",
       "      <td>1</td>\n",
       "      <td>6</td>\n",
       "      <td>1</td>\n",
       "      <td>1</td>\n",
       "      <td>1</td>\n",
       "    </tr>\n",
       "    <tr>\n",
       "      <th>1</th>\n",
       "      <td>11674074</td>\n",
       "      <td>2</td>\n",
       "      <td>7</td>\n",
       "      <td>1</td>\n",
       "      <td>0</td>\n",
       "      <td>30</td>\n",
       "      <td>0</td>\n",
       "      <td>5</td>\n",
       "      <td>1</td>\n",
       "      <td>6</td>\n",
       "      <td>1</td>\n",
       "      <td>1</td>\n",
       "      <td>1</td>\n",
       "    </tr>\n",
       "  </tbody>\n",
       "</table>\n",
       "</div>"
      ],
      "text/plain": [
       "   match_id  set_id  game_id  point_id home_point away_point  \\\n",
       "0  11674074       2        7         0          0         15   \n",
       "1  11674074       2        7         1          0         30   \n",
       "\n",
       "   point_description  home_point_type  away_point_type  home_score  \\\n",
       "0                  2                5                1           6   \n",
       "1                  0                5                1           6   \n",
       "\n",
       "   away_score  serving  scoring  \n",
       "0           1        1        1  \n",
       "1           1        1        1  "
      ]
     },
     "execution_count": 155,
     "metadata": {},
     "output_type": "execute_result"
    }
   ],
   "source": [
    "print(data_point_by_point.shape)\n",
    "data_point_by_point.head(2)"
   ]
  },
  {
   "cell_type": "code",
   "execution_count": 156,
   "metadata": {},
   "outputs": [
    {
     "name": "stdout",
     "output_type": "stream",
     "text": [
      "(12263, 13)\n"
     ]
    },
    {
     "data": {
      "text/html": [
       "<div>\n",
       "<style scoped>\n",
       "    .dataframe tbody tr th:only-of-type {\n",
       "        vertical-align: middle;\n",
       "    }\n",
       "\n",
       "    .dataframe tbody tr th {\n",
       "        vertical-align: top;\n",
       "    }\n",
       "\n",
       "    .dataframe thead th {\n",
       "        text-align: right;\n",
       "    }\n",
       "</style>\n",
       "<table border=\"1\" class=\"dataframe\">\n",
       "  <thead>\n",
       "    <tr style=\"text-align: right;\">\n",
       "      <th></th>\n",
       "      <th>match_id</th>\n",
       "      <th>period</th>\n",
       "      <th>statistic_category_name</th>\n",
       "      <th>statistic_name</th>\n",
       "      <th>home_stat</th>\n",
       "      <th>away_stat</th>\n",
       "      <th>compare_code</th>\n",
       "      <th>statistic_type</th>\n",
       "      <th>value_type</th>\n",
       "      <th>home_value</th>\n",
       "      <th>away_value</th>\n",
       "      <th>home_total</th>\n",
       "      <th>away_total</th>\n",
       "    </tr>\n",
       "  </thead>\n",
       "  <tbody>\n",
       "    <tr>\n",
       "      <th>0</th>\n",
       "      <td>11674074</td>\n",
       "      <td>ALL</td>\n",
       "      <td>service</td>\n",
       "      <td>aces</td>\n",
       "      <td>1</td>\n",
       "      <td>2</td>\n",
       "      <td>2</td>\n",
       "      <td>positive</td>\n",
       "      <td>event</td>\n",
       "      <td>1</td>\n",
       "      <td>2</td>\n",
       "      <td>NaN</td>\n",
       "      <td>NaN</td>\n",
       "    </tr>\n",
       "    <tr>\n",
       "      <th>1</th>\n",
       "      <td>11674074</td>\n",
       "      <td>ALL</td>\n",
       "      <td>service</td>\n",
       "      <td>double_faults</td>\n",
       "      <td>1</td>\n",
       "      <td>3</td>\n",
       "      <td>2</td>\n",
       "      <td>negative</td>\n",
       "      <td>event</td>\n",
       "      <td>1</td>\n",
       "      <td>3</td>\n",
       "      <td>NaN</td>\n",
       "      <td>NaN</td>\n",
       "    </tr>\n",
       "  </tbody>\n",
       "</table>\n",
       "</div>"
      ],
      "text/plain": [
       "   match_id period statistic_category_name statistic_name home_stat away_stat  \\\n",
       "0  11674074    ALL                 service           aces         1         2   \n",
       "1  11674074    ALL                 service  double_faults         1         3   \n",
       "\n",
       "   compare_code statistic_type value_type  home_value  away_value  home_total  \\\n",
       "0             2       positive      event           1           2         NaN   \n",
       "1             2       negative      event           1           3         NaN   \n",
       "\n",
       "   away_total  \n",
       "0         NaN  \n",
       "1         NaN  "
      ]
     },
     "execution_count": 156,
     "metadata": {},
     "output_type": "execute_result"
    }
   ],
   "source": [
    "print(data_statistics.shape)\n",
    "data_statistics.head(2)"
   ]
  },
  {
   "cell_type": "code",
   "execution_count": 157,
   "metadata": {},
   "outputs": [
    {
     "name": "stdout",
     "output_type": "stream",
     "text": [
      "(3476, 5)\n"
     ]
    },
    {
     "data": {
      "text/html": [
       "<div>\n",
       "<style scoped>\n",
       "    .dataframe tbody tr th:only-of-type {\n",
       "        vertical-align: middle;\n",
       "    }\n",
       "\n",
       "    .dataframe tbody tr th {\n",
       "        vertical-align: top;\n",
       "    }\n",
       "\n",
       "    .dataframe thead th {\n",
       "        text-align: right;\n",
       "    }\n",
       "</style>\n",
       "<table border=\"1\" class=\"dataframe\">\n",
       "  <thead>\n",
       "    <tr style=\"text-align: right;\">\n",
       "      <th></th>\n",
       "      <th>match_id</th>\n",
       "      <th>set_num</th>\n",
       "      <th>game_num</th>\n",
       "      <th>value</th>\n",
       "      <th>break_occurred</th>\n",
       "    </tr>\n",
       "  </thead>\n",
       "  <tbody>\n",
       "    <tr>\n",
       "      <th>0</th>\n",
       "      <td>11674074</td>\n",
       "      <td>1</td>\n",
       "      <td>1</td>\n",
       "      <td>30.5</td>\n",
       "      <td>False</td>\n",
       "    </tr>\n",
       "    <tr>\n",
       "      <th>1</th>\n",
       "      <td>11674074</td>\n",
       "      <td>1</td>\n",
       "      <td>2</td>\n",
       "      <td>81.1</td>\n",
       "      <td>True</td>\n",
       "    </tr>\n",
       "  </tbody>\n",
       "</table>\n",
       "</div>"
      ],
      "text/plain": [
       "   match_id  set_num  game_num  value  break_occurred\n",
       "0  11674074        1         1   30.5           False\n",
       "1  11674074        1         2   81.1            True"
      ]
     },
     "execution_count": 157,
     "metadata": {},
     "output_type": "execute_result"
    }
   ],
   "source": [
    "print(data_tennis_power.shape)\n",
    "data_tennis_power.head(2)"
   ]
  },
  {
   "cell_type": "code",
   "execution_count": 158,
   "metadata": {},
   "outputs": [
    {
     "name": "stdout",
     "output_type": "stream",
     "text": [
      "(764, 3)\n"
     ]
    },
    {
     "data": {
      "text/html": [
       "<div>\n",
       "<style scoped>\n",
       "    .dataframe tbody tr th:only-of-type {\n",
       "        vertical-align: middle;\n",
       "    }\n",
       "\n",
       "    .dataframe tbody tr th {\n",
       "        vertical-align: top;\n",
       "    }\n",
       "\n",
       "    .dataframe thead th {\n",
       "        text-align: right;\n",
       "    }\n",
       "</style>\n",
       "<table border=\"1\" class=\"dataframe\">\n",
       "  <thead>\n",
       "    <tr style=\"text-align: right;\">\n",
       "      <th></th>\n",
       "      <th>match_id</th>\n",
       "      <th>home_vote</th>\n",
       "      <th>away_vote</th>\n",
       "    </tr>\n",
       "  </thead>\n",
       "  <tbody>\n",
       "    <tr>\n",
       "      <th>0</th>\n",
       "      <td>11673958</td>\n",
       "      <td>554</td>\n",
       "      <td>233</td>\n",
       "    </tr>\n",
       "    <tr>\n",
       "      <th>1</th>\n",
       "      <td>11673962</td>\n",
       "      <td>909</td>\n",
       "      <td>213</td>\n",
       "    </tr>\n",
       "  </tbody>\n",
       "</table>\n",
       "</div>"
      ],
      "text/plain": [
       "   match_id  home_vote  away_vote\n",
       "0  11673958        554        233\n",
       "1  11673962        909        213"
      ]
     },
     "execution_count": 158,
     "metadata": {},
     "output_type": "execute_result"
    }
   ],
   "source": [
    "print(data_votes.shape)\n",
    "data_votes.head(2)"
   ]
  },
  {
   "cell_type": "markdown",
   "metadata": {},
   "source": [
    "## Data Cleaning"
   ]
  },
  {
   "cell_type": "markdown",
   "metadata": {},
   "source": [
    "### Dupplicates"
   ]
  },
  {
   "cell_type": "markdown",
   "metadata": {},
   "source": [
    "The number of duplicate rows for each dataset was checked, and no duplicates were found."
   ]
  },
  {
   "cell_type": "code",
   "execution_count": 159,
   "metadata": {},
   "outputs": [],
   "source": [
    "dataframes = {\n",
    "    \"data_away_team\": data_away_team,\n",
    "    \"data_away_score\": data_home_score,\n",
    "    \"data_home_team\": data_home_team,\n",
    "    \"data_home_score\": data_home_score,\n",
    "    \"data_match\": data_match,\n",
    "    \"data_odds\": data_odds,\n",
    "    \"data_point_by_point\": data_point_by_point,\n",
    "    \"data_statistics\": data_statistics,\n",
    "    \"data_tennis_power\": data_tennis_power,\n",
    "    \"data_votes\": data_votes,\n",
    "}"
   ]
  },
  {
   "cell_type": "code",
   "execution_count": 160,
   "metadata": {},
   "outputs": [
    {
     "name": "stdout",
     "output_type": "stream",
     "text": [
      "0\n",
      "0\n",
      "0\n",
      "0\n",
      "0\n",
      "0\n"
     ]
    },
    {
     "name": "stdout",
     "output_type": "stream",
     "text": [
      "0\n",
      "0\n",
      "0\n",
      "0\n"
     ]
    }
   ],
   "source": [
    "for df in dataframes.values():\n",
    "    print(df.duplicated().sum())"
   ]
  },
  {
   "cell_type": "markdown",
   "metadata": {},
   "source": [
    "### Missing values"
   ]
  },
  {
   "cell_type": "markdown",
   "metadata": {},
   "source": [
    "Except for the votes, tennis power, and point by point datasets, null values (cells in the table without any values) were found in the other datasets.\n"
   ]
  },
  {
   "cell_type": "code",
   "execution_count": 161,
   "metadata": {},
   "outputs": [
    {
     "name": "stdout",
     "output_type": "stream",
     "text": [
      "data_away_team:   Nan\n",
      "data_away_score:   Nan\n",
      "data_home_team:   Nan\n",
      "data_home_score:   Nan\n",
      "data_match:   Nan\n",
      "data_odds:   Nan\n",
      "data_point_by_point:   OK\n",
      "data_statistics:   Nan\n",
      "data_tennis_power:   OK\n",
      "data_votes:   OK\n"
     ]
    }
   ],
   "source": [
    "for name, df in dataframes.items():\n",
    "    print(f\"{name}:   {'Nan' if df.isnull().any().any() else 'OK'}\")"
   ]
  },
  {
   "cell_type": "markdown",
   "metadata": {},
   "source": [
    "#### statistics"
   ]
  },
  {
   "cell_type": "markdown",
   "metadata": {},
   "source": [
    "The dataset was reviewed, and the empty cells did not pose any issues for the analysis, so there was no need to impute them.\n"
   ]
  },
  {
   "cell_type": "code",
   "execution_count": 162,
   "metadata": {},
   "outputs": [
    {
     "name": "stdout",
     "output_type": "stream",
     "text": [
      "<class 'pandas.core.frame.DataFrame'>\n",
      "RangeIndex: 12263 entries, 0 to 12262\n",
      "Data columns (total 13 columns):\n",
      " #   Column                   Non-Null Count  Dtype  \n",
      "---  ------                   --------------  -----  \n",
      " 0   match_id                 12263 non-null  int64  \n",
      " 1   period                   12263 non-null  object \n",
      " 2   statistic_category_name  12263 non-null  object \n",
      " 3   statistic_name           12263 non-null  object \n",
      " 4   home_stat                12263 non-null  object \n",
      " 5   away_stat                12263 non-null  object \n",
      " 6   compare_code             12263 non-null  int64  \n",
      " 7   statistic_type           12263 non-null  object \n",
      " 8   value_type               12263 non-null  object \n",
      " 9   home_value               12263 non-null  int64  \n",
      " 10  away_value               12263 non-null  int64  \n",
      " 11  home_total               4837 non-null   float64\n",
      " 12  away_total               4837 non-null   float64\n",
      "dtypes: float64(2), int64(4), object(7)\n",
      "memory usage: 1.2+ MB\n"
     ]
    }
   ],
   "source": [
    "data_statistics.info()"
   ]
  },
  {
   "cell_type": "code",
   "execution_count": 163,
   "metadata": {},
   "outputs": [
    {
     "data": {
      "text/plain": [
       "match_id                      0\n",
       "period                        0\n",
       "statistic_category_name       0\n",
       "statistic_name                0\n",
       "home_stat                     0\n",
       "away_stat                     0\n",
       "compare_code                  0\n",
       "statistic_type                0\n",
       "value_type                    0\n",
       "home_value                    0\n",
       "away_value                    0\n",
       "home_total                 7426\n",
       "away_total                 7426\n",
       "dtype: int64"
      ]
     },
     "execution_count": 163,
     "metadata": {},
     "output_type": "execute_result"
    }
   ],
   "source": [
    "data_statistics.isnull().sum()"
   ]
  },
  {
   "cell_type": "code",
   "execution_count": 164,
   "metadata": {},
   "outputs": [
    {
     "data": {
      "text/html": [
       "<div>\n",
       "<style scoped>\n",
       "    .dataframe tbody tr th:only-of-type {\n",
       "        vertical-align: middle;\n",
       "    }\n",
       "\n",
       "    .dataframe tbody tr th {\n",
       "        vertical-align: top;\n",
       "    }\n",
       "\n",
       "    .dataframe thead th {\n",
       "        text-align: right;\n",
       "    }\n",
       "</style>\n",
       "<table border=\"1\" class=\"dataframe\">\n",
       "  <thead>\n",
       "    <tr style=\"text-align: right;\">\n",
       "      <th></th>\n",
       "      <th>match_id</th>\n",
       "      <th>period</th>\n",
       "      <th>statistic_category_name</th>\n",
       "      <th>statistic_name</th>\n",
       "      <th>home_stat</th>\n",
       "      <th>away_stat</th>\n",
       "      <th>compare_code</th>\n",
       "      <th>statistic_type</th>\n",
       "      <th>value_type</th>\n",
       "      <th>home_value</th>\n",
       "      <th>away_value</th>\n",
       "      <th>home_total</th>\n",
       "      <th>away_total</th>\n",
       "    </tr>\n",
       "  </thead>\n",
       "  <tbody>\n",
       "    <tr>\n",
       "      <th>0</th>\n",
       "      <td>11674074</td>\n",
       "      <td>ALL</td>\n",
       "      <td>service</td>\n",
       "      <td>aces</td>\n",
       "      <td>1</td>\n",
       "      <td>2</td>\n",
       "      <td>2</td>\n",
       "      <td>positive</td>\n",
       "      <td>event</td>\n",
       "      <td>1</td>\n",
       "      <td>2</td>\n",
       "      <td>NaN</td>\n",
       "      <td>NaN</td>\n",
       "    </tr>\n",
       "    <tr>\n",
       "      <th>1</th>\n",
       "      <td>11674074</td>\n",
       "      <td>ALL</td>\n",
       "      <td>service</td>\n",
       "      <td>double_faults</td>\n",
       "      <td>1</td>\n",
       "      <td>3</td>\n",
       "      <td>2</td>\n",
       "      <td>negative</td>\n",
       "      <td>event</td>\n",
       "      <td>1</td>\n",
       "      <td>3</td>\n",
       "      <td>NaN</td>\n",
       "      <td>NaN</td>\n",
       "    </tr>\n",
       "    <tr>\n",
       "      <th>2</th>\n",
       "      <td>11674074</td>\n",
       "      <td>ALL</td>\n",
       "      <td>service</td>\n",
       "      <td>first_serve</td>\n",
       "      <td>34/52 (65%)</td>\n",
       "      <td>26/57 (46%)</td>\n",
       "      <td>1</td>\n",
       "      <td>positive</td>\n",
       "      <td>team</td>\n",
       "      <td>34</td>\n",
       "      <td>26</td>\n",
       "      <td>52.0</td>\n",
       "      <td>57.0</td>\n",
       "    </tr>\n",
       "    <tr>\n",
       "      <th>3</th>\n",
       "      <td>11674074</td>\n",
       "      <td>ALL</td>\n",
       "      <td>service</td>\n",
       "      <td>second_serve</td>\n",
       "      <td>17/18 (94%)</td>\n",
       "      <td>28/31 (90%)</td>\n",
       "      <td>1</td>\n",
       "      <td>positive</td>\n",
       "      <td>team</td>\n",
       "      <td>17</td>\n",
       "      <td>28</td>\n",
       "      <td>18.0</td>\n",
       "      <td>31.0</td>\n",
       "    </tr>\n",
       "    <tr>\n",
       "      <th>4</th>\n",
       "      <td>11674074</td>\n",
       "      <td>ALL</td>\n",
       "      <td>service</td>\n",
       "      <td>first_serve_points</td>\n",
       "      <td>25/34 (74%)</td>\n",
       "      <td>11/26 (42%)</td>\n",
       "      <td>1</td>\n",
       "      <td>positive</td>\n",
       "      <td>team</td>\n",
       "      <td>25</td>\n",
       "      <td>11</td>\n",
       "      <td>34.0</td>\n",
       "      <td>26.0</td>\n",
       "    </tr>\n",
       "    <tr>\n",
       "      <th>5</th>\n",
       "      <td>11674074</td>\n",
       "      <td>ALL</td>\n",
       "      <td>service</td>\n",
       "      <td>second_serve_points</td>\n",
       "      <td>14/18 (78%)</td>\n",
       "      <td>18/31 (58%)</td>\n",
       "      <td>1</td>\n",
       "      <td>positive</td>\n",
       "      <td>team</td>\n",
       "      <td>14</td>\n",
       "      <td>18</td>\n",
       "      <td>18.0</td>\n",
       "      <td>31.0</td>\n",
       "    </tr>\n",
       "    <tr>\n",
       "      <th>6</th>\n",
       "      <td>11674074</td>\n",
       "      <td>ALL</td>\n",
       "      <td>service</td>\n",
       "      <td>service_games_played</td>\n",
       "      <td>10</td>\n",
       "      <td>9</td>\n",
       "      <td>1</td>\n",
       "      <td>positive</td>\n",
       "      <td>event</td>\n",
       "      <td>10</td>\n",
       "      <td>9</td>\n",
       "      <td>NaN</td>\n",
       "      <td>NaN</td>\n",
       "    </tr>\n",
       "    <tr>\n",
       "      <th>7</th>\n",
       "      <td>11674074</td>\n",
       "      <td>ALL</td>\n",
       "      <td>service</td>\n",
       "      <td>break_points_saved</td>\n",
       "      <td>0/1 (0%)</td>\n",
       "      <td>1/5 (20%)</td>\n",
       "      <td>2</td>\n",
       "      <td>positive</td>\n",
       "      <td>team</td>\n",
       "      <td>0</td>\n",
       "      <td>1</td>\n",
       "      <td>1.0</td>\n",
       "      <td>5.0</td>\n",
       "    </tr>\n",
       "    <tr>\n",
       "      <th>8</th>\n",
       "      <td>11674074</td>\n",
       "      <td>ALL</td>\n",
       "      <td>points</td>\n",
       "      <td>total</td>\n",
       "      <td>67</td>\n",
       "      <td>42</td>\n",
       "      <td>1</td>\n",
       "      <td>positive</td>\n",
       "      <td>event</td>\n",
       "      <td>67</td>\n",
       "      <td>42</td>\n",
       "      <td>NaN</td>\n",
       "      <td>NaN</td>\n",
       "    </tr>\n",
       "    <tr>\n",
       "      <th>9</th>\n",
       "      <td>11674074</td>\n",
       "      <td>ALL</td>\n",
       "      <td>points</td>\n",
       "      <td>service_points_won</td>\n",
       "      <td>39</td>\n",
       "      <td>29</td>\n",
       "      <td>1</td>\n",
       "      <td>positive</td>\n",
       "      <td>event</td>\n",
       "      <td>39</td>\n",
       "      <td>29</td>\n",
       "      <td>NaN</td>\n",
       "      <td>NaN</td>\n",
       "    </tr>\n",
       "  </tbody>\n",
       "</table>\n",
       "</div>"
      ],
      "text/plain": [
       "   match_id period statistic_category_name        statistic_name    home_stat  \\\n",
       "0  11674074    ALL                 service                  aces            1   \n",
       "1  11674074    ALL                 service         double_faults            1   \n",
       "2  11674074    ALL                 service           first_serve  34/52 (65%)   \n",
       "3  11674074    ALL                 service          second_serve  17/18 (94%)   \n",
       "4  11674074    ALL                 service    first_serve_points  25/34 (74%)   \n",
       "5  11674074    ALL                 service   second_serve_points  14/18 (78%)   \n",
       "6  11674074    ALL                 service  service_games_played           10   \n",
       "7  11674074    ALL                 service    break_points_saved     0/1 (0%)   \n",
       "8  11674074    ALL                  points                 total           67   \n",
       "9  11674074    ALL                  points    service_points_won           39   \n",
       "\n",
       "     away_stat  compare_code statistic_type value_type  home_value  \\\n",
       "0            2             2       positive      event           1   \n",
       "1            3             2       negative      event           1   \n",
       "2  26/57 (46%)             1       positive       team          34   \n",
       "3  28/31 (90%)             1       positive       team          17   \n",
       "4  11/26 (42%)             1       positive       team          25   \n",
       "5  18/31 (58%)             1       positive       team          14   \n",
       "6            9             1       positive      event          10   \n",
       "7    1/5 (20%)             2       positive       team           0   \n",
       "8           42             1       positive      event          67   \n",
       "9           29             1       positive      event          39   \n",
       "\n",
       "   away_value  home_total  away_total  \n",
       "0           2         NaN         NaN  \n",
       "1           3         NaN         NaN  \n",
       "2          26        52.0        57.0  \n",
       "3          28        18.0        31.0  \n",
       "4          11        34.0        26.0  \n",
       "5          18        18.0        31.0  \n",
       "6           9         NaN         NaN  \n",
       "7           1         1.0         5.0  \n",
       "8          42         NaN         NaN  \n",
       "9          29         NaN         NaN  "
      ]
     },
     "execution_count": 164,
     "metadata": {},
     "output_type": "execute_result"
    }
   ],
   "source": [
    "data_statistics.head(10)"
   ]
  },
  {
   "cell_type": "markdown",
   "metadata": {},
   "source": [
    "#### odds"
   ]
  },
  {
   "cell_type": "markdown",
   "metadata": {},
   "source": [
    "In this dataset, only a few cells in the \"wining\" column, which indicate winning or losing in betting, were null. Some of these were filled with the correct values by comparing the initial fractional value and fractional value, and some, where these two values were equal, were removed from the dataset.\n"
   ]
  },
  {
   "cell_type": "code",
   "execution_count": 165,
   "metadata": {},
   "outputs": [
    {
     "data": {
      "text/plain": [
       "match_id                     0\n",
       "market_id                    0\n",
       "market_name                  0\n",
       "is_live                      0\n",
       "suspended                    0\n",
       "initial_fractional_value     0\n",
       "fractional_value             0\n",
       "choice_name                  0\n",
       "choice_source_id             0\n",
       "winnig                      12\n",
       "change                       0\n",
       "dtype: int64"
      ]
     },
     "execution_count": 165,
     "metadata": {},
     "output_type": "execute_result"
    }
   ],
   "source": [
    "data_odds.isnull().sum()"
   ]
  },
  {
   "cell_type": "code",
   "execution_count": 166,
   "metadata": {},
   "outputs": [
    {
     "name": "stdout",
     "output_type": "stream",
     "text": [
      "<class 'pandas.core.frame.DataFrame'>\n",
      "RangeIndex: 848 entries, 0 to 847\n",
      "Data columns (total 11 columns):\n",
      " #   Column                    Non-Null Count  Dtype \n",
      "---  ------                    --------------  ----- \n",
      " 0   match_id                  848 non-null    int64 \n",
      " 1   market_id                 848 non-null    int64 \n",
      " 2   market_name               848 non-null    object\n",
      " 3   is_live                   848 non-null    bool  \n",
      " 4   suspended                 848 non-null    bool  \n",
      " 5   initial_fractional_value  848 non-null    object\n",
      " 6   fractional_value          848 non-null    object\n",
      " 7   choice_name               848 non-null    object\n",
      " 8   choice_source_id          848 non-null    int64 \n",
      " 9   winnig                    836 non-null    object\n",
      " 10  change                    848 non-null    int64 \n",
      "dtypes: bool(2), int64(4), object(5)\n",
      "memory usage: 61.4+ KB\n"
     ]
    }
   ],
   "source": [
    "data_odds.info()"
   ]
  },
  {
   "cell_type": "code",
   "execution_count": 167,
   "metadata": {},
   "outputs": [
    {
     "data": {
      "text/html": [
       "<div>\n",
       "<style scoped>\n",
       "    .dataframe tbody tr th:only-of-type {\n",
       "        vertical-align: middle;\n",
       "    }\n",
       "\n",
       "    .dataframe tbody tr th {\n",
       "        vertical-align: top;\n",
       "    }\n",
       "\n",
       "    .dataframe thead th {\n",
       "        text-align: right;\n",
       "    }\n",
       "</style>\n",
       "<table border=\"1\" class=\"dataframe\">\n",
       "  <thead>\n",
       "    <tr style=\"text-align: right;\">\n",
       "      <th></th>\n",
       "      <th>match_id</th>\n",
       "      <th>market_id</th>\n",
       "      <th>market_name</th>\n",
       "      <th>is_live</th>\n",
       "      <th>suspended</th>\n",
       "      <th>initial_fractional_value</th>\n",
       "      <th>fractional_value</th>\n",
       "      <th>choice_name</th>\n",
       "      <th>choice_source_id</th>\n",
       "      <th>winnig</th>\n",
       "      <th>change</th>\n",
       "    </tr>\n",
       "  </thead>\n",
       "  <tbody>\n",
       "    <tr>\n",
       "      <th>8</th>\n",
       "      <td>11673962</td>\n",
       "      <td>11</td>\n",
       "      <td>first_set_winner</td>\n",
       "      <td>False</td>\n",
       "      <td>False</td>\n",
       "      <td>4/6</td>\n",
       "      <td>4/7</td>\n",
       "      <td>1</td>\n",
       "      <td>1354475382</td>\n",
       "      <td>NaN</td>\n",
       "      <td>-1</td>\n",
       "    </tr>\n",
       "    <tr>\n",
       "      <th>9</th>\n",
       "      <td>11673962</td>\n",
       "      <td>11</td>\n",
       "      <td>first_set_winner</td>\n",
       "      <td>False</td>\n",
       "      <td>False</td>\n",
       "      <td>11/10</td>\n",
       "      <td>5/4</td>\n",
       "      <td>2</td>\n",
       "      <td>1354475404</td>\n",
       "      <td>NaN</td>\n",
       "      <td>1</td>\n",
       "    </tr>\n",
       "    <tr>\n",
       "      <th>10</th>\n",
       "      <td>11673962</td>\n",
       "      <td>12</td>\n",
       "      <td>total_games_won</td>\n",
       "      <td>False</td>\n",
       "      <td>False</td>\n",
       "      <td>1/1</td>\n",
       "      <td>10/11</td>\n",
       "      <td>Over</td>\n",
       "      <td>1355457883</td>\n",
       "      <td>NaN</td>\n",
       "      <td>-1</td>\n",
       "    </tr>\n",
       "    <tr>\n",
       "      <th>11</th>\n",
       "      <td>11673962</td>\n",
       "      <td>12</td>\n",
       "      <td>total_games_won</td>\n",
       "      <td>False</td>\n",
       "      <td>False</td>\n",
       "      <td>8/11</td>\n",
       "      <td>4/5</td>\n",
       "      <td>Under</td>\n",
       "      <td>1355457864</td>\n",
       "      <td>NaN</td>\n",
       "      <td>1</td>\n",
       "    </tr>\n",
       "    <tr>\n",
       "      <th>176</th>\n",
       "      <td>11686275</td>\n",
       "      <td>11</td>\n",
       "      <td>first_set_winner</td>\n",
       "      <td>False</td>\n",
       "      <td>False</td>\n",
       "      <td>5/4</td>\n",
       "      <td>6/5</td>\n",
       "      <td>1</td>\n",
       "      <td>1357697485</td>\n",
       "      <td>NaN</td>\n",
       "      <td>-1</td>\n",
       "    </tr>\n",
       "    <tr>\n",
       "      <th>177</th>\n",
       "      <td>11686275</td>\n",
       "      <td>11</td>\n",
       "      <td>first_set_winner</td>\n",
       "      <td>False</td>\n",
       "      <td>False</td>\n",
       "      <td>4/7</td>\n",
       "      <td>8/13</td>\n",
       "      <td>2</td>\n",
       "      <td>1357697532</td>\n",
       "      <td>NaN</td>\n",
       "      <td>1</td>\n",
       "    </tr>\n",
       "    <tr>\n",
       "      <th>178</th>\n",
       "      <td>11686275</td>\n",
       "      <td>12</td>\n",
       "      <td>total_games_won</td>\n",
       "      <td>False</td>\n",
       "      <td>False</td>\n",
       "      <td>5/6</td>\n",
       "      <td>4/5</td>\n",
       "      <td>Over</td>\n",
       "      <td>1357929422</td>\n",
       "      <td>NaN</td>\n",
       "      <td>-1</td>\n",
       "    </tr>\n",
       "    <tr>\n",
       "      <th>179</th>\n",
       "      <td>11686275</td>\n",
       "      <td>12</td>\n",
       "      <td>total_games_won</td>\n",
       "      <td>False</td>\n",
       "      <td>False</td>\n",
       "      <td>5/6</td>\n",
       "      <td>10/11</td>\n",
       "      <td>Under</td>\n",
       "      <td>1357929325</td>\n",
       "      <td>NaN</td>\n",
       "      <td>1</td>\n",
       "    </tr>\n",
       "    <tr>\n",
       "      <th>374</th>\n",
       "      <td>11699064</td>\n",
       "      <td>1</td>\n",
       "      <td>full_time</td>\n",
       "      <td>False</td>\n",
       "      <td>False</td>\n",
       "      <td>1/2</td>\n",
       "      <td>1/2</td>\n",
       "      <td>1</td>\n",
       "      <td>1353577213</td>\n",
       "      <td>NaN</td>\n",
       "      <td>0</td>\n",
       "    </tr>\n",
       "    <tr>\n",
       "      <th>375</th>\n",
       "      <td>11699064</td>\n",
       "      <td>1</td>\n",
       "      <td>full_time</td>\n",
       "      <td>False</td>\n",
       "      <td>False</td>\n",
       "      <td>6/4</td>\n",
       "      <td>6/4</td>\n",
       "      <td>2</td>\n",
       "      <td>1353577228</td>\n",
       "      <td>NaN</td>\n",
       "      <td>0</td>\n",
       "    </tr>\n",
       "    <tr>\n",
       "      <th>596</th>\n",
       "      <td>11699822</td>\n",
       "      <td>1</td>\n",
       "      <td>full_time</td>\n",
       "      <td>False</td>\n",
       "      <td>False</td>\n",
       "      <td>10/3</td>\n",
       "      <td>10/3</td>\n",
       "      <td>1</td>\n",
       "      <td>1355622204</td>\n",
       "      <td>NaN</td>\n",
       "      <td>0</td>\n",
       "    </tr>\n",
       "    <tr>\n",
       "      <th>597</th>\n",
       "      <td>11699822</td>\n",
       "      <td>1</td>\n",
       "      <td>full_time</td>\n",
       "      <td>False</td>\n",
       "      <td>False</td>\n",
       "      <td>1/5</td>\n",
       "      <td>1/5</td>\n",
       "      <td>2</td>\n",
       "      <td>1355622291</td>\n",
       "      <td>NaN</td>\n",
       "      <td>0</td>\n",
       "    </tr>\n",
       "  </tbody>\n",
       "</table>\n",
       "</div>"
      ],
      "text/plain": [
       "     match_id  market_id       market_name  is_live  suspended  \\\n",
       "8    11673962         11  first_set_winner    False      False   \n",
       "9    11673962         11  first_set_winner    False      False   \n",
       "10   11673962         12   total_games_won    False      False   \n",
       "11   11673962         12   total_games_won    False      False   \n",
       "176  11686275         11  first_set_winner    False      False   \n",
       "177  11686275         11  first_set_winner    False      False   \n",
       "178  11686275         12   total_games_won    False      False   \n",
       "179  11686275         12   total_games_won    False      False   \n",
       "374  11699064          1         full_time    False      False   \n",
       "375  11699064          1         full_time    False      False   \n",
       "596  11699822          1         full_time    False      False   \n",
       "597  11699822          1         full_time    False      False   \n",
       "\n",
       "    initial_fractional_value fractional_value choice_name  choice_source_id  \\\n",
       "8                        4/6              4/7           1        1354475382   \n",
       "9                      11/10              5/4           2        1354475404   \n",
       "10                       1/1            10/11        Over        1355457883   \n",
       "11                      8/11              4/5       Under        1355457864   \n",
       "176                      5/4              6/5           1        1357697485   \n",
       "177                      4/7             8/13           2        1357697532   \n",
       "178                      5/6              4/5        Over        1357929422   \n",
       "179                      5/6            10/11       Under        1357929325   \n",
       "374                      1/2              1/2           1        1353577213   \n",
       "375                      6/4              6/4           2        1353577228   \n",
       "596                     10/3             10/3           1        1355622204   \n",
       "597                      1/5              1/5           2        1355622291   \n",
       "\n",
       "    winnig  change  \n",
       "8      NaN      -1  \n",
       "9      NaN       1  \n",
       "10     NaN      -1  \n",
       "11     NaN       1  \n",
       "176    NaN      -1  \n",
       "177    NaN       1  \n",
       "178    NaN      -1  \n",
       "179    NaN       1  \n",
       "374    NaN       0  \n",
       "375    NaN       0  \n",
       "596    NaN       0  \n",
       "597    NaN       0  "
      ]
     },
     "execution_count": 167,
     "metadata": {},
     "output_type": "execute_result"
    }
   ],
   "source": [
    "null_wining = data_odds[data_odds['winnig'].isnull()]\n",
    "null_wining"
   ]
  },
  {
   "cell_type": "code",
   "execution_count": 168,
   "metadata": {},
   "outputs": [
    {
     "name": "stderr",
     "output_type": "stream",
     "text": [
      "C:\\Users\\eftekhari\\AppData\\Local\\Temp\\ipykernel_9312\\3552176098.py:8: FutureWarning: ChainedAssignmentError: behaviour will change in pandas 3.0!\n",
      "You are setting values through chained assignment. Currently this works in certain cases, but when using Copy-on-Write (which will become the default behaviour in pandas 3.0) this will never work to update the original DataFrame or Series, because the intermediate object on which we are setting values will behave as a copy.\n",
      "A typical example is when you are setting values in a column of a DataFrame, like:\n",
      "\n",
      "df[\"col\"][row_indexer] = value\n",
      "\n",
      "Use `df.loc[row_indexer, \"col\"] = values` instead, to perform the assignment in a single step and ensure this keeps updating the original `df`.\n",
      "\n",
      "See the caveats in the documentation: https://pandas.pydata.org/pandas-docs/stable/user_guide/indexing.html#returning-a-view-versus-a-copy\n",
      "\n",
      "  data_odds['winnig'][mask] = True if initial_fractional_value > fractional_value else False\n",
      "C:\\Users\\eftekhari\\AppData\\Local\\Temp\\ipykernel_9312\\3552176098.py:8: SettingWithCopyWarning: \n",
      "A value is trying to be set on a copy of a slice from a DataFrame\n",
      "\n",
      "See the caveats in the documentation: https://pandas.pydata.org/pandas-docs/stable/user_guide/indexing.html#returning-a-view-versus-a-copy\n",
      "  data_odds['winnig'][mask] = True if initial_fractional_value > fractional_value else False\n",
      "C:\\Users\\eftekhari\\AppData\\Local\\Temp\\ipykernel_9312\\3552176098.py:8: FutureWarning: ChainedAssignmentError: behaviour will change in pandas 3.0!\n",
      "You are setting values through chained assignment. Currently this works in certain cases, but when using Copy-on-Write (which will become the default behaviour in pandas 3.0) this will never work to update the original DataFrame or Series, because the intermediate object on which we are setting values will behave as a copy.\n",
      "A typical example is when you are setting values in a column of a DataFrame, like:\n",
      "\n",
      "df[\"col\"][row_indexer] = value\n",
      "\n",
      "Use `df.loc[row_indexer, \"col\"] = values` instead, to perform the assignment in a single step and ensure this keeps updating the original `df`.\n",
      "\n",
      "See the caveats in the documentation: https://pandas.pydata.org/pandas-docs/stable/user_guide/indexing.html#returning-a-view-versus-a-copy\n",
      "\n",
      "  data_odds['winnig'][mask] = True if initial_fractional_value > fractional_value else False\n",
      "C:\\Users\\eftekhari\\AppData\\Local\\Temp\\ipykernel_9312\\3552176098.py:8: SettingWithCopyWarning: \n",
      "A value is trying to be set on a copy of a slice from a DataFrame\n",
      "\n",
      "See the caveats in the documentation: https://pandas.pydata.org/pandas-docs/stable/user_guide/indexing.html#returning-a-view-versus-a-copy\n",
      "  data_odds['winnig'][mask] = True if initial_fractional_value > fractional_value else False\n",
      "C:\\Users\\eftekhari\\AppData\\Local\\Temp\\ipykernel_9312\\3552176098.py:8: FutureWarning: ChainedAssignmentError: behaviour will change in pandas 3.0!\n",
      "You are setting values through chained assignment. Currently this works in certain cases, but when using Copy-on-Write (which will become the default behaviour in pandas 3.0) this will never work to update the original DataFrame or Series, because the intermediate object on which we are setting values will behave as a copy.\n",
      "A typical example is when you are setting values in a column of a DataFrame, like:\n",
      "\n",
      "df[\"col\"][row_indexer] = value\n",
      "\n",
      "Use `df.loc[row_indexer, \"col\"] = values` instead, to perform the assignment in a single step and ensure this keeps updating the original `df`.\n",
      "\n",
      "See the caveats in the documentation: https://pandas.pydata.org/pandas-docs/stable/user_guide/indexing.html#returning-a-view-versus-a-copy\n",
      "\n",
      "  data_odds['winnig'][mask] = True if initial_fractional_value > fractional_value else False\n",
      "C:\\Users\\eftekhari\\AppData\\Local\\Temp\\ipykernel_9312\\3552176098.py:8: SettingWithCopyWarning: \n",
      "A value is trying to be set on a copy of a slice from a DataFrame\n",
      "\n",
      "See the caveats in the documentation: https://pandas.pydata.org/pandas-docs/stable/user_guide/indexing.html#returning-a-view-versus-a-copy\n",
      "  data_odds['winnig'][mask] = True if initial_fractional_value > fractional_value else False\n",
      "C:\\Users\\eftekhari\\AppData\\Local\\Temp\\ipykernel_9312\\3552176098.py:8: FutureWarning: ChainedAssignmentError: behaviour will change in pandas 3.0!\n",
      "You are setting values through chained assignment. Currently this works in certain cases, but when using Copy-on-Write (which will become the default behaviour in pandas 3.0) this will never work to update the original DataFrame or Series, because the intermediate object on which we are setting values will behave as a copy.\n",
      "A typical example is when you are setting values in a column of a DataFrame, like:\n",
      "\n",
      "df[\"col\"][row_indexer] = value\n",
      "\n",
      "Use `df.loc[row_indexer, \"col\"] = values` instead, to perform the assignment in a single step and ensure this keeps updating the original `df`.\n",
      "\n",
      "See the caveats in the documentation: https://pandas.pydata.org/pandas-docs/stable/user_guide/indexing.html#returning-a-view-versus-a-copy\n",
      "\n",
      "  data_odds['winnig'][mask] = True if initial_fractional_value > fractional_value else False\n",
      "C:\\Users\\eftekhari\\AppData\\Local\\Temp\\ipykernel_9312\\3552176098.py:8: SettingWithCopyWarning: \n",
      "A value is trying to be set on a copy of a slice from a DataFrame\n",
      "\n",
      "See the caveats in the documentation: https://pandas.pydata.org/pandas-docs/stable/user_guide/indexing.html#returning-a-view-versus-a-copy\n",
      "  data_odds['winnig'][mask] = True if initial_fractional_value > fractional_value else False\n",
      "C:\\Users\\eftekhari\\AppData\\Local\\Temp\\ipykernel_9312\\3552176098.py:8: FutureWarning: ChainedAssignmentError: behaviour will change in pandas 3.0!\n",
      "You are setting values through chained assignment. Currently this works in certain cases, but when using Copy-on-Write (which will become the default behaviour in pandas 3.0) this will never work to update the original DataFrame or Series, because the intermediate object on which we are setting values will behave as a copy.\n",
      "A typical example is when you are setting values in a column of a DataFrame, like:\n",
      "\n",
      "df[\"col\"][row_indexer] = value\n",
      "\n",
      "Use `df.loc[row_indexer, \"col\"] = values` instead, to perform the assignment in a single step and ensure this keeps updating the original `df`.\n",
      "\n",
      "See the caveats in the documentation: https://pandas.pydata.org/pandas-docs/stable/user_guide/indexing.html#returning-a-view-versus-a-copy\n",
      "\n",
      "  data_odds['winnig'][mask] = True if initial_fractional_value > fractional_value else False\n",
      "C:\\Users\\eftekhari\\AppData\\Local\\Temp\\ipykernel_9312\\3552176098.py:8: SettingWithCopyWarning: \n",
      "A value is trying to be set on a copy of a slice from a DataFrame\n",
      "\n",
      "See the caveats in the documentation: https://pandas.pydata.org/pandas-docs/stable/user_guide/indexing.html#returning-a-view-versus-a-copy\n",
      "  data_odds['winnig'][mask] = True if initial_fractional_value > fractional_value else False\n",
      "C:\\Users\\eftekhari\\AppData\\Local\\Temp\\ipykernel_9312\\3552176098.py:8: FutureWarning: ChainedAssignmentError: behaviour will change in pandas 3.0!\n",
      "You are setting values through chained assignment. Currently this works in certain cases, but when using Copy-on-Write (which will become the default behaviour in pandas 3.0) this will never work to update the original DataFrame or Series, because the intermediate object on which we are setting values will behave as a copy.\n",
      "A typical example is when you are setting values in a column of a DataFrame, like:\n",
      "\n",
      "df[\"col\"][row_indexer] = value\n",
      "\n",
      "Use `df.loc[row_indexer, \"col\"] = values` instead, to perform the assignment in a single step and ensure this keeps updating the original `df`.\n",
      "\n",
      "See the caveats in the documentation: https://pandas.pydata.org/pandas-docs/stable/user_guide/indexing.html#returning-a-view-versus-a-copy\n",
      "\n",
      "  data_odds['winnig'][mask] = True if initial_fractional_value > fractional_value else False\n",
      "C:\\Users\\eftekhari\\AppData\\Local\\Temp\\ipykernel_9312\\3552176098.py:8: SettingWithCopyWarning: \n",
      "A value is trying to be set on a copy of a slice from a DataFrame\n",
      "\n",
      "See the caveats in the documentation: https://pandas.pydata.org/pandas-docs/stable/user_guide/indexing.html#returning-a-view-versus-a-copy\n",
      "  data_odds['winnig'][mask] = True if initial_fractional_value > fractional_value else False\n",
      "C:\\Users\\eftekhari\\AppData\\Local\\Temp\\ipykernel_9312\\3552176098.py:8: FutureWarning: ChainedAssignmentError: behaviour will change in pandas 3.0!\n",
      "You are setting values through chained assignment. Currently this works in certain cases, but when using Copy-on-Write (which will become the default behaviour in pandas 3.0) this will never work to update the original DataFrame or Series, because the intermediate object on which we are setting values will behave as a copy.\n",
      "A typical example is when you are setting values in a column of a DataFrame, like:\n",
      "\n",
      "df[\"col\"][row_indexer] = value\n",
      "\n",
      "Use `df.loc[row_indexer, \"col\"] = values` instead, to perform the assignment in a single step and ensure this keeps updating the original `df`.\n",
      "\n",
      "See the caveats in the documentation: https://pandas.pydata.org/pandas-docs/stable/user_guide/indexing.html#returning-a-view-versus-a-copy\n",
      "\n",
      "  data_odds['winnig'][mask] = True if initial_fractional_value > fractional_value else False\n",
      "C:\\Users\\eftekhari\\AppData\\Local\\Temp\\ipykernel_9312\\3552176098.py:8: SettingWithCopyWarning: \n",
      "A value is trying to be set on a copy of a slice from a DataFrame\n",
      "\n",
      "See the caveats in the documentation: https://pandas.pydata.org/pandas-docs/stable/user_guide/indexing.html#returning-a-view-versus-a-copy\n",
      "  data_odds['winnig'][mask] = True if initial_fractional_value > fractional_value else False\n",
      "C:\\Users\\eftekhari\\AppData\\Local\\Temp\\ipykernel_9312\\3552176098.py:8: FutureWarning: ChainedAssignmentError: behaviour will change in pandas 3.0!\n",
      "You are setting values through chained assignment. Currently this works in certain cases, but when using Copy-on-Write (which will become the default behaviour in pandas 3.0) this will never work to update the original DataFrame or Series, because the intermediate object on which we are setting values will behave as a copy.\n",
      "A typical example is when you are setting values in a column of a DataFrame, like:\n",
      "\n",
      "df[\"col\"][row_indexer] = value\n",
      "\n",
      "Use `df.loc[row_indexer, \"col\"] = values` instead, to perform the assignment in a single step and ensure this keeps updating the original `df`.\n",
      "\n",
      "See the caveats in the documentation: https://pandas.pydata.org/pandas-docs/stable/user_guide/indexing.html#returning-a-view-versus-a-copy\n",
      "\n",
      "  data_odds['winnig'][mask] = True if initial_fractional_value > fractional_value else False\n",
      "C:\\Users\\eftekhari\\AppData\\Local\\Temp\\ipykernel_9312\\3552176098.py:8: SettingWithCopyWarning: \n",
      "A value is trying to be set on a copy of a slice from a DataFrame\n",
      "\n",
      "See the caveats in the documentation: https://pandas.pydata.org/pandas-docs/stable/user_guide/indexing.html#returning-a-view-versus-a-copy\n",
      "  data_odds['winnig'][mask] = True if initial_fractional_value > fractional_value else False\n"
     ]
    }
   ],
   "source": [
    "for match_id in null_wining['match_id']:\n",
    "    mask = data_odds['match_id'] == match_id\n",
    "    initial_fractional_value = data_odds['initial_fractional_value'][mask].apply(eval).iloc[0]\n",
    "    fractional_value = data_odds['fractional_value'][mask].apply(eval).iloc[0]\n",
    "    if initial_fractional_value == fractional_value:\n",
    "        data_odds.drop(data_odds[mask].index[0], inplace=True)\n",
    "    else:\n",
    "        data_odds['winnig'][mask] = True if initial_fractional_value > fractional_value else False"
   ]
  },
  {
   "cell_type": "markdown",
   "metadata": {},
   "source": [
    "#### match"
   ]
  },
  {
   "cell_type": "markdown",
   "metadata": {},
   "source": [
    "In this dataset, according to the reviews, all columns except \"name\" had only one value for each match_id. Since the \"name\" column did not affect the analysis, it was removed from the dataset, and the information for each match was consolidated into a single row.\n",
    "Then, the columns with all null values were removed.\n"
   ]
  },
  {
   "cell_type": "markdown",
   "metadata": {},
   "source": [
    "Then, several columns were filled with null values as needed, as follows:\n",
    "1. round_id: -1 was chosen to represent an unknown round number.\n",
    "2. ground_type: \"Unknown\" was chosen to represent an unknown ground type.\n",
    "3. country: \"Unknown\" was chosen to represent an unknown country.\n",
    "4. city: \"Unknown\" was chosen to represent an unknown city.\n",
    "\n",
    "Additionally, match 11688311 was removed due to a large number of empty columns.\n"
   ]
  },
  {
   "cell_type": "code",
   "execution_count": 169,
   "metadata": {},
   "outputs": [
    {
     "data": {
      "text/plain": [
       "match_id                              0\n",
       "first_to_serve                     3787\n",
       "home_team_seed                     3603\n",
       "away_team_seed                     3604\n",
       "custom_id                          3232\n",
       "winner_code                        3239\n",
       "default_period_count               3232\n",
       "start_datetime                     3232\n",
       "match_slug                         3232\n",
       "final_result_only                  3232\n",
       "round_id                           3819\n",
       "name                               3055\n",
       "slug                               3819\n",
       "cup_round_type                     3927\n",
       "season_id                          3232\n",
       "year                               3232\n",
       "period_1                           3676\n",
       "period_2                           3677\n",
       "period_3                           3889\n",
       "period_4                           3996\n",
       "period_5                           3996\n",
       "current_period_start_timestamp     3667\n",
       "tournament_id                      3232\n",
       "tournament_name                    3232\n",
       "tournament_slug                    3232\n",
       "tournament_unique_id               3996\n",
       "tournament_category_name           3232\n",
       "tournament_category_slug           3232\n",
       "user_count                         3232\n",
       "ground_type                        3249\n",
       "tennis_points                      3832\n",
       "has_event_player_statistics        3232\n",
       "crowd_sourcing_enabled             3232\n",
       "has_performance_graph_feature      3232\n",
       "display_inverse_home_away_teams    3232\n",
       "priority                           3232\n",
       "competition_type                   3232\n",
       "city                               3234\n",
       "stadium                            3233\n",
       "venue_id                           3233\n",
       "country                            3234\n",
       "dtype: int64"
      ]
     },
     "execution_count": 169,
     "metadata": {},
     "output_type": "execute_result"
    }
   ],
   "source": [
    "data_match.isnull().sum()"
   ]
  },
  {
   "cell_type": "code",
   "execution_count": 170,
   "metadata": {},
   "outputs": [
    {
     "data": {
      "text/plain": [
       "first_to_serve                     1\n",
       "home_team_seed                     1\n",
       "away_team_seed                     1\n",
       "custom_id                          1\n",
       "winner_code                        1\n",
       "default_period_count               1\n",
       "start_datetime                     1\n",
       "match_slug                         1\n",
       "final_result_only                  1\n",
       "round_id                           1\n",
       "name                               2\n",
       "slug                               1\n",
       "cup_round_type                     1\n",
       "season_id                          1\n",
       "year                               1\n",
       "period_1                           1\n",
       "period_2                           1\n",
       "period_3                           1\n",
       "period_4                           0\n",
       "period_5                           0\n",
       "current_period_start_timestamp     1\n",
       "tournament_id                      1\n",
       "tournament_name                    1\n",
       "tournament_slug                    1\n",
       "tournament_unique_id               0\n",
       "tournament_category_name           1\n",
       "tournament_category_slug           1\n",
       "user_count                         1\n",
       "ground_type                        1\n",
       "tennis_points                      1\n",
       "has_event_player_statistics        1\n",
       "crowd_sourcing_enabled             1\n",
       "has_performance_graph_feature      1\n",
       "display_inverse_home_away_teams    1\n",
       "priority                           1\n",
       "competition_type                   1\n",
       "city                               1\n",
       "stadium                            1\n",
       "venue_id                           1\n",
       "country                            1\n",
       "dtype: int64"
      ]
     },
     "execution_count": 170,
     "metadata": {},
     "output_type": "execute_result"
    }
   ],
   "source": [
    "data_match.groupby('match_id').nunique().max()"
   ]
  },
  {
   "cell_type": "code",
   "execution_count": 171,
   "metadata": {},
   "outputs": [
    {
     "data": {
      "text/html": [
       "<div>\n",
       "<style scoped>\n",
       "    .dataframe tbody tr th:only-of-type {\n",
       "        vertical-align: middle;\n",
       "    }\n",
       "\n",
       "    .dataframe tbody tr th {\n",
       "        vertical-align: top;\n",
       "    }\n",
       "\n",
       "    .dataframe thead th {\n",
       "        text-align: right;\n",
       "    }\n",
       "</style>\n",
       "<table border=\"1\" class=\"dataframe\">\n",
       "  <thead>\n",
       "    <tr style=\"text-align: right;\">\n",
       "      <th></th>\n",
       "      <th>match_id</th>\n",
       "      <th>first_to_serve</th>\n",
       "      <th>home_team_seed</th>\n",
       "      <th>away_team_seed</th>\n",
       "      <th>custom_id</th>\n",
       "      <th>winner_code</th>\n",
       "      <th>default_period_count</th>\n",
       "      <th>start_datetime</th>\n",
       "      <th>match_slug</th>\n",
       "      <th>final_result_only</th>\n",
       "      <th>...</th>\n",
       "      <th>has_event_player_statistics</th>\n",
       "      <th>crowd_sourcing_enabled</th>\n",
       "      <th>has_performance_graph_feature</th>\n",
       "      <th>display_inverse_home_away_teams</th>\n",
       "      <th>priority</th>\n",
       "      <th>competition_type</th>\n",
       "      <th>city</th>\n",
       "      <th>stadium</th>\n",
       "      <th>venue_id</th>\n",
       "      <th>country</th>\n",
       "    </tr>\n",
       "  </thead>\n",
       "  <tbody>\n",
       "    <tr>\n",
       "      <th>0</th>\n",
       "      <td>11673958</td>\n",
       "      <td>NaN</td>\n",
       "      <td>1</td>\n",
       "      <td>4</td>\n",
       "      <td>JgdbspFNb</td>\n",
       "      <td>2.0</td>\n",
       "      <td>3.0</td>\n",
       "      <td>1.696095e+09</td>\n",
       "      <td>tirante-barrios-vera</td>\n",
       "      <td>False</td>\n",
       "      <td>...</td>\n",
       "      <td>False</td>\n",
       "      <td>False</td>\n",
       "      <td>False</td>\n",
       "      <td>False</td>\n",
       "      <td>0.0</td>\n",
       "      <td>2.0</td>\n",
       "      <td>Bogota</td>\n",
       "      <td>Cancha Central</td>\n",
       "      <td>18338.0</td>\n",
       "      <td>Colombia</td>\n",
       "    </tr>\n",
       "    <tr>\n",
       "      <th>1</th>\n",
       "      <td>11673962</td>\n",
       "      <td>NaN</td>\n",
       "      <td>4</td>\n",
       "      <td>None</td>\n",
       "      <td>pFNbsHbwc</td>\n",
       "      <td>1.0</td>\n",
       "      <td>3.0</td>\n",
       "      <td>1.696176e+09</td>\n",
       "      <td>heide-tirante</td>\n",
       "      <td>False</td>\n",
       "      <td>...</td>\n",
       "      <td>False</td>\n",
       "      <td>False</td>\n",
       "      <td>False</td>\n",
       "      <td>False</td>\n",
       "      <td>0.0</td>\n",
       "      <td>2.0</td>\n",
       "      <td>Bogota</td>\n",
       "      <td>Cancha Central</td>\n",
       "      <td>18338.0</td>\n",
       "      <td>Colombia</td>\n",
       "    </tr>\n",
       "    <tr>\n",
       "      <th>2</th>\n",
       "      <td>11673963</td>\n",
       "      <td>NaN</td>\n",
       "      <td>None</td>\n",
       "      <td>None</td>\n",
       "      <td>fTxsHbwc</td>\n",
       "      <td>1.0</td>\n",
       "      <td>3.0</td>\n",
       "      <td>1.696088e+09</td>\n",
       "      <td>heide-jorda-sanchis</td>\n",
       "      <td>False</td>\n",
       "      <td>...</td>\n",
       "      <td>False</td>\n",
       "      <td>False</td>\n",
       "      <td>False</td>\n",
       "      <td>False</td>\n",
       "      <td>0.0</td>\n",
       "      <td>2.0</td>\n",
       "      <td>Bogota</td>\n",
       "      <td>Cancha Central</td>\n",
       "      <td>18338.0</td>\n",
       "      <td>Colombia</td>\n",
       "    </tr>\n",
       "    <tr>\n",
       "      <th>3</th>\n",
       "      <td>11673993</td>\n",
       "      <td>NaN</td>\n",
       "      <td>None</td>\n",
       "      <td>Q</td>\n",
       "      <td>axvsGQHb</td>\n",
       "      <td>2.0</td>\n",
       "      <td>3.0</td>\n",
       "      <td>1.696154e+09</td>\n",
       "      <td>ajdukovic-roca-batalla</td>\n",
       "      <td>False</td>\n",
       "      <td>...</td>\n",
       "      <td>False</td>\n",
       "      <td>False</td>\n",
       "      <td>False</td>\n",
       "      <td>False</td>\n",
       "      <td>0.0</td>\n",
       "      <td>2.0</td>\n",
       "      <td>Braga</td>\n",
       "      <td>Court Central</td>\n",
       "      <td>21510.0</td>\n",
       "      <td>Portugal</td>\n",
       "    </tr>\n",
       "    <tr>\n",
       "      <th>4</th>\n",
       "      <td>11674000</td>\n",
       "      <td>NaN</td>\n",
       "      <td>Q</td>\n",
       "      <td>WC</td>\n",
       "      <td>QjHshlKb</td>\n",
       "      <td>2.0</td>\n",
       "      <td>3.0</td>\n",
       "      <td>1.696086e+09</td>\n",
       "      <td>crawford-escobedo</td>\n",
       "      <td>False</td>\n",
       "      <td>...</td>\n",
       "      <td>False</td>\n",
       "      <td>False</td>\n",
       "      <td>False</td>\n",
       "      <td>False</td>\n",
       "      <td>0.0</td>\n",
       "      <td>2.0</td>\n",
       "      <td>Charleston</td>\n",
       "      <td>Center Court</td>\n",
       "      <td>32522.0</td>\n",
       "      <td>USA</td>\n",
       "    </tr>\n",
       "    <tr>\n",
       "      <th>...</th>\n",
       "      <td>...</td>\n",
       "      <td>...</td>\n",
       "      <td>...</td>\n",
       "      <td>...</td>\n",
       "      <td>...</td>\n",
       "      <td>...</td>\n",
       "      <td>...</td>\n",
       "      <td>...</td>\n",
       "      <td>...</td>\n",
       "      <td>...</td>\n",
       "      <td>...</td>\n",
       "      <td>...</td>\n",
       "      <td>...</td>\n",
       "      <td>...</td>\n",
       "      <td>...</td>\n",
       "      <td>...</td>\n",
       "      <td>...</td>\n",
       "      <td>...</td>\n",
       "      <td>...</td>\n",
       "      <td>...</td>\n",
       "      <td>...</td>\n",
       "    </tr>\n",
       "    <tr>\n",
       "      <th>759</th>\n",
       "      <td>11703444</td>\n",
       "      <td>1.0</td>\n",
       "      <td>None</td>\n",
       "      <td>12</td>\n",
       "      <td>cmGbshyJc</td>\n",
       "      <td>1.0</td>\n",
       "      <td>3.0</td>\n",
       "      <td>1.696250e+09</td>\n",
       "      <td>munoz-pohjola</td>\n",
       "      <td>False</td>\n",
       "      <td>...</td>\n",
       "      <td>False</td>\n",
       "      <td>False</td>\n",
       "      <td>False</td>\n",
       "      <td>False</td>\n",
       "      <td>0.0</td>\n",
       "      <td>2.0</td>\n",
       "      <td>Monastir</td>\n",
       "      <td>Court 5</td>\n",
       "      <td>23362.0</td>\n",
       "      <td>Tunisia</td>\n",
       "    </tr>\n",
       "    <tr>\n",
       "      <th>760</th>\n",
       "      <td>11703445</td>\n",
       "      <td>1.0</td>\n",
       "      <td>4</td>\n",
       "      <td>10</td>\n",
       "      <td>POOcszQjd</td>\n",
       "      <td>1.0</td>\n",
       "      <td>3.0</td>\n",
       "      <td>1.696250e+09</td>\n",
       "      <td>maute-nad</td>\n",
       "      <td>False</td>\n",
       "      <td>...</td>\n",
       "      <td>False</td>\n",
       "      <td>False</td>\n",
       "      <td>False</td>\n",
       "      <td>False</td>\n",
       "      <td>0.0</td>\n",
       "      <td>2.0</td>\n",
       "      <td>Monastir</td>\n",
       "      <td>Court 3</td>\n",
       "      <td>23363.0</td>\n",
       "      <td>Tunisia</td>\n",
       "    </tr>\n",
       "    <tr>\n",
       "      <th>761</th>\n",
       "      <td>11703470</td>\n",
       "      <td>1.0</td>\n",
       "      <td>1</td>\n",
       "      <td>13</td>\n",
       "      <td>ohrsqNL</td>\n",
       "      <td>1.0</td>\n",
       "      <td>3.0</td>\n",
       "      <td>1.696255e+09</td>\n",
       "      <td>grey-lizarazo</td>\n",
       "      <td>False</td>\n",
       "      <td>...</td>\n",
       "      <td>False</td>\n",
       "      <td>False</td>\n",
       "      <td>False</td>\n",
       "      <td>False</td>\n",
       "      <td>0.0</td>\n",
       "      <td>2.0</td>\n",
       "      <td>Reims</td>\n",
       "      <td>Court Central</td>\n",
       "      <td>41907.0</td>\n",
       "      <td>France</td>\n",
       "    </tr>\n",
       "    <tr>\n",
       "      <th>762</th>\n",
       "      <td>11703524</td>\n",
       "      <td>1.0</td>\n",
       "      <td>7</td>\n",
       "      <td>None</td>\n",
       "      <td>UmGcsqnpd</td>\n",
       "      <td>1.0</td>\n",
       "      <td>3.0</td>\n",
       "      <td>1.696253e+09</td>\n",
       "      <td>panaras-morolli</td>\n",
       "      <td>False</td>\n",
       "      <td>...</td>\n",
       "      <td>False</td>\n",
       "      <td>False</td>\n",
       "      <td>False</td>\n",
       "      <td>False</td>\n",
       "      <td>0.0</td>\n",
       "      <td>2.0</td>\n",
       "      <td>Monastir</td>\n",
       "      <td>Court 1</td>\n",
       "      <td>23881.0</td>\n",
       "      <td>Tunisia</td>\n",
       "    </tr>\n",
       "    <tr>\n",
       "      <th>763</th>\n",
       "      <td>11703525</td>\n",
       "      <td>2.0</td>\n",
       "      <td>None</td>\n",
       "      <td>None</td>\n",
       "      <td>bEOsPWTd</td>\n",
       "      <td>1.0</td>\n",
       "      <td>3.0</td>\n",
       "      <td>1.696252e+09</td>\n",
       "      <td>benson-milushev</td>\n",
       "      <td>False</td>\n",
       "      <td>...</td>\n",
       "      <td>False</td>\n",
       "      <td>False</td>\n",
       "      <td>False</td>\n",
       "      <td>False</td>\n",
       "      <td>0.0</td>\n",
       "      <td>2.0</td>\n",
       "      <td>Pazardzhik</td>\n",
       "      <td>Court 5</td>\n",
       "      <td>39394.0</td>\n",
       "      <td>Bulgaria</td>\n",
       "    </tr>\n",
       "  </tbody>\n",
       "</table>\n",
       "<p>764 rows × 40 columns</p>\n",
       "</div>"
      ],
      "text/plain": [
       "     match_id  first_to_serve home_team_seed away_team_seed  custom_id  \\\n",
       "0    11673958             NaN              1              4  JgdbspFNb   \n",
       "1    11673962             NaN              4           None  pFNbsHbwc   \n",
       "2    11673963             NaN           None           None   fTxsHbwc   \n",
       "3    11673993             NaN           None              Q   axvsGQHb   \n",
       "4    11674000             NaN              Q             WC   QjHshlKb   \n",
       "..        ...             ...            ...            ...        ...   \n",
       "759  11703444             1.0           None             12  cmGbshyJc   \n",
       "760  11703445             1.0              4             10  POOcszQjd   \n",
       "761  11703470             1.0              1             13    ohrsqNL   \n",
       "762  11703524             1.0              7           None  UmGcsqnpd   \n",
       "763  11703525             2.0           None           None   bEOsPWTd   \n",
       "\n",
       "     winner_code  default_period_count  start_datetime  \\\n",
       "0            2.0                   3.0    1.696095e+09   \n",
       "1            1.0                   3.0    1.696176e+09   \n",
       "2            1.0                   3.0    1.696088e+09   \n",
       "3            2.0                   3.0    1.696154e+09   \n",
       "4            2.0                   3.0    1.696086e+09   \n",
       "..           ...                   ...             ...   \n",
       "759          1.0                   3.0    1.696250e+09   \n",
       "760          1.0                   3.0    1.696250e+09   \n",
       "761          1.0                   3.0    1.696255e+09   \n",
       "762          1.0                   3.0    1.696253e+09   \n",
       "763          1.0                   3.0    1.696252e+09   \n",
       "\n",
       "                 match_slug final_result_only  ...  \\\n",
       "0      tirante-barrios-vera             False  ...   \n",
       "1             heide-tirante             False  ...   \n",
       "2       heide-jorda-sanchis             False  ...   \n",
       "3    ajdukovic-roca-batalla             False  ...   \n",
       "4         crawford-escobedo             False  ...   \n",
       "..                      ...               ...  ...   \n",
       "759           munoz-pohjola             False  ...   \n",
       "760               maute-nad             False  ...   \n",
       "761           grey-lizarazo             False  ...   \n",
       "762         panaras-morolli             False  ...   \n",
       "763         benson-milushev             False  ...   \n",
       "\n",
       "     has_event_player_statistics crowd_sourcing_enabled  \\\n",
       "0                          False                  False   \n",
       "1                          False                  False   \n",
       "2                          False                  False   \n",
       "3                          False                  False   \n",
       "4                          False                  False   \n",
       "..                           ...                    ...   \n",
       "759                        False                  False   \n",
       "760                        False                  False   \n",
       "761                        False                  False   \n",
       "762                        False                  False   \n",
       "763                        False                  False   \n",
       "\n",
       "     has_performance_graph_feature  display_inverse_home_away_teams  priority  \\\n",
       "0                            False                            False       0.0   \n",
       "1                            False                            False       0.0   \n",
       "2                            False                            False       0.0   \n",
       "3                            False                            False       0.0   \n",
       "4                            False                            False       0.0   \n",
       "..                             ...                              ...       ...   \n",
       "759                          False                            False       0.0   \n",
       "760                          False                            False       0.0   \n",
       "761                          False                            False       0.0   \n",
       "762                          False                            False       0.0   \n",
       "763                          False                            False       0.0   \n",
       "\n",
       "     competition_type        city         stadium  venue_id   country  \n",
       "0                 2.0      Bogota  Cancha Central   18338.0  Colombia  \n",
       "1                 2.0      Bogota  Cancha Central   18338.0  Colombia  \n",
       "2                 2.0      Bogota  Cancha Central   18338.0  Colombia  \n",
       "3                 2.0       Braga   Court Central   21510.0  Portugal  \n",
       "4                 2.0  Charleston    Center Court   32522.0       USA  \n",
       "..                ...         ...             ...       ...       ...  \n",
       "759               2.0    Monastir         Court 5   23362.0   Tunisia  \n",
       "760               2.0    Monastir         Court 3   23363.0   Tunisia  \n",
       "761               2.0       Reims   Court Central   41907.0    France  \n",
       "762               2.0    Monastir         Court 1   23881.0   Tunisia  \n",
       "763               2.0  Pazardzhik         Court 5   39394.0  Bulgaria  \n",
       "\n",
       "[764 rows x 40 columns]"
      ]
     },
     "execution_count": 171,
     "metadata": {},
     "output_type": "execute_result"
    }
   ],
   "source": [
    "data_match = data_match.drop(columns=['name'])\n",
    "data_match = data_match.groupby('match_id').first()\n",
    "data_match = data_match.reset_index()\n",
    "data_match"
   ]
  },
  {
   "cell_type": "code",
   "execution_count": 172,
   "metadata": {},
   "outputs": [],
   "source": [
    "data_match.dropna(axis=1, how='all', inplace=True)"
   ]
  },
  {
   "cell_type": "code",
   "execution_count": 173,
   "metadata": {},
   "outputs": [
    {
     "data": {
      "text/plain": [
       "match_id                             0\n",
       "first_to_serve                     555\n",
       "home_team_seed                     371\n",
       "away_team_seed                     372\n",
       "custom_id                            0\n",
       "winner_code                          7\n",
       "default_period_count                 0\n",
       "start_datetime                       0\n",
       "match_slug                           0\n",
       "final_result_only                    0\n",
       "round_id                           587\n",
       "slug                               587\n",
       "cup_round_type                     695\n",
       "season_id                            0\n",
       "year                                 0\n",
       "period_1                           444\n",
       "period_2                           445\n",
       "period_3                           657\n",
       "current_period_start_timestamp     435\n",
       "tournament_id                        0\n",
       "tournament_name                      0\n",
       "tournament_slug                      0\n",
       "tournament_category_name             0\n",
       "tournament_category_slug             0\n",
       "user_count                           0\n",
       "ground_type                         17\n",
       "tennis_points                      600\n",
       "has_event_player_statistics          0\n",
       "crowd_sourcing_enabled               0\n",
       "has_performance_graph_feature        0\n",
       "display_inverse_home_away_teams      0\n",
       "priority                             0\n",
       "competition_type                     0\n",
       "city                                 2\n",
       "stadium                              1\n",
       "venue_id                             1\n",
       "country                              2\n",
       "dtype: int64"
      ]
     },
     "execution_count": 173,
     "metadata": {},
     "output_type": "execute_result"
    }
   ],
   "source": [
    "data_match.isnull().sum()"
   ]
  },
  {
   "cell_type": "code",
   "execution_count": 174,
   "metadata": {},
   "outputs": [],
   "source": [
    "data_match['round_id'] = data_match['round_id'].fillna(-1)\n",
    "data_match['ground_type'] = data_match['ground_type'].fillna(\"Unknown\")"
   ]
  },
  {
   "cell_type": "code",
   "execution_count": 175,
   "metadata": {},
   "outputs": [
    {
     "data": {
      "text/html": [
       "<div>\n",
       "<style scoped>\n",
       "    .dataframe tbody tr th:only-of-type {\n",
       "        vertical-align: middle;\n",
       "    }\n",
       "\n",
       "    .dataframe tbody tr th {\n",
       "        vertical-align: top;\n",
       "    }\n",
       "\n",
       "    .dataframe thead th {\n",
       "        text-align: right;\n",
       "    }\n",
       "</style>\n",
       "<table border=\"1\" class=\"dataframe\">\n",
       "  <thead>\n",
       "    <tr style=\"text-align: right;\">\n",
       "      <th></th>\n",
       "      <th>match_id</th>\n",
       "      <th>first_to_serve</th>\n",
       "      <th>home_team_seed</th>\n",
       "      <th>away_team_seed</th>\n",
       "      <th>custom_id</th>\n",
       "      <th>winner_code</th>\n",
       "      <th>default_period_count</th>\n",
       "      <th>start_datetime</th>\n",
       "      <th>match_slug</th>\n",
       "      <th>final_result_only</th>\n",
       "      <th>...</th>\n",
       "      <th>has_event_player_statistics</th>\n",
       "      <th>crowd_sourcing_enabled</th>\n",
       "      <th>has_performance_graph_feature</th>\n",
       "      <th>display_inverse_home_away_teams</th>\n",
       "      <th>priority</th>\n",
       "      <th>competition_type</th>\n",
       "      <th>city</th>\n",
       "      <th>stadium</th>\n",
       "      <th>venue_id</th>\n",
       "      <th>country</th>\n",
       "    </tr>\n",
       "  </thead>\n",
       "  <tbody>\n",
       "    <tr>\n",
       "      <th>32</th>\n",
       "      <td>11688311</td>\n",
       "      <td>NaN</td>\n",
       "      <td>None</td>\n",
       "      <td>4</td>\n",
       "      <td>jQRbstMgd</td>\n",
       "      <td>NaN</td>\n",
       "      <td>3.0</td>\n",
       "      <td>1.696086e+09</td>\n",
       "      <td>razeghi-smith</td>\n",
       "      <td>True</td>\n",
       "      <td>...</td>\n",
       "      <td>False</td>\n",
       "      <td>False</td>\n",
       "      <td>False</td>\n",
       "      <td>False</td>\n",
       "      <td>0.0</td>\n",
       "      <td>2.0</td>\n",
       "      <td>None</td>\n",
       "      <td>None</td>\n",
       "      <td>NaN</td>\n",
       "      <td>None</td>\n",
       "    </tr>\n",
       "    <tr>\n",
       "      <th>752</th>\n",
       "      <td>11702248</td>\n",
       "      <td>2.0</td>\n",
       "      <td>2</td>\n",
       "      <td>None</td>\n",
       "      <td>bzTswBdd</td>\n",
       "      <td>2.0</td>\n",
       "      <td>3.0</td>\n",
       "      <td>1.696255e+09</td>\n",
       "      <td>lincer-noel</td>\n",
       "      <td>False</td>\n",
       "      <td>...</td>\n",
       "      <td>False</td>\n",
       "      <td>False</td>\n",
       "      <td>False</td>\n",
       "      <td>False</td>\n",
       "      <td>0.0</td>\n",
       "      <td>2.0</td>\n",
       "      <td>None</td>\n",
       "      <td>Court 3</td>\n",
       "      <td>36105.0</td>\n",
       "      <td>None</td>\n",
       "    </tr>\n",
       "  </tbody>\n",
       "</table>\n",
       "<p>2 rows × 37 columns</p>\n",
       "</div>"
      ],
      "text/plain": [
       "     match_id  first_to_serve home_team_seed away_team_seed  custom_id  \\\n",
       "32   11688311             NaN           None              4  jQRbstMgd   \n",
       "752  11702248             2.0              2           None   bzTswBdd   \n",
       "\n",
       "     winner_code  default_period_count  start_datetime     match_slug  \\\n",
       "32           NaN                   3.0    1.696086e+09  razeghi-smith   \n",
       "752          2.0                   3.0    1.696255e+09    lincer-noel   \n",
       "\n",
       "    final_result_only  ...  has_event_player_statistics  \\\n",
       "32               True  ...                        False   \n",
       "752             False  ...                        False   \n",
       "\n",
       "    crowd_sourcing_enabled  has_performance_graph_feature  \\\n",
       "32                   False                          False   \n",
       "752                  False                          False   \n",
       "\n",
       "     display_inverse_home_away_teams  priority  competition_type  city  \\\n",
       "32                             False       0.0               2.0  None   \n",
       "752                            False       0.0               2.0  None   \n",
       "\n",
       "     stadium  venue_id  country  \n",
       "32      None       NaN     None  \n",
       "752  Court 3   36105.0     None  \n",
       "\n",
       "[2 rows x 37 columns]"
      ]
     },
     "execution_count": 175,
     "metadata": {},
     "output_type": "execute_result"
    }
   ],
   "source": [
    "data_match[data_match['city'].isnull()]"
   ]
  },
  {
   "cell_type": "code",
   "execution_count": 176,
   "metadata": {},
   "outputs": [
    {
     "name": "stdout",
     "output_type": "stream",
     "text": [
      "   country  city\n",
      "32    None  None\n",
      "    country  city\n",
      "752    None  None\n"
     ]
    }
   ],
   "source": [
    "print(data_match[data_match['match_id'] == 11688311][['country', 'city']])\n",
    "print(data_match[data_match['match_id'] == 11702248][['country', 'city']])"
   ]
  },
  {
   "cell_type": "code",
   "execution_count": 177,
   "metadata": {},
   "outputs": [],
   "source": [
    "data_match['country'] = data_match['country'].fillna(\"Unknown\")\n",
    "data_match['city'] = data_match['city'].fillna(\"Unknown\")"
   ]
  },
  {
   "cell_type": "code",
   "execution_count": 178,
   "metadata": {},
   "outputs": [
    {
     "data": {
      "text/plain": [
       "match_id                           0\n",
       "first_to_serve                     1\n",
       "home_team_seed                     1\n",
       "away_team_seed                     0\n",
       "custom_id                          0\n",
       "winner_code                        1\n",
       "default_period_count               0\n",
       "start_datetime                     0\n",
       "match_slug                         0\n",
       "final_result_only                  0\n",
       "round_id                           0\n",
       "slug                               0\n",
       "cup_round_type                     0\n",
       "season_id                          0\n",
       "year                               0\n",
       "period_1                           1\n",
       "period_2                           1\n",
       "period_3                           1\n",
       "current_period_start_timestamp     1\n",
       "tournament_id                      0\n",
       "tournament_name                    0\n",
       "tournament_slug                    0\n",
       "tournament_category_name           0\n",
       "tournament_category_slug           0\n",
       "user_count                         0\n",
       "ground_type                        0\n",
       "tennis_points                      1\n",
       "has_event_player_statistics        0\n",
       "crowd_sourcing_enabled             0\n",
       "has_performance_graph_feature      0\n",
       "display_inverse_home_away_teams    0\n",
       "priority                           0\n",
       "competition_type                   0\n",
       "city                               0\n",
       "stadium                            1\n",
       "venue_id                           1\n",
       "country                            0\n",
       "dtype: int64"
      ]
     },
     "execution_count": 178,
     "metadata": {},
     "output_type": "execute_result"
    }
   ],
   "source": [
    "data_match[data_match['match_id'] == 11688311].isnull().sum()"
   ]
  },
  {
   "cell_type": "code",
   "execution_count": 179,
   "metadata": {},
   "outputs": [],
   "source": [
    "data_match.drop(index=data_match[data_match['match_id'] == 11688311].index, inplace=True)"
   ]
  },
  {
   "cell_type": "markdown",
   "metadata": {},
   "source": [
    "#### home_team"
   ]
  },
  {
   "cell_type": "markdown",
   "metadata": {},
   "source": [
    "The null values in some columns were filled as needed, as follows:\n",
    "1. country: Only one value was missing, which was filled with the actual value based on the city of birth.\n",
    "2. current_rank: Filled with -1 to represent an unknown rank.\n",
    "3. total_prize and current_prize: Filled with 0 to represent not winning a prize.\n",
    "4. residence, birthplace, and plays: Filled with \"Unknown\" to represent unknown values.\n"
   ]
  },
  {
   "cell_type": "code",
   "execution_count": 180,
   "metadata": {},
   "outputs": [
    {
     "data": {
      "text/plain": [
       "match_id           0\n",
       "name               0\n",
       "slug               0\n",
       "gender             0\n",
       "user_count         0\n",
       "residence        324\n",
       "birthplace       191\n",
       "height           199\n",
       "weight           324\n",
       "plays            255\n",
       "turned_pro       371\n",
       "current_prize      9\n",
       "total_prize        4\n",
       "player_id          0\n",
       "current_rank       6\n",
       "name_code          0\n",
       "country            1\n",
       "full_name          0\n",
       "dtype: int64"
      ]
     },
     "execution_count": 180,
     "metadata": {},
     "output_type": "execute_result"
    }
   ],
   "source": [
    "data_home_team.isnull().sum()"
   ]
  },
  {
   "cell_type": "code",
   "execution_count": 181,
   "metadata": {},
   "outputs": [
    {
     "name": "stdout",
     "output_type": "stream",
     "text": [
      "<class 'pandas.core.frame.DataFrame'>\n",
      "RangeIndex: 436 entries, 0 to 435\n",
      "Data columns (total 18 columns):\n",
      " #   Column         Non-Null Count  Dtype  \n",
      "---  ------         --------------  -----  \n",
      " 0   match_id       436 non-null    int64  \n",
      " 1   name           436 non-null    object \n",
      " 2   slug           436 non-null    object \n",
      " 3   gender         436 non-null    object \n",
      " 4   user_count     436 non-null    int64  \n",
      " 5   residence      112 non-null    object \n",
      " 6   birthplace     245 non-null    object \n",
      " 7   height         237 non-null    float64\n",
      " 8   weight         112 non-null    float64\n",
      " 9   plays          181 non-null    object \n",
      " 10  turned_pro     65 non-null     float64\n",
      " 11  current_prize  427 non-null    float64\n",
      " 12  total_prize    432 non-null    float64\n",
      " 13  player_id      436 non-null    int64  \n",
      " 14  current_rank   430 non-null    float64\n",
      " 15  name_code      436 non-null    object \n",
      " 16  country        435 non-null    object \n",
      " 17  full_name      436 non-null    object \n",
      "dtypes: float64(6), int64(3), object(9)\n",
      "memory usage: 61.4+ KB\n"
     ]
    }
   ],
   "source": [
    "data_home_team.info()"
   ]
  },
  {
   "cell_type": "code",
   "execution_count": 182,
   "metadata": {},
   "outputs": [
    {
     "data": {
      "text/plain": [
       "293    Saipan\n",
       "Name: birthplace, dtype: object"
      ]
     },
     "execution_count": 182,
     "metadata": {},
     "output_type": "execute_result"
    }
   ],
   "source": [
    "data_home_team[data_home_team['country'].isnull()]['birthplace']"
   ]
  },
  {
   "cell_type": "code",
   "execution_count": 183,
   "metadata": {},
   "outputs": [],
   "source": [
    "data_home_team.loc[data_home_team['birthplace'] == 'Saipan', 'country'] = 'USA'"
   ]
  },
  {
   "cell_type": "code",
   "execution_count": 184,
   "metadata": {},
   "outputs": [],
   "source": [
    "data_home_team['current_rank'] = data_home_team['current_rank'].fillna(-1)"
   ]
  },
  {
   "cell_type": "code",
   "execution_count": 185,
   "metadata": {},
   "outputs": [
    {
     "name": "stdout",
     "output_type": "stream",
     "text": [
      "count    4.320000e+02\n",
      "mean     1.025500e+06\n",
      "std      4.142025e+06\n",
      "min      4.950000e+02\n",
      "25%      7.353750e+03\n",
      "50%      2.194550e+04\n",
      "75%      1.643608e+05\n",
      "max      3.152513e+07\n",
      "Name: total_prize, dtype: float64\n",
      "count    4.270000e+02\n",
      "mean     2.104000e+05\n",
      "std      8.359959e+05\n",
      "min      0.000000e+00\n",
      "25%      2.497500e+03\n",
      "50%      7.185000e+03\n",
      "75%      3.476700e+04\n",
      "max      8.961193e+06\n",
      "Name: current_prize, dtype: float64\n"
     ]
    }
   ],
   "source": [
    "print(data_home_team['total_prize'].describe())\n",
    "print(data_home_team['current_prize'].describe())"
   ]
  },
  {
   "cell_type": "code",
   "execution_count": 186,
   "metadata": {},
   "outputs": [],
   "source": [
    "data_home_team['total_prize'] = data_home_team['total_prize'].fillna(0)\n",
    "data_home_team['current_prize'] = data_home_team['current_prize'].fillna(0)"
   ]
  },
  {
   "cell_type": "code",
   "execution_count": 187,
   "metadata": {},
   "outputs": [],
   "source": [
    "data_home_team['residence'] = data_home_team['residence'].fillna(\"Unknown\")\n",
    "data_home_team['birthplace'] = data_home_team['birthplace'].fillna(\"Unknown\")\n",
    "data_home_team['plays'] =data_home_team['plays'].fillna(\"Unknown\")"
   ]
  },
  {
   "cell_type": "markdown",
   "metadata": {},
   "source": [
    "#### away_team"
   ]
  },
  {
   "cell_type": "markdown",
   "metadata": {},
   "source": [
    "The null values in some columns were filled as needed, as follows:\n",
    "1. country: Only one value was missing, which was filled with the actual value based on the city of birth.\n",
    "2. current_rank: Filled with -1 to represent an unknown rank.\n",
    "3. total_prize and current_prize: Filled with 0 to represent not winning a prize.\n",
    "4. residence, birthplace, and plays: Filled with \"Unknown\" to represent unknown values.\n"
   ]
  },
  {
   "cell_type": "code",
   "execution_count": 188,
   "metadata": {},
   "outputs": [
    {
     "data": {
      "text/plain": [
       "match_id           0\n",
       "name               0\n",
       "slug               0\n",
       "gender             0\n",
       "user_count         0\n",
       "residence        270\n",
       "birthplace       167\n",
       "height           171\n",
       "weight           273\n",
       "plays            209\n",
       "turned_pro       315\n",
       "current_prize     12\n",
       "total_prize        3\n",
       "player_id          0\n",
       "current_rank      18\n",
       "name_code          0\n",
       "country            1\n",
       "full_name          0\n",
       "dtype: int64"
      ]
     },
     "execution_count": 188,
     "metadata": {},
     "output_type": "execute_result"
    }
   ],
   "source": [
    "data_away_team.isnull().sum()"
   ]
  },
  {
   "cell_type": "code",
   "execution_count": 189,
   "metadata": {},
   "outputs": [
    {
     "name": "stdout",
     "output_type": "stream",
     "text": [
      "<class 'pandas.core.frame.DataFrame'>\n",
      "RangeIndex: 386 entries, 0 to 385\n",
      "Data columns (total 18 columns):\n",
      " #   Column         Non-Null Count  Dtype  \n",
      "---  ------         --------------  -----  \n",
      " 0   match_id       386 non-null    int64  \n",
      " 1   name           386 non-null    object \n",
      " 2   slug           386 non-null    object \n",
      " 3   gender         386 non-null    object \n",
      " 4   user_count     386 non-null    int64  \n",
      " 5   residence      116 non-null    object \n",
      " 6   birthplace     219 non-null    object \n",
      " 7   height         215 non-null    float64\n",
      " 8   weight         113 non-null    float64\n",
      " 9   plays          177 non-null    object \n",
      " 10  turned_pro     71 non-null     float64\n",
      " 11  current_prize  374 non-null    float64\n",
      " 12  total_prize    383 non-null    float64\n",
      " 13  player_id      386 non-null    int64  \n",
      " 14  current_rank   368 non-null    float64\n",
      " 15  name_code      386 non-null    object \n",
      " 16  country        385 non-null    object \n",
      " 17  full_name      386 non-null    object \n",
      "dtypes: float64(6), int64(3), object(9)\n",
      "memory usage: 54.4+ KB\n"
     ]
    }
   ],
   "source": [
    "data_away_team.info()"
   ]
  },
  {
   "cell_type": "code",
   "execution_count": 190,
   "metadata": {},
   "outputs": [
    {
     "data": {
      "text/plain": [
       "181    Houston, TX, USA\n",
       "Name: birthplace, dtype: object"
      ]
     },
     "execution_count": 190,
     "metadata": {},
     "output_type": "execute_result"
    }
   ],
   "source": [
    "data_away_team[data_away_team['country'].isnull()]['birthplace']"
   ]
  },
  {
   "cell_type": "code",
   "execution_count": 191,
   "metadata": {},
   "outputs": [],
   "source": [
    "data_home_team.loc[data_home_team['birthplace'] == 'Saipan', 'country'] = 'USA'"
   ]
  },
  {
   "cell_type": "code",
   "execution_count": 192,
   "metadata": {},
   "outputs": [],
   "source": [
    "data_away_team['current_rank'] = data_away_team['current_rank'].fillna(-1)"
   ]
  },
  {
   "cell_type": "code",
   "execution_count": 193,
   "metadata": {},
   "outputs": [],
   "source": [
    "data_away_team['total_prize'] = data_away_team['total_prize'].fillna(0)\n",
    "data_away_team['current_prize'] = data_away_team['current_prize'].fillna(0)"
   ]
  },
  {
   "cell_type": "code",
   "execution_count": 194,
   "metadata": {},
   "outputs": [],
   "source": [
    "data_away_team['residence'] = data_away_team['residence'].fillna(\"Unknown\")\n",
    "data_away_team['birthplace'] = data_away_team['birthplace'].fillna(\"Unknown\")\n",
    "data_away_team['plays'] =data_away_team['plays'].fillna(\"Unknown\")"
   ]
  },
  {
   "cell_type": "markdown",
   "metadata": {},
   "source": [
    "#### home_score"
   ]
  },
  {
   "cell_type": "markdown",
   "metadata": {},
   "source": [
    "The null values did not need to be filled, and columns where all values were null were removed from the dataset.\n"
   ]
  },
  {
   "cell_type": "code",
   "execution_count": 195,
   "metadata": {},
   "outputs": [
    {
     "data": {
      "text/plain": [
       "match_id                0\n",
       "current_score          25\n",
       "display_score          25\n",
       "period_1               18\n",
       "period_2               24\n",
       "period_3              583\n",
       "period_4              764\n",
       "period_5              764\n",
       "period_1_tie_break    747\n",
       "period_2_tie_break    744\n",
       "period_3_tie_break    760\n",
       "period_4_tie_break    764\n",
       "period_5_tie_break    764\n",
       "normal_time           764\n",
       "dtype: int64"
      ]
     },
     "execution_count": 195,
     "metadata": {},
     "output_type": "execute_result"
    }
   ],
   "source": [
    "data_home_score.isnull().sum()"
   ]
  },
  {
   "cell_type": "code",
   "execution_count": 196,
   "metadata": {},
   "outputs": [
    {
     "name": "stdout",
     "output_type": "stream",
     "text": [
      "<class 'pandas.core.frame.DataFrame'>\n",
      "RangeIndex: 764 entries, 0 to 763\n",
      "Data columns (total 14 columns):\n",
      " #   Column              Non-Null Count  Dtype  \n",
      "---  ------              --------------  -----  \n",
      " 0   match_id            764 non-null    int64  \n",
      " 1   current_score       739 non-null    float64\n",
      " 2   display_score       739 non-null    float64\n",
      " 3   period_1            746 non-null    float64\n",
      " 4   period_2            740 non-null    float64\n",
      " 5   period_3            181 non-null    float64\n",
      " 6   period_4            0 non-null      float64\n",
      " 7   period_5            0 non-null      float64\n",
      " 8   period_1_tie_break  17 non-null     float64\n",
      " 9   period_2_tie_break  20 non-null     float64\n",
      " 10  period_3_tie_break  4 non-null      float64\n",
      " 11  period_4_tie_break  0 non-null      float64\n",
      " 12  period_5_tie_break  0 non-null      float64\n",
      " 13  normal_time         0 non-null      float64\n",
      "dtypes: float64(13), int64(1)\n",
      "memory usage: 83.7 KB\n"
     ]
    }
   ],
   "source": [
    "data_home_score.info()"
   ]
  },
  {
   "cell_type": "code",
   "execution_count": 197,
   "metadata": {},
   "outputs": [],
   "source": [
    "data_home_score.dropna(axis=1, how='all', inplace=True)"
   ]
  },
  {
   "cell_type": "markdown",
   "metadata": {},
   "source": [
    "#### away_score"
   ]
  },
  {
   "cell_type": "markdown",
   "metadata": {},
   "source": [
    "The null values did not need to be filled, and columns where all values were null were removed from the dataset.\n"
   ]
  },
  {
   "cell_type": "code",
   "execution_count": 198,
   "metadata": {},
   "outputs": [
    {
     "data": {
      "text/plain": [
       "match_id                0\n",
       "current_score          25\n",
       "display_score          25\n",
       "period_1               18\n",
       "period_2               24\n",
       "period_3              583\n",
       "period_4              764\n",
       "period_5              764\n",
       "period_1_tie_break    747\n",
       "period_2_tie_break    744\n",
       "period_3_tie_break    760\n",
       "period_4_tie_break    764\n",
       "period_5_tie_break    764\n",
       "normal_time           764\n",
       "dtype: int64"
      ]
     },
     "execution_count": 198,
     "metadata": {},
     "output_type": "execute_result"
    }
   ],
   "source": [
    "data_away_score.isnull().sum()"
   ]
  },
  {
   "cell_type": "code",
   "execution_count": 199,
   "metadata": {},
   "outputs": [
    {
     "name": "stdout",
     "output_type": "stream",
     "text": [
      "<class 'pandas.core.frame.DataFrame'>\n",
      "RangeIndex: 764 entries, 0 to 763\n",
      "Data columns (total 14 columns):\n",
      " #   Column              Non-Null Count  Dtype  \n",
      "---  ------              --------------  -----  \n",
      " 0   match_id            764 non-null    int64  \n",
      " 1   current_score       739 non-null    float64\n",
      " 2   display_score       739 non-null    float64\n",
      " 3   period_1            746 non-null    float64\n",
      " 4   period_2            740 non-null    float64\n",
      " 5   period_3            181 non-null    float64\n",
      " 6   period_4            0 non-null      float64\n",
      " 7   period_5            0 non-null      float64\n",
      " 8   period_1_tie_break  17 non-null     float64\n",
      " 9   period_2_tie_break  20 non-null     float64\n",
      " 10  period_3_tie_break  4 non-null      float64\n",
      " 11  period_4_tie_break  0 non-null      float64\n",
      " 12  period_5_tie_break  0 non-null      float64\n",
      " 13  normal_time         0 non-null      float64\n",
      "dtypes: float64(13), int64(1)\n",
      "memory usage: 83.7 KB\n"
     ]
    }
   ],
   "source": [
    "data_away_score.info()"
   ]
  },
  {
   "cell_type": "code",
   "execution_count": 200,
   "metadata": {},
   "outputs": [],
   "source": [
    "data_away_score.dropna(axis=1, how='all', inplace=True)"
   ]
  },
  {
   "cell_type": "markdown",
   "metadata": {},
   "source": [
    "### Convert dtypes"
   ]
  },
  {
   "cell_type": "markdown",
   "metadata": {},
   "source": [
    "Almost all data types did not need to be changed.\n"
   ]
  },
  {
   "cell_type": "markdown",
   "metadata": {},
   "source": [
    "#### match"
   ]
  },
  {
   "cell_type": "markdown",
   "metadata": {},
   "source": [
    "The start time and end time columns were changed to the datetime format, and two columns showing the match time in datetime and minutes were added.\n"
   ]
  },
  {
   "cell_type": "code",
   "execution_count": 201,
   "metadata": {},
   "outputs": [],
   "source": [
    "data_match['start_datetime'] = pd.to_datetime(data_match['start_datetime'], unit='s')\n",
    "data_match['current_period_start_timestamp'] = pd.to_datetime(data_match['current_period_start_timestamp'], unit='s')\n",
    "data_match['match_duration'] = data_match['current_period_start_timestamp'] - data_match['start_datetime']\n",
    "data_match['match_duration_minutes'] = data_match['match_duration'].dt.total_seconds() / 60"
   ]
  },
  {
   "cell_type": "markdown",
   "metadata": {},
   "source": [
    "## Data Analys"
   ]
  },
  {
   "cell_type": "markdown",
   "metadata": {},
   "source": [
    "### 1. How many tennis players are included in the dataset?"
   ]
  },
  {
   "cell_type": "markdown",
   "metadata": {},
   "source": [
    "There are 596 tennis players in this dataset.\n"
   ]
  },
  {
   "cell_type": "code",
   "execution_count": 202,
   "metadata": {},
   "outputs": [
    {
     "data": {
      "text/plain": [
       "596"
      ]
     },
     "execution_count": 202,
     "metadata": {},
     "output_type": "execute_result"
    }
   ],
   "source": [
    "home_player_id = data_home_team['player_id']\n",
    "away_player_id = data_away_team['player_id']\n",
    "player_union = np.union1d(home_player_id, away_player_id)\n",
    "number_of_players = len(player_union)\n",
    "number_of_players"
   ]
  },
  {
   "cell_type": "markdown",
   "metadata": {},
   "source": [
    "### 2. What is the average age of the players?\n"
   ]
  },
  {
   "cell_type": "markdown",
   "metadata": {},
   "source": [
    "There is no information about the players' ages.\n"
   ]
  },
  {
   "cell_type": "markdown",
   "metadata": {},
   "source": [
    "### 3. Which player has the highest number of wins?\n"
   ]
  },
  {
   "cell_type": "markdown",
   "metadata": {},
   "source": [
    "According to the reviews, four players with three victories each have the highest number of wins in this dataset.\n"
   ]
  },
  {
   "cell_type": "code",
   "execution_count": 203,
   "metadata": {},
   "outputs": [
    {
     "data": {
      "text/html": [
       "<div>\n",
       "<style scoped>\n",
       "    .dataframe tbody tr th:only-of-type {\n",
       "        vertical-align: middle;\n",
       "    }\n",
       "\n",
       "    .dataframe tbody tr th {\n",
       "        vertical-align: top;\n",
       "    }\n",
       "\n",
       "    .dataframe thead th {\n",
       "        text-align: right;\n",
       "    }\n",
       "</style>\n",
       "<table border=\"1\" class=\"dataframe\">\n",
       "  <thead>\n",
       "    <tr style=\"text-align: right;\">\n",
       "      <th></th>\n",
       "      <th>match_id</th>\n",
       "      <th>player_id_home</th>\n",
       "      <th>name_home</th>\n",
       "      <th>country_home</th>\n",
       "      <th>player_id_away</th>\n",
       "      <th>name_away</th>\n",
       "      <th>country_away</th>\n",
       "      <th>winner_code</th>\n",
       "    </tr>\n",
       "  </thead>\n",
       "  <tbody>\n",
       "    <tr>\n",
       "      <th>0</th>\n",
       "      <td>11673958</td>\n",
       "      <td>132834.0</td>\n",
       "      <td>Barrios Vera T.</td>\n",
       "      <td>Chile</td>\n",
       "      <td>221515.0</td>\n",
       "      <td>Tirante T.</td>\n",
       "      <td>Argentina</td>\n",
       "      <td>2.0</td>\n",
       "    </tr>\n",
       "    <tr>\n",
       "      <th>1</th>\n",
       "      <td>11673962</td>\n",
       "      <td>221515.0</td>\n",
       "      <td>Tirante T.</td>\n",
       "      <td>Argentina</td>\n",
       "      <td>302582.0</td>\n",
       "      <td>Heide G.</td>\n",
       "      <td>Brazil</td>\n",
       "      <td>1.0</td>\n",
       "    </tr>\n",
       "    <tr>\n",
       "      <th>2</th>\n",
       "      <td>11673963</td>\n",
       "      <td>302582.0</td>\n",
       "      <td>Heide G.</td>\n",
       "      <td>Brazil</td>\n",
       "      <td>57155.0</td>\n",
       "      <td>Jorda Sanchis D.</td>\n",
       "      <td>Spain</td>\n",
       "      <td>1.0</td>\n",
       "    </tr>\n",
       "    <tr>\n",
       "      <th>3</th>\n",
       "      <td>11673993</td>\n",
       "      <td>207081.0</td>\n",
       "      <td>Ajduković D.</td>\n",
       "      <td>Croatia</td>\n",
       "      <td>51100.0</td>\n",
       "      <td>Roca Batalla O.</td>\n",
       "      <td>Spain</td>\n",
       "      <td>2.0</td>\n",
       "    </tr>\n",
       "    <tr>\n",
       "      <th>4</th>\n",
       "      <td>11674000</td>\n",
       "      <td>80491.0</td>\n",
       "      <td>Escobedo E.</td>\n",
       "      <td>Mexico</td>\n",
       "      <td>213057.0</td>\n",
       "      <td>Crawford O.</td>\n",
       "      <td>USA</td>\n",
       "      <td>2.0</td>\n",
       "    </tr>\n",
       "    <tr>\n",
       "      <th>...</th>\n",
       "      <td>...</td>\n",
       "      <td>...</td>\n",
       "      <td>...</td>\n",
       "      <td>...</td>\n",
       "      <td>...</td>\n",
       "      <td>...</td>\n",
       "      <td>...</td>\n",
       "      <td>...</td>\n",
       "    </tr>\n",
       "    <tr>\n",
       "      <th>544</th>\n",
       "      <td>11703443</td>\n",
       "      <td>196958.0</td>\n",
       "      <td>Salazar D.</td>\n",
       "      <td>Colombia</td>\n",
       "      <td>416491.0</td>\n",
       "      <td>Kalina V.</td>\n",
       "      <td>Czech Republic</td>\n",
       "      <td>2.0</td>\n",
       "    </tr>\n",
       "    <tr>\n",
       "      <th>545</th>\n",
       "      <td>11703445</td>\n",
       "      <td>399574.0</td>\n",
       "      <td>Maute J.</td>\n",
       "      <td>Germany</td>\n",
       "      <td>349490.0</td>\n",
       "      <td>Nad P.</td>\n",
       "      <td>Slovakia</td>\n",
       "      <td>1.0</td>\n",
       "    </tr>\n",
       "    <tr>\n",
       "      <th>546</th>\n",
       "      <td>11703470</td>\n",
       "      <td>91916.0</td>\n",
       "      <td>Grey S.</td>\n",
       "      <td>United Kingdom</td>\n",
       "      <td>42864.0</td>\n",
       "      <td>Lizarazo Y.</td>\n",
       "      <td>Colombia</td>\n",
       "      <td>1.0</td>\n",
       "    </tr>\n",
       "    <tr>\n",
       "      <th>547</th>\n",
       "      <td>11703524</td>\n",
       "      <td>413166.0</td>\n",
       "      <td>Panaras A.</td>\n",
       "      <td>France</td>\n",
       "      <td>NaN</td>\n",
       "      <td>NaN</td>\n",
       "      <td>NaN</td>\n",
       "      <td>1.0</td>\n",
       "    </tr>\n",
       "    <tr>\n",
       "      <th>548</th>\n",
       "      <td>11703525</td>\n",
       "      <td>98951.0</td>\n",
       "      <td>Milushev P.</td>\n",
       "      <td>Bulgaria</td>\n",
       "      <td>NaN</td>\n",
       "      <td>NaN</td>\n",
       "      <td>NaN</td>\n",
       "      <td>1.0</td>\n",
       "    </tr>\n",
       "  </tbody>\n",
       "</table>\n",
       "<p>549 rows × 8 columns</p>\n",
       "</div>"
      ],
      "text/plain": [
       "     match_id  player_id_home        name_home    country_home  \\\n",
       "0    11673958        132834.0  Barrios Vera T.           Chile   \n",
       "1    11673962        221515.0       Tirante T.       Argentina   \n",
       "2    11673963        302582.0         Heide G.          Brazil   \n",
       "3    11673993        207081.0     Ajduković D.         Croatia   \n",
       "4    11674000         80491.0      Escobedo E.          Mexico   \n",
       "..        ...             ...              ...             ...   \n",
       "544  11703443        196958.0       Salazar D.        Colombia   \n",
       "545  11703445        399574.0         Maute J.         Germany   \n",
       "546  11703470         91916.0          Grey S.  United Kingdom   \n",
       "547  11703524        413166.0       Panaras A.          France   \n",
       "548  11703525         98951.0      Milushev P.        Bulgaria   \n",
       "\n",
       "     player_id_away         name_away    country_away  winner_code  \n",
       "0          221515.0        Tirante T.       Argentina          2.0  \n",
       "1          302582.0          Heide G.          Brazil          1.0  \n",
       "2           57155.0  Jorda Sanchis D.           Spain          1.0  \n",
       "3           51100.0   Roca Batalla O.           Spain          2.0  \n",
       "4          213057.0       Crawford O.             USA          2.0  \n",
       "..              ...               ...             ...          ...  \n",
       "544        416491.0         Kalina V.  Czech Republic          2.0  \n",
       "545        349490.0            Nad P.        Slovakia          1.0  \n",
       "546         42864.0       Lizarazo Y.        Colombia          1.0  \n",
       "547             NaN               NaN             NaN          1.0  \n",
       "548             NaN               NaN             NaN          1.0  \n",
       "\n",
       "[549 rows x 8 columns]"
      ]
     },
     "execution_count": 203,
     "metadata": {},
     "output_type": "execute_result"
    }
   ],
   "source": [
    "match_player = pd.merge(data_home_team[['match_id', 'player_id', 'name', 'country']], data_away_team[['match_id', 'player_id', 'name', 'country']], on='match_id', suffixes=('_home', '_away'), how='outer')\n",
    "match_player = pd.merge(match_player, data_match[['match_id', 'winner_code']], on='match_id', how='inner')\n",
    "match_player"
   ]
  },
  {
   "cell_type": "code",
   "execution_count": 204,
   "metadata": {},
   "outputs": [
    {
     "data": {
      "text/html": [
       "<div>\n",
       "<style scoped>\n",
       "    .dataframe tbody tr th:only-of-type {\n",
       "        vertical-align: middle;\n",
       "    }\n",
       "\n",
       "    .dataframe tbody tr th {\n",
       "        vertical-align: top;\n",
       "    }\n",
       "\n",
       "    .dataframe thead th {\n",
       "        text-align: right;\n",
       "    }\n",
       "</style>\n",
       "<table border=\"1\" class=\"dataframe\">\n",
       "  <thead>\n",
       "    <tr style=\"text-align: right;\">\n",
       "      <th></th>\n",
       "      <th>match_id</th>\n",
       "      <th>player_id_home</th>\n",
       "      <th>name_home</th>\n",
       "      <th>country_home</th>\n",
       "      <th>player_id_away</th>\n",
       "      <th>name_away</th>\n",
       "      <th>country_away</th>\n",
       "      <th>winner_code</th>\n",
       "      <th>winner_player_id</th>\n",
       "      <th>winner_name</th>\n",
       "      <th>winner_country</th>\n",
       "    </tr>\n",
       "  </thead>\n",
       "  <tbody>\n",
       "    <tr>\n",
       "      <th>0</th>\n",
       "      <td>11673958</td>\n",
       "      <td>132834.0</td>\n",
       "      <td>Barrios Vera T.</td>\n",
       "      <td>Chile</td>\n",
       "      <td>221515.0</td>\n",
       "      <td>Tirante T.</td>\n",
       "      <td>Argentina</td>\n",
       "      <td>2.0</td>\n",
       "      <td>221515.0</td>\n",
       "      <td>Tirante T.</td>\n",
       "      <td>Argentina</td>\n",
       "    </tr>\n",
       "    <tr>\n",
       "      <th>1</th>\n",
       "      <td>11673962</td>\n",
       "      <td>221515.0</td>\n",
       "      <td>Tirante T.</td>\n",
       "      <td>Argentina</td>\n",
       "      <td>302582.0</td>\n",
       "      <td>Heide G.</td>\n",
       "      <td>Brazil</td>\n",
       "      <td>1.0</td>\n",
       "      <td>221515.0</td>\n",
       "      <td>Tirante T.</td>\n",
       "      <td>Argentina</td>\n",
       "    </tr>\n",
       "    <tr>\n",
       "      <th>2</th>\n",
       "      <td>11673963</td>\n",
       "      <td>302582.0</td>\n",
       "      <td>Heide G.</td>\n",
       "      <td>Brazil</td>\n",
       "      <td>57155.0</td>\n",
       "      <td>Jorda Sanchis D.</td>\n",
       "      <td>Spain</td>\n",
       "      <td>1.0</td>\n",
       "      <td>302582.0</td>\n",
       "      <td>Heide G.</td>\n",
       "      <td>Brazil</td>\n",
       "    </tr>\n",
       "    <tr>\n",
       "      <th>3</th>\n",
       "      <td>11673993</td>\n",
       "      <td>207081.0</td>\n",
       "      <td>Ajduković D.</td>\n",
       "      <td>Croatia</td>\n",
       "      <td>51100.0</td>\n",
       "      <td>Roca Batalla O.</td>\n",
       "      <td>Spain</td>\n",
       "      <td>2.0</td>\n",
       "      <td>51100.0</td>\n",
       "      <td>Roca Batalla O.</td>\n",
       "      <td>Spain</td>\n",
       "    </tr>\n",
       "    <tr>\n",
       "      <th>4</th>\n",
       "      <td>11674000</td>\n",
       "      <td>80491.0</td>\n",
       "      <td>Escobedo E.</td>\n",
       "      <td>Mexico</td>\n",
       "      <td>213057.0</td>\n",
       "      <td>Crawford O.</td>\n",
       "      <td>USA</td>\n",
       "      <td>2.0</td>\n",
       "      <td>213057.0</td>\n",
       "      <td>Crawford O.</td>\n",
       "      <td>USA</td>\n",
       "    </tr>\n",
       "    <tr>\n",
       "      <th>...</th>\n",
       "      <td>...</td>\n",
       "      <td>...</td>\n",
       "      <td>...</td>\n",
       "      <td>...</td>\n",
       "      <td>...</td>\n",
       "      <td>...</td>\n",
       "      <td>...</td>\n",
       "      <td>...</td>\n",
       "      <td>...</td>\n",
       "      <td>...</td>\n",
       "      <td>...</td>\n",
       "    </tr>\n",
       "    <tr>\n",
       "      <th>544</th>\n",
       "      <td>11703443</td>\n",
       "      <td>196958.0</td>\n",
       "      <td>Salazar D.</td>\n",
       "      <td>Colombia</td>\n",
       "      <td>416491.0</td>\n",
       "      <td>Kalina V.</td>\n",
       "      <td>Czech Republic</td>\n",
       "      <td>2.0</td>\n",
       "      <td>416491.0</td>\n",
       "      <td>Kalina V.</td>\n",
       "      <td>Czech Republic</td>\n",
       "    </tr>\n",
       "    <tr>\n",
       "      <th>545</th>\n",
       "      <td>11703445</td>\n",
       "      <td>399574.0</td>\n",
       "      <td>Maute J.</td>\n",
       "      <td>Germany</td>\n",
       "      <td>349490.0</td>\n",
       "      <td>Nad P.</td>\n",
       "      <td>Slovakia</td>\n",
       "      <td>1.0</td>\n",
       "      <td>399574.0</td>\n",
       "      <td>Maute J.</td>\n",
       "      <td>Germany</td>\n",
       "    </tr>\n",
       "    <tr>\n",
       "      <th>546</th>\n",
       "      <td>11703470</td>\n",
       "      <td>91916.0</td>\n",
       "      <td>Grey S.</td>\n",
       "      <td>United Kingdom</td>\n",
       "      <td>42864.0</td>\n",
       "      <td>Lizarazo Y.</td>\n",
       "      <td>Colombia</td>\n",
       "      <td>1.0</td>\n",
       "      <td>91916.0</td>\n",
       "      <td>Grey S.</td>\n",
       "      <td>United Kingdom</td>\n",
       "    </tr>\n",
       "    <tr>\n",
       "      <th>547</th>\n",
       "      <td>11703524</td>\n",
       "      <td>413166.0</td>\n",
       "      <td>Panaras A.</td>\n",
       "      <td>France</td>\n",
       "      <td>NaN</td>\n",
       "      <td>NaN</td>\n",
       "      <td>NaN</td>\n",
       "      <td>1.0</td>\n",
       "      <td>413166.0</td>\n",
       "      <td>Panaras A.</td>\n",
       "      <td>France</td>\n",
       "    </tr>\n",
       "    <tr>\n",
       "      <th>548</th>\n",
       "      <td>11703525</td>\n",
       "      <td>98951.0</td>\n",
       "      <td>Milushev P.</td>\n",
       "      <td>Bulgaria</td>\n",
       "      <td>NaN</td>\n",
       "      <td>NaN</td>\n",
       "      <td>NaN</td>\n",
       "      <td>1.0</td>\n",
       "      <td>98951.0</td>\n",
       "      <td>Milushev P.</td>\n",
       "      <td>Bulgaria</td>\n",
       "    </tr>\n",
       "  </tbody>\n",
       "</table>\n",
       "<p>549 rows × 11 columns</p>\n",
       "</div>"
      ],
      "text/plain": [
       "     match_id  player_id_home        name_home    country_home  \\\n",
       "0    11673958        132834.0  Barrios Vera T.           Chile   \n",
       "1    11673962        221515.0       Tirante T.       Argentina   \n",
       "2    11673963        302582.0         Heide G.          Brazil   \n",
       "3    11673993        207081.0     Ajduković D.         Croatia   \n",
       "4    11674000         80491.0      Escobedo E.          Mexico   \n",
       "..        ...             ...              ...             ...   \n",
       "544  11703443        196958.0       Salazar D.        Colombia   \n",
       "545  11703445        399574.0         Maute J.         Germany   \n",
       "546  11703470         91916.0          Grey S.  United Kingdom   \n",
       "547  11703524        413166.0       Panaras A.          France   \n",
       "548  11703525         98951.0      Milushev P.        Bulgaria   \n",
       "\n",
       "     player_id_away         name_away    country_away  winner_code  \\\n",
       "0          221515.0        Tirante T.       Argentina          2.0   \n",
       "1          302582.0          Heide G.          Brazil          1.0   \n",
       "2           57155.0  Jorda Sanchis D.           Spain          1.0   \n",
       "3           51100.0   Roca Batalla O.           Spain          2.0   \n",
       "4          213057.0       Crawford O.             USA          2.0   \n",
       "..              ...               ...             ...          ...   \n",
       "544        416491.0         Kalina V.  Czech Republic          2.0   \n",
       "545        349490.0            Nad P.        Slovakia          1.0   \n",
       "546         42864.0       Lizarazo Y.        Colombia          1.0   \n",
       "547             NaN               NaN             NaN          1.0   \n",
       "548             NaN               NaN             NaN          1.0   \n",
       "\n",
       "     winner_player_id      winner_name  winner_country  \n",
       "0            221515.0       Tirante T.       Argentina  \n",
       "1            221515.0       Tirante T.       Argentina  \n",
       "2            302582.0         Heide G.          Brazil  \n",
       "3             51100.0  Roca Batalla O.           Spain  \n",
       "4            213057.0      Crawford O.             USA  \n",
       "..                ...              ...             ...  \n",
       "544          416491.0        Kalina V.  Czech Republic  \n",
       "545          399574.0         Maute J.         Germany  \n",
       "546           91916.0          Grey S.  United Kingdom  \n",
       "547          413166.0       Panaras A.          France  \n",
       "548           98951.0      Milushev P.        Bulgaria  \n",
       "\n",
       "[549 rows x 11 columns]"
      ]
     },
     "execution_count": 204,
     "metadata": {},
     "output_type": "execute_result"
    }
   ],
   "source": [
    "match_player['winner_player_id'] = match_player.apply(\n",
    "    lambda row, : row['player_id_home'] if row['winner_code'] == 1 else row['player_id_away'],\n",
    "    axis=1\n",
    ")\n",
    "match_player['winner_name'] = match_player.apply(\n",
    "    lambda row, : row['name_home'] if row['winner_code'] == 1 else row['name_away'],\n",
    "    axis=1\n",
    ")\n",
    "match_player['winner_country'] = match_player.apply(\n",
    "    lambda row, : row['country_home'] if row['winner_code'] == 1 else row['country_away'],\n",
    "    axis=1\n",
    ")\n",
    "match_player"
   ]
  },
  {
   "cell_type": "code",
   "execution_count": 205,
   "metadata": {},
   "outputs": [
    {
     "name": "stdout",
     "output_type": "stream",
     "text": [
      "Milushev P. (98951.0): 3\n"
     ]
    }
   ],
   "source": [
    "number_of_wins = match_player['winner_player_id'].value_counts()\n",
    "top_win_id = number_of_wins.idxmax()\n",
    "top_win_name = match_player[match_player['winner_player_id'] == top_win_id]['winner_name'].iloc[0]\n",
    "top_wins_num = number_of_wins.max()\n",
    "print(f\"{top_win_name} ({top_win_id}): {top_wins_num}\")"
   ]
  },
  {
   "cell_type": "code",
   "execution_count": 206,
   "metadata": {},
   "outputs": [
    {
     "data": {
      "text/plain": [
       "<Figure size 1000x600 with 0 Axes>"
      ]
     },
     "metadata": {},
     "output_type": "display_data"
    },
    {
     "data": {
      "image/png": "[encoded data removed]",
      "text/plain": [
       "<Figure size 640x480 with 1 Axes>"
      ]
     },
     "metadata": {},
     "output_type": "display_data"
    }
   ],
   "source": [
    "top_10_number_of_win_by_name = match_player['winner_name'].value_counts().head(10)\n",
    "top_10_number_of_win_by_name = top_10_number_of_win_by_name.sort_values(ascending=True)\n",
    "\n",
    "\n",
    "plt.figure(figsize=(10, 6))\n",
    "\n",
    "fig, ax = plt.subplots(1)\n",
    "\n",
    "ax.barh(top_10_number_of_win_by_name.index, top_10_number_of_win_by_name.values, color='#c1d818')\n",
    "\n",
    "ax.set_title(\n",
    "    \"Which player has the highest number of wins?\",\n",
    "    weight=\"bold\",\n",
    "    color=\"#3C3D37\",\n",
    "    fontsize=15,\n",
    "    loc=\"left\",\n",
    ")\n",
    "ax.set_xlabel(\n",
    "    \"win\",\n",
    "    loc=\"left\",\n",
    "    weight=\"bold\",\n",
    "    fontsize=14,\n",
    "    color=\"#3C3D37\",\n",
    ")\n",
    "ax.set_ylabel(\n",
    "    \"Name\",\n",
    "    loc=\"bottom\",\n",
    "    weight=\"bold\",\n",
    "    fontsize=14,\n",
    "    color=\"#3C3D37\",\n",
    ")\n",
    "\n",
    "ax.spines[[\"right\", \"top\"]].set_visible(False)\n",
    "ax.tick_params(axis='x', colors='#3C3D37')\n",
    "ax.tick_params(axis='y', colors='#3C3D37')\n",
    "ax.set_xlim(0, 5)\n",
    "\n",
    "plt.show()"
   ]
  },
  {
   "cell_type": "markdown",
   "metadata": {},
   "source": [
    "### 4. What is the longest match recorded in terms of duration?"
   ]
  },
  {
   "cell_type": "markdown",
   "metadata": {},
   "source": [
    "According to the reviews, the longest match was between Kalina and Salazar, lasting 4 hours, 58 minutes, and 25 seconds. This match took place at noon on October 2, 2023, during the ITF Men's Qualifiers at Court 2 in Monastir, Tunisia, and ended with Salazar's victory.\n"
   ]
  },
  {
   "cell_type": "code",
   "execution_count": 207,
   "metadata": {},
   "outputs": [
    {
     "data": {
      "text/plain": [
       "match_id                                                              11703443\n",
       "first_to_serve                                                             2.0\n",
       "home_team_seed                                                               3\n",
       "away_team_seed                                                              15\n",
       "custom_id                                                            iODbsQEqd\n",
       "winner_code                                                                2.0\n",
       "default_period_count                                                       3.0\n",
       "start_datetime                                             2023-10-02 12:30:00\n",
       "match_slug                                                      kalina-salazar\n",
       "final_result_only                                                        False\n",
       "round_id                                                                  -1.0\n",
       "slug                                                                      None\n",
       "cup_round_type                                                             NaN\n",
       "season_id                                                              55270.0\n",
       "year                                                                    2023.0\n",
       "period_1                                                                5171.0\n",
       "period_2                                                                3228.0\n",
       "period_3                                                                 976.0\n",
       "current_period_start_timestamp                             2023-10-02 17:28:26\n",
       "tournament_id                                                         121868.0\n",
       "tournament_name                    Monastir, Singles Qualifying, M-ITF-TUN-46A\n",
       "tournament_slug                      monastir-singles-qualifying-m-itf-tun-46a\n",
       "tournament_category_name                                               ITF Men\n",
       "tournament_category_slug                                               itf-men\n",
       "user_count                                                                 7.0\n",
       "ground_type                                                  Hardcourt outdoor\n",
       "tennis_points                                                              NaN\n",
       "has_event_player_statistics                                              False\n",
       "crowd_sourcing_enabled                                                   False\n",
       "has_performance_graph_feature                                            False\n",
       "display_inverse_home_away_teams                                          False\n",
       "priority                                                                   0.0\n",
       "competition_type                                                           2.0\n",
       "city                                                                  Monastir\n",
       "stadium                                                                Court 2\n",
       "venue_id                                                               23360.0\n",
       "country                                                                Tunisia\n",
       "match_duration                                                 0 days 04:58:26\n",
       "match_duration_minutes                                              298.433333\n",
       "Name: 758, dtype: object"
      ]
     },
     "execution_count": 207,
     "metadata": {},
     "output_type": "execute_result"
    }
   ],
   "source": [
    "longest_match = data_match.loc[data_match['match_duration'].idxmax()]\n",
    "longest_match"
   ]
  },
  {
   "cell_type": "code",
   "execution_count": 208,
   "metadata": {},
   "outputs": [
    {
     "data": {
      "text/plain": [
       "<Figure size 1000x600 with 0 Axes>"
      ]
     },
     "metadata": {},
     "output_type": "display_data"
    },
    {
     "data": {
      "image/png": "[encoded data removed]",
      "text/plain": [
       "<Figure size 640x480 with 1 Axes>"
      ]
     },
     "metadata": {},
     "output_type": "display_data"
    }
   ],
   "source": [
    "top_long_match = data_match.sort_values(by='match_duration_minutes', ascending=False).head(7)\n",
    "top_long_match = top_long_match.iloc[::-1]\n",
    "\n",
    "plt.figure(figsize=(10, 6))\n",
    "\n",
    "fig, ax = plt.subplots(1)\n",
    "\n",
    "ax.barh(top_long_match['match_slug'], top_long_match['match_duration_minutes'], color='#c1d818')\n",
    "\n",
    "ax.set_title(\n",
    "    \"Longest match duration\",\n",
    "    weight=\"bold\",\n",
    "    color=\"#3C3D37\",\n",
    "    fontsize=15,\n",
    "    loc=\"left\",\n",
    ")\n",
    "ax.set_xlabel(\n",
    "    \"Minutes\",\n",
    "    loc=\"left\",\n",
    "    weight=\"bold\",\n",
    "    fontsize=14,\n",
    "    color=\"#3C3D37\",\n",
    ")\n",
    "\n",
    "ax.spines[[\"right\", \"top\"]].set_visible(False)\n",
    "ax.tick_params(axis='x', colors='#3C3D37')\n",
    "ax.tick_params(axis='y', colors='#3C3D37')\n",
    "\n",
    "ax.grid(axis='x', linestyle='--', alpha=0.6, color= '#3C3D37')\n",
    "ax.set_xlim(0, 310)\n",
    "ax.set_xticks(range(0, 360, 60))\n",
    "\n",
    "for i in ax.patches:\n",
    "    duration_str = str(pd.to_timedelta(i.get_width(), unit='m')).split('.')[0]  # حذف اعشار\n",
    "    ax.text(311, i.get_y() + i.get_height() / 2, \n",
    "            duration_str.split(' ')[2],  # نمایش فقط HH:MM:SS\n",
    "            ha='left', \n",
    "            va='center', \n",
    "            color='#3C3D37', \n",
    "            fontsize=10)\n",
    "\n",
    "\n",
    "plt.show()"
   ]
  },
  {
   "cell_type": "markdown",
   "metadata": {},
   "source": [
    "### 5. How many sets are typically played in a tennis match?"
   ]
  },
  {
   "cell_type": "markdown",
   "metadata": {},
   "source": [
    "According to the reviews, only one match out of every tennis match reaches the third set, which indicates that most matches are concluded in 2 sets.\n"
   ]
  },
  {
   "cell_type": "code",
   "execution_count": 209,
   "metadata": {},
   "outputs": [
    {
     "name": "stdout",
     "output_type": "stream",
     "text": [
      "2: 212\n",
      "3: 107\n"
     ]
    }
   ],
   "source": [
    "set_3_finish = data_match['period_3'].notnull().sum()\n",
    "set_2_finish = data_match['period_2'].notnull().sum() - data_match['period_3'].notnull().sum()\n",
    "\n",
    "print(f\"2: {set_2_finish}\\n3: {set_3_finish}\")"
   ]
  },
  {
   "cell_type": "code",
   "execution_count": 210,
   "metadata": {},
   "outputs": [
    {
     "data": {
      "text/plain": [
       "<Figure size 1000x600 with 0 Axes>"
      ]
     },
     "metadata": {},
     "output_type": "display_data"
    },
    {
     "data": {
      "image/png": "[encoded data removed]",
      "text/plain": [
       "<Figure size 640x480 with 1 Axes>"
      ]
     },
     "metadata": {},
     "output_type": "display_data"
    }
   ],
   "source": [
    "sets_data = pd.DataFrame({ 'sets': ['2 Sets', '3 Sets'], 'matches': [set_2_finish, set_3_finish] })\n",
    "\n",
    "plt.figure(figsize=(10, 6))\n",
    "fig, ax = plt.subplots(1)\n",
    "\n",
    "ax.pie(sets_data['matches'], labels=sets_data['sets'],\n",
    "             startangle=90, autopct='%1.1f%%',\n",
    "             colors = ['#c1d818', '#d8f090'],\n",
    "             textprops ={'color': \"#3C3D37\"}\n",
    "             )\n",
    "\n",
    "ax.set_title(\n",
    "    \"sets are typically played in a tennis match\",\n",
    "    weight=\"bold\",\n",
    "    color=\"#3C3D37\",\n",
    "    fontsize=18,\n",
    "    loc=\"center\",\n",
    ")\n",
    "\n",
    "plt.show()"
   ]
  },
  {
   "cell_type": "markdown",
   "metadata": {},
   "source": [
    "### 6. Which country has produced the most successful tennis players?"
   ]
  },
  {
   "cell_type": "markdown",
   "metadata": {},
   "source": [
    "According to the reviews, French tennis players have secured 55 victories in matches, making them the most successful tennis players for France.\n"
   ]
  },
  {
   "cell_type": "code",
   "execution_count": 211,
   "metadata": {},
   "outputs": [
    {
     "data": {
      "text/plain": [
       "winner_country\n",
       "France       55\n",
       "Italy        39\n",
       "Argentina    30\n",
       "Australia    30\n",
       "Spain        27\n",
       "             ..\n",
       "Nigeria       1\n",
       "Peru          1\n",
       "Ireland       1\n",
       "Lithuania     1\n",
       "Belgium       1\n",
       "Name: count, Length: 61, dtype: int64"
      ]
     },
     "execution_count": 211,
     "metadata": {},
     "output_type": "execute_result"
    }
   ],
   "source": [
    "country_player = match_player['winner_country'].value_counts()\n",
    "country_player"
   ]
  },
  {
   "cell_type": "code",
   "execution_count": 212,
   "metadata": {},
   "outputs": [
    {
     "data": {
      "text/plain": [
       "<Figure size 1000x600 with 0 Axes>"
      ]
     },
     "metadata": {},
     "output_type": "display_data"
    },
    {
     "data": {
      "image/png": "[encoded data removed]",
      "text/plain": [
       "<Figure size 640x480 with 1 Axes>"
      ]
     },
     "metadata": {},
     "output_type": "display_data"
    }
   ],
   "source": [
    "top_country_player = country_player.head(6)\n",
    "\n",
    "plt.figure(figsize=(10, 6))\n",
    "\n",
    "fig, ax = plt.subplots(1)\n",
    "\n",
    "ax.bar(top_country_player.index, top_country_player.values, color='#c1d818')\n",
    "\n",
    "ax.set_title(\n",
    "    \"country has most successful tennis players\",\n",
    "    weight=\"bold\",\n",
    "    color=\"#3C3D37\",\n",
    "    fontsize=15,\n",
    "    loc=\"left\",\n",
    ")\n",
    "\n",
    "ax.spines[[\"right\", \"top\"]].set_visible(False)\n",
    "ax.tick_params(axis='x', colors='#3C3D37')\n",
    "ax.tick_params(axis='y', colors='#3C3D37')\n",
    "\n",
    "country_total_players = top_country_player.sum()\n",
    "country_percentages = (top_country_player / country_total_players) * 100\n",
    "\n",
    "for i in range(len(top_country_player)):\n",
    "    pct = country_percentages.values[i]\n",
    "    ax.text(i, top_country_player.values[i] + 1, f'{pct:.1f}%', ha='center', va='bottom', fontsize=10, color='#3C3D37')\n",
    "\n",
    "plt.show()"
   ]
  },
  {
   "cell_type": "markdown",
   "metadata": {},
   "source": [
    "### 7. What is the average number of aces per match?"
   ]
  },
  {
   "cell_type": "markdown",
   "metadata": {},
   "source": [
    "On average, only 4 aces occur per match. However, there was one match where there were 34 aces!"
   ]
  },
  {
   "cell_type": "code",
   "execution_count": 213,
   "metadata": {},
   "outputs": [
    {
     "name": "stderr",
     "output_type": "stream",
     "text": [
      "C:\\Users\\eftekhari\\AppData\\Local\\Temp\\ipykernel_9312\\3939538940.py:2: SettingWithCopyWarning: \n",
      "A value is trying to be set on a copy of a slice from a DataFrame.\n",
      "Try using .loc[row_indexer,col_indexer] = value instead\n",
      "\n",
      "See the caveats in the documentation: https://pandas.pydata.org/pandas-docs/stable/user_guide/indexing.html#returning-a-view-versus-a-copy\n",
      "  aces_all['match_value'] = aces_all['home_value'] + aces_all['away_value']\n"
     ]
    },
    {
     "data": {
      "text/plain": [
       "count    209.000000\n",
       "mean       4.009569\n",
       "std        4.428916\n",
       "min        0.000000\n",
       "25%        1.000000\n",
       "50%        3.000000\n",
       "75%        5.000000\n",
       "max       34.000000\n",
       "Name: match_value, dtype: float64"
      ]
     },
     "execution_count": 213,
     "metadata": {},
     "output_type": "execute_result"
    }
   ],
   "source": [
    "aces_all = data_statistics[(data_statistics['statistic_name'] == 'aces') & (data_statistics['period'] == 'ALL')]\n",
    "aces_all['match_value'] = aces_all['home_value'] + aces_all['away_value']\n",
    "average_aces = aces_all['match_value'].mean()\n",
    "aces_all['match_value'].describe()"
   ]
  },
  {
   "cell_type": "code",
   "execution_count": 214,
   "metadata": {},
   "outputs": [
    {
     "data": {
      "text/plain": [
       "<Figure size 1000x600 with 0 Axes>"
      ]
     },
     "metadata": {},
     "output_type": "display_data"
    },
    {
     "data": {
      "image/png": "[encoded data removed]",
      "text/plain": [
       "<Figure size 640x480 with 1 Axes>"
      ]
     },
     "metadata": {},
     "output_type": "display_data"
    }
   ],
   "source": [
    "aces_all_sort = aces_all['match_value'].sort_values().reset_index(drop=True)\n",
    "\n",
    "plt.figure(figsize=(10, 6))\n",
    "fig, ax = plt.subplots(1)\n",
    "\n",
    "ax.scatter(range(len(aces_all_sort)),aces_all_sort, color='#c1d818', s=10)\n",
    "\n",
    "ax.axhline(y=average_aces, color='#306048')\n",
    "ax.text(len(aces_all_sort) + 11, average_aces, f'average: {average_aces:.2f}', color='#306048', va='center', ha='left')\n",
    "\n",
    "\n",
    "\n",
    "ax.set_title(\n",
    "    \"Aces per match\",\n",
    "    weight=\"bold\",\n",
    "    color=\"#3C3D37\",\n",
    "    fontsize=15,\n",
    "    loc=\"left\",\n",
    ")\n",
    "ax.set_ylabel(\n",
    "    \"Ace\",\n",
    "    loc=\"bottom\",\n",
    "    weight=\"bold\",\n",
    "    fontsize=14,\n",
    "    color=\"#3C3D37\",\n",
    ")\n",
    "\n",
    "ax.spines[[\"right\", \"top\"]].set_visible(False)\n",
    "ax.tick_params(axis='x', colors='#3C3D37')\n",
    "ax.tick_params(axis='y', colors='#3C3D37')\n",
    "\n",
    "ax.get_xaxis().set_ticks([])\n",
    "\n",
    "plt.show()\n"
   ]
  },
  {
   "cell_type": "markdown",
   "metadata": {},
   "source": [
    "### 8. Is there a difference in the number of double faults based on gender?"
   ]
  },
  {
   "cell_type": "markdown",
   "metadata": {},
   "source": [
    "Each tennis player is allowed one fault while serving. If they fault twice in a row, the point is awarded to the opponent, a mistake known as \"double faults.\" <br> According to the analyses, women commit 7.5 double faults per match on average, whereas men commit 5.3 double faults per match, which is 41% fewer.\n"
   ]
  },
  {
   "cell_type": "code",
   "execution_count": 215,
   "metadata": {},
   "outputs": [
    {
     "data": {
      "text/html": [
       "<div>\n",
       "<style scoped>\n",
       "    .dataframe tbody tr th:only-of-type {\n",
       "        vertical-align: middle;\n",
       "    }\n",
       "\n",
       "    .dataframe tbody tr th {\n",
       "        vertical-align: top;\n",
       "    }\n",
       "\n",
       "    .dataframe thead th {\n",
       "        text-align: right;\n",
       "    }\n",
       "</style>\n",
       "<table border=\"1\" class=\"dataframe\">\n",
       "  <thead>\n",
       "    <tr style=\"text-align: right;\">\n",
       "      <th></th>\n",
       "      <th>match_id</th>\n",
       "      <th>player_id_home</th>\n",
       "      <th>gender_home</th>\n",
       "      <th>player_id_away</th>\n",
       "      <th>gender_away</th>\n",
       "    </tr>\n",
       "  </thead>\n",
       "  <tbody>\n",
       "    <tr>\n",
       "      <th>0</th>\n",
       "      <td>11673958</td>\n",
       "      <td>132834.0</td>\n",
       "      <td>M</td>\n",
       "      <td>221515.0</td>\n",
       "      <td>M</td>\n",
       "    </tr>\n",
       "    <tr>\n",
       "      <th>1</th>\n",
       "      <td>11673962</td>\n",
       "      <td>221515.0</td>\n",
       "      <td>M</td>\n",
       "      <td>302582.0</td>\n",
       "      <td>M</td>\n",
       "    </tr>\n",
       "    <tr>\n",
       "      <th>2</th>\n",
       "      <td>11673963</td>\n",
       "      <td>302582.0</td>\n",
       "      <td>M</td>\n",
       "      <td>57155.0</td>\n",
       "      <td>M</td>\n",
       "    </tr>\n",
       "    <tr>\n",
       "      <th>3</th>\n",
       "      <td>11673993</td>\n",
       "      <td>207081.0</td>\n",
       "      <td>M</td>\n",
       "      <td>51100.0</td>\n",
       "      <td>M</td>\n",
       "    </tr>\n",
       "    <tr>\n",
       "      <th>4</th>\n",
       "      <td>11674000</td>\n",
       "      <td>80491.0</td>\n",
       "      <td>M</td>\n",
       "      <td>213057.0</td>\n",
       "      <td>M</td>\n",
       "    </tr>\n",
       "    <tr>\n",
       "      <th>...</th>\n",
       "      <td>...</td>\n",
       "      <td>...</td>\n",
       "      <td>...</td>\n",
       "      <td>...</td>\n",
       "      <td>...</td>\n",
       "    </tr>\n",
       "    <tr>\n",
       "      <th>545</th>\n",
       "      <td>11703443</td>\n",
       "      <td>196958.0</td>\n",
       "      <td>M</td>\n",
       "      <td>416491.0</td>\n",
       "      <td>M</td>\n",
       "    </tr>\n",
       "    <tr>\n",
       "      <th>546</th>\n",
       "      <td>11703445</td>\n",
       "      <td>399574.0</td>\n",
       "      <td>M</td>\n",
       "      <td>349490.0</td>\n",
       "      <td>M</td>\n",
       "    </tr>\n",
       "    <tr>\n",
       "      <th>547</th>\n",
       "      <td>11703470</td>\n",
       "      <td>91916.0</td>\n",
       "      <td>F</td>\n",
       "      <td>42864.0</td>\n",
       "      <td>F</td>\n",
       "    </tr>\n",
       "    <tr>\n",
       "      <th>548</th>\n",
       "      <td>11703524</td>\n",
       "      <td>413166.0</td>\n",
       "      <td>M</td>\n",
       "      <td>NaN</td>\n",
       "      <td>M</td>\n",
       "    </tr>\n",
       "    <tr>\n",
       "      <th>549</th>\n",
       "      <td>11703525</td>\n",
       "      <td>98951.0</td>\n",
       "      <td>M</td>\n",
       "      <td>NaN</td>\n",
       "      <td>M</td>\n",
       "    </tr>\n",
       "  </tbody>\n",
       "</table>\n",
       "<p>550 rows × 5 columns</p>\n",
       "</div>"
      ],
      "text/plain": [
       "     match_id  player_id_home gender_home  player_id_away gender_away\n",
       "0    11673958        132834.0           M        221515.0           M\n",
       "1    11673962        221515.0           M        302582.0           M\n",
       "2    11673963        302582.0           M         57155.0           M\n",
       "3    11673993        207081.0           M         51100.0           M\n",
       "4    11674000         80491.0           M        213057.0           M\n",
       "..        ...             ...         ...             ...         ...\n",
       "545  11703443        196958.0           M        416491.0           M\n",
       "546  11703445        399574.0           M        349490.0           M\n",
       "547  11703470         91916.0           F         42864.0           F\n",
       "548  11703524        413166.0           M             NaN           M\n",
       "549  11703525         98951.0           M             NaN           M\n",
       "\n",
       "[550 rows x 5 columns]"
      ]
     },
     "execution_count": 215,
     "metadata": {},
     "output_type": "execute_result"
    }
   ],
   "source": [
    "match_player_gender = pd.merge(data_home_team[['match_id', 'player_id', 'gender']], data_away_team[['match_id', 'player_id', 'gender']], on='match_id', suffixes=('_home', '_away'), how='outer') \n",
    "match_player_gender['gender_home'] = match_player_gender['gender_home'].fillna(match_player_gender['gender_away'])\n",
    "match_player_gender['gender_away'] = match_player_gender['gender_away'].fillna(match_player_gender['gender_home'])\n",
    "match_player_gender"
   ]
  },
  {
   "cell_type": "code",
   "execution_count": 216,
   "metadata": {},
   "outputs": [
    {
     "data": {
      "text/plain": [
       "False"
      ]
     },
     "execution_count": 216,
     "metadata": {},
     "output_type": "execute_result"
    }
   ],
   "source": [
    "(match_player_gender['gender_home'] != match_player_gender['gender_away']).any()"
   ]
  },
  {
   "cell_type": "code",
   "execution_count": 217,
   "metadata": {},
   "outputs": [
    {
     "data": {
      "text/html": [
       "<div>\n",
       "<style scoped>\n",
       "    .dataframe tbody tr th:only-of-type {\n",
       "        vertical-align: middle;\n",
       "    }\n",
       "\n",
       "    .dataframe tbody tr th {\n",
       "        vertical-align: top;\n",
       "    }\n",
       "\n",
       "    .dataframe thead th {\n",
       "        text-align: right;\n",
       "    }\n",
       "</style>\n",
       "<table border=\"1\" class=\"dataframe\">\n",
       "  <thead>\n",
       "    <tr style=\"text-align: right;\">\n",
       "      <th></th>\n",
       "      <th>match_id</th>\n",
       "      <th>player_id_home</th>\n",
       "      <th>player_id_away</th>\n",
       "      <th>gender</th>\n",
       "    </tr>\n",
       "  </thead>\n",
       "  <tbody>\n",
       "    <tr>\n",
       "      <th>0</th>\n",
       "      <td>11673958</td>\n",
       "      <td>132834.0</td>\n",
       "      <td>221515.0</td>\n",
       "      <td>M</td>\n",
       "    </tr>\n",
       "    <tr>\n",
       "      <th>1</th>\n",
       "      <td>11673962</td>\n",
       "      <td>221515.0</td>\n",
       "      <td>302582.0</td>\n",
       "      <td>M</td>\n",
       "    </tr>\n",
       "    <tr>\n",
       "      <th>2</th>\n",
       "      <td>11673963</td>\n",
       "      <td>302582.0</td>\n",
       "      <td>57155.0</td>\n",
       "      <td>M</td>\n",
       "    </tr>\n",
       "    <tr>\n",
       "      <th>3</th>\n",
       "      <td>11673993</td>\n",
       "      <td>207081.0</td>\n",
       "      <td>51100.0</td>\n",
       "      <td>M</td>\n",
       "    </tr>\n",
       "    <tr>\n",
       "      <th>4</th>\n",
       "      <td>11674000</td>\n",
       "      <td>80491.0</td>\n",
       "      <td>213057.0</td>\n",
       "      <td>M</td>\n",
       "    </tr>\n",
       "    <tr>\n",
       "      <th>...</th>\n",
       "      <td>...</td>\n",
       "      <td>...</td>\n",
       "      <td>...</td>\n",
       "      <td>...</td>\n",
       "    </tr>\n",
       "    <tr>\n",
       "      <th>545</th>\n",
       "      <td>11703443</td>\n",
       "      <td>196958.0</td>\n",
       "      <td>416491.0</td>\n",
       "      <td>M</td>\n",
       "    </tr>\n",
       "    <tr>\n",
       "      <th>546</th>\n",
       "      <td>11703445</td>\n",
       "      <td>399574.0</td>\n",
       "      <td>349490.0</td>\n",
       "      <td>M</td>\n",
       "    </tr>\n",
       "    <tr>\n",
       "      <th>547</th>\n",
       "      <td>11703470</td>\n",
       "      <td>91916.0</td>\n",
       "      <td>42864.0</td>\n",
       "      <td>F</td>\n",
       "    </tr>\n",
       "    <tr>\n",
       "      <th>548</th>\n",
       "      <td>11703524</td>\n",
       "      <td>413166.0</td>\n",
       "      <td>NaN</td>\n",
       "      <td>M</td>\n",
       "    </tr>\n",
       "    <tr>\n",
       "      <th>549</th>\n",
       "      <td>11703525</td>\n",
       "      <td>98951.0</td>\n",
       "      <td>NaN</td>\n",
       "      <td>M</td>\n",
       "    </tr>\n",
       "  </tbody>\n",
       "</table>\n",
       "<p>550 rows × 4 columns</p>\n",
       "</div>"
      ],
      "text/plain": [
       "     match_id  player_id_home  player_id_away gender\n",
       "0    11673958        132834.0        221515.0      M\n",
       "1    11673962        221515.0        302582.0      M\n",
       "2    11673963        302582.0         57155.0      M\n",
       "3    11673993        207081.0         51100.0      M\n",
       "4    11674000         80491.0        213057.0      M\n",
       "..        ...             ...             ...    ...\n",
       "545  11703443        196958.0        416491.0      M\n",
       "546  11703445        399574.0        349490.0      M\n",
       "547  11703470         91916.0         42864.0      F\n",
       "548  11703524        413166.0             NaN      M\n",
       "549  11703525         98951.0             NaN      M\n",
       "\n",
       "[550 rows x 4 columns]"
      ]
     },
     "execution_count": 217,
     "metadata": {},
     "output_type": "execute_result"
    }
   ],
   "source": [
    "match_player_gender['gender'] = match_player_gender['gender_home']\n",
    "match_player_gender.drop(columns=['gender_home', 'gender_away'], inplace=True)\n",
    "match_player_gender"
   ]
  },
  {
   "cell_type": "code",
   "execution_count": 218,
   "metadata": {},
   "outputs": [
    {
     "name": "stderr",
     "output_type": "stream",
     "text": [
      "C:\\Users\\eftekhari\\AppData\\Local\\Temp\\ipykernel_9312\\3607702315.py:2: SettingWithCopyWarning: \n",
      "A value is trying to be set on a copy of a slice from a DataFrame.\n",
      "Try using .loc[row_indexer,col_indexer] = value instead\n",
      "\n",
      "See the caveats in the documentation: https://pandas.pydata.org/pandas-docs/stable/user_guide/indexing.html#returning-a-view-versus-a-copy\n",
      "  double_faults_all['match_value'] = double_faults_all['home_value'] + double_faults_all['away_value']\n"
     ]
    },
    {
     "data": {
      "text/html": [
       "<div>\n",
       "<style scoped>\n",
       "    .dataframe tbody tr th:only-of-type {\n",
       "        vertical-align: middle;\n",
       "    }\n",
       "\n",
       "    .dataframe tbody tr th {\n",
       "        vertical-align: top;\n",
       "    }\n",
       "\n",
       "    .dataframe thead th {\n",
       "        text-align: right;\n",
       "    }\n",
       "</style>\n",
       "<table border=\"1\" class=\"dataframe\">\n",
       "  <thead>\n",
       "    <tr style=\"text-align: right;\">\n",
       "      <th></th>\n",
       "      <th>match_id</th>\n",
       "      <th>player_id_home</th>\n",
       "      <th>player_id_away</th>\n",
       "      <th>gender</th>\n",
       "      <th>statistic_name</th>\n",
       "      <th>match_value</th>\n",
       "    </tr>\n",
       "  </thead>\n",
       "  <tbody>\n",
       "    <tr>\n",
       "      <th>0</th>\n",
       "      <td>11674074</td>\n",
       "      <td>66968.0</td>\n",
       "      <td>44834.0</td>\n",
       "      <td>F</td>\n",
       "      <td>double_faults</td>\n",
       "      <td>4</td>\n",
       "    </tr>\n",
       "    <tr>\n",
       "      <th>1</th>\n",
       "      <td>11674103</td>\n",
       "      <td>83397.0</td>\n",
       "      <td>163480.0</td>\n",
       "      <td>M</td>\n",
       "      <td>double_faults</td>\n",
       "      <td>5</td>\n",
       "    </tr>\n",
       "    <tr>\n",
       "      <th>2</th>\n",
       "      <td>11674105</td>\n",
       "      <td>195840.0</td>\n",
       "      <td>321404.0</td>\n",
       "      <td>M</td>\n",
       "      <td>double_faults</td>\n",
       "      <td>2</td>\n",
       "    </tr>\n",
       "    <tr>\n",
       "      <th>3</th>\n",
       "      <td>11674110</td>\n",
       "      <td>254742.0</td>\n",
       "      <td>321404.0</td>\n",
       "      <td>M</td>\n",
       "      <td>double_faults</td>\n",
       "      <td>5</td>\n",
       "    </tr>\n",
       "    <tr>\n",
       "      <th>4</th>\n",
       "      <td>11674111</td>\n",
       "      <td>83397.0</td>\n",
       "      <td>15894.0</td>\n",
       "      <td>M</td>\n",
       "      <td>double_faults</td>\n",
       "      <td>6</td>\n",
       "    </tr>\n",
       "    <tr>\n",
       "      <th>...</th>\n",
       "      <td>...</td>\n",
       "      <td>...</td>\n",
       "      <td>...</td>\n",
       "      <td>...</td>\n",
       "      <td>...</td>\n",
       "      <td>...</td>\n",
       "    </tr>\n",
       "    <tr>\n",
       "      <th>182</th>\n",
       "      <td>11703443</td>\n",
       "      <td>196958.0</td>\n",
       "      <td>416491.0</td>\n",
       "      <td>M</td>\n",
       "      <td>double_faults</td>\n",
       "      <td>8</td>\n",
       "    </tr>\n",
       "    <tr>\n",
       "      <th>183</th>\n",
       "      <td>11703445</td>\n",
       "      <td>399574.0</td>\n",
       "      <td>349490.0</td>\n",
       "      <td>M</td>\n",
       "      <td>double_faults</td>\n",
       "      <td>2</td>\n",
       "    </tr>\n",
       "    <tr>\n",
       "      <th>184</th>\n",
       "      <td>11703470</td>\n",
       "      <td>91916.0</td>\n",
       "      <td>42864.0</td>\n",
       "      <td>F</td>\n",
       "      <td>double_faults</td>\n",
       "      <td>4</td>\n",
       "    </tr>\n",
       "    <tr>\n",
       "      <th>185</th>\n",
       "      <td>11703524</td>\n",
       "      <td>413166.0</td>\n",
       "      <td>NaN</td>\n",
       "      <td>M</td>\n",
       "      <td>double_faults</td>\n",
       "      <td>8</td>\n",
       "    </tr>\n",
       "    <tr>\n",
       "      <th>186</th>\n",
       "      <td>11703525</td>\n",
       "      <td>98951.0</td>\n",
       "      <td>NaN</td>\n",
       "      <td>M</td>\n",
       "      <td>double_faults</td>\n",
       "      <td>4</td>\n",
       "    </tr>\n",
       "  </tbody>\n",
       "</table>\n",
       "<p>187 rows × 6 columns</p>\n",
       "</div>"
      ],
      "text/plain": [
       "     match_id  player_id_home  player_id_away gender statistic_name  \\\n",
       "0    11674074         66968.0         44834.0      F  double_faults   \n",
       "1    11674103         83397.0        163480.0      M  double_faults   \n",
       "2    11674105        195840.0        321404.0      M  double_faults   \n",
       "3    11674110        254742.0        321404.0      M  double_faults   \n",
       "4    11674111         83397.0         15894.0      M  double_faults   \n",
       "..        ...             ...             ...    ...            ...   \n",
       "182  11703443        196958.0        416491.0      M  double_faults   \n",
       "183  11703445        399574.0        349490.0      M  double_faults   \n",
       "184  11703470         91916.0         42864.0      F  double_faults   \n",
       "185  11703524        413166.0             NaN      M  double_faults   \n",
       "186  11703525         98951.0             NaN      M  double_faults   \n",
       "\n",
       "     match_value  \n",
       "0              4  \n",
       "1              5  \n",
       "2              2  \n",
       "3              5  \n",
       "4              6  \n",
       "..           ...  \n",
       "182            8  \n",
       "183            2  \n",
       "184            4  \n",
       "185            8  \n",
       "186            4  \n",
       "\n",
       "[187 rows x 6 columns]"
      ]
     },
     "execution_count": 218,
     "metadata": {},
     "output_type": "execute_result"
    }
   ],
   "source": [
    "double_faults_all = data_statistics[(data_statistics['statistic_name'] == 'double_faults') & (data_statistics['period'] == 'ALL')]\n",
    "double_faults_all['match_value'] = double_faults_all['home_value'] + double_faults_all['away_value']\n",
    "double_faults_all = pd.merge(match_player_gender, double_faults_all[['match_id', 'statistic_name', 'match_value']], on='match_id', how='inner')\n",
    "double_faults_all"
   ]
  },
  {
   "cell_type": "code",
   "execution_count": 219,
   "metadata": {},
   "outputs": [
    {
     "name": "stdout",
     "output_type": "stream",
     "text": [
      "gender\n",
      "F    108\n",
      "M     79\n",
      "dtype: int64\n",
      "gender\n",
      "F    816\n",
      "M    422\n",
      "Name: match_value, dtype: int64\n"
     ]
    },
    {
     "data": {
      "text/plain": [
       "gender\n",
       "F    7.555556\n",
       "M    5.341772\n",
       "Name: match_value, dtype: float64"
      ]
     },
     "execution_count": 219,
     "metadata": {},
     "output_type": "execute_result"
    }
   ],
   "source": [
    "print(double_faults_all.groupby('gender').size())\n",
    "print(double_faults_all.groupby('gender')['match_value'].sum())\n",
    "mean_double_faults = double_faults_all.groupby('gender')['match_value'].mean()\n",
    "mean_double_faults"
   ]
  },
  {
   "cell_type": "code",
   "execution_count": 220,
   "metadata": {},
   "outputs": [
    {
     "name": "stderr",
     "output_type": "stream",
     "text": [
      "C:\\Users\\eftekhari\\AppData\\Local\\Temp\\ipykernel_9312\\2679470274.py:36: UserWarning: set_ticklabels() should only be used with a fixed number of ticks, i.e. after set_ticks() or using a FixedLocator.\n",
      "  ax.set_xticklabels(['female', 'male'], color='#3C3D37')\n"
     ]
    },
    {
     "data": {
      "text/plain": [
       "<Figure size 1000x600 with 0 Axes>"
      ]
     },
     "metadata": {},
     "output_type": "display_data"
    },
    {
     "data": {
      "image/png": "[encoded data removed]",
      "text/plain": [
       "<Figure size 640x480 with 1 Axes>"
      ]
     },
     "metadata": {},
     "output_type": "display_data"
    }
   ],
   "source": [
    "female_faults = mean_double_faults['F']\n",
    "male_faults = mean_double_faults['M']\n",
    "percent_increase = ((female_faults - male_faults) / male_faults) * 100\n",
    "\n",
    "\n",
    "plt.figure(figsize=(10, 6))\n",
    "\n",
    "fig, ax = plt.subplots(1)\n",
    "\n",
    "ax.bar(mean_double_faults.index, mean_double_faults.values, color='#c1d818')\n",
    "\n",
    "ax.annotate(\n",
    "    '',\n",
    "    xy=(1, female_faults),\n",
    "    xytext=(1, male_faults),\n",
    "    arrowprops=dict(arrowstyle='<|-|>', color='#306048', lw=2),\n",
    ")\n",
    "ax.text(0.67, (female_faults + male_faults) / 2, f'{percent_increase:.2f}%', color='#306048', va='center', ha='left')\n",
    "\n",
    "ax.set_title(\n",
    "    \"Number of double faults based on gender\",\n",
    "    weight=\"bold\",\n",
    "    color=\"#3C3D37\",\n",
    "    fontsize=15,\n",
    "    loc=\"center\",\n",
    ")\n",
    "\n",
    "ax.set_ylabel(\n",
    "    \"Mean\",\n",
    "    loc=\"bottom\",\n",
    "    weight=\"bold\",\n",
    "    fontsize=14,\n",
    "    color=\"#3C3D37\",\n",
    ")\n",
    "\n",
    "ax.set_xticklabels(['female', 'male'], color='#3C3D37')\n",
    "\n",
    "\n",
    "ax.spines[[\"right\", \"top\"]].set_visible(False)\n",
    "ax.tick_params(axis='x', colors='#3C3D37')\n",
    "ax.tick_params(axis='y', colors='#3C3D37')\n",
    "\n",
    "\n",
    "\n",
    "plt.show()"
   ]
  },
  {
   "cell_type": "markdown",
   "metadata": {},
   "source": [
    "### 9. Which player has won the most tournaments in a single month?\n"
   ]
  },
  {
   "cell_type": "markdown",
   "metadata": {},
   "source": [
    "Based on the available data, 22 players won championships in October, with no player winning twice.\n"
   ]
  },
  {
   "cell_type": "code",
   "execution_count": 221,
   "metadata": {},
   "outputs": [
    {
     "data": {
      "text/html": [
       "<div>\n",
       "<style scoped>\n",
       "    .dataframe tbody tr th:only-of-type {\n",
       "        vertical-align: middle;\n",
       "    }\n",
       "\n",
       "    .dataframe tbody tr th {\n",
       "        vertical-align: top;\n",
       "    }\n",
       "\n",
       "    .dataframe thead th {\n",
       "        text-align: right;\n",
       "    }\n",
       "</style>\n",
       "<table border=\"1\" class=\"dataframe\">\n",
       "  <thead>\n",
       "    <tr style=\"text-align: right;\">\n",
       "      <th></th>\n",
       "      <th>match_id</th>\n",
       "      <th>start_datetime</th>\n",
       "      <th>winner_player_id</th>\n",
       "      <th>winner_name</th>\n",
       "      <th>month</th>\n",
       "    </tr>\n",
       "  </thead>\n",
       "  <tbody>\n",
       "    <tr>\n",
       "      <th>0</th>\n",
       "      <td>11673962</td>\n",
       "      <td>2023-10-01 16:00:00</td>\n",
       "      <td>221515.0</td>\n",
       "      <td>Tirante T.</td>\n",
       "      <td>10</td>\n",
       "    </tr>\n",
       "    <tr>\n",
       "      <th>1</th>\n",
       "      <td>11673993</td>\n",
       "      <td>2023-10-01 10:00:00</td>\n",
       "      <td>51100.0</td>\n",
       "      <td>Roca Batalla O.</td>\n",
       "      <td>10</td>\n",
       "    </tr>\n",
       "    <tr>\n",
       "      <th>2</th>\n",
       "      <td>11674011</td>\n",
       "      <td>2023-10-01 15:00:00</td>\n",
       "      <td>307383.0</td>\n",
       "      <td>Shelbayh A.</td>\n",
       "      <td>10</td>\n",
       "    </tr>\n",
       "    <tr>\n",
       "      <th>3</th>\n",
       "      <td>11674032</td>\n",
       "      <td>2023-10-01 14:45:00</td>\n",
       "      <td>238300.0</td>\n",
       "      <td>Machač T.</td>\n",
       "      <td>10</td>\n",
       "    </tr>\n",
       "    <tr>\n",
       "      <th>4</th>\n",
       "      <td>11674074</td>\n",
       "      <td>2023-10-01 03:00:00</td>\n",
       "      <td>66968.0</td>\n",
       "      <td>Kudermetova V.</td>\n",
       "      <td>10</td>\n",
       "    </tr>\n",
       "    <tr>\n",
       "      <th>5</th>\n",
       "      <td>11698055</td>\n",
       "      <td>2023-10-01 01:00:00</td>\n",
       "      <td>190950.0</td>\n",
       "      <td>Ma Y.</td>\n",
       "      <td>10</td>\n",
       "    </tr>\n",
       "    <tr>\n",
       "      <th>6</th>\n",
       "      <td>11698379</td>\n",
       "      <td>2023-10-01 07:00:00</td>\n",
       "      <td>42029.0</td>\n",
       "      <td>Safwat M.</td>\n",
       "      <td>10</td>\n",
       "    </tr>\n",
       "    <tr>\n",
       "      <th>7</th>\n",
       "      <td>11698403</td>\n",
       "      <td>2023-10-01 07:00:00</td>\n",
       "      <td>294815.0</td>\n",
       "      <td>Kubka M.</td>\n",
       "      <td>10</td>\n",
       "    </tr>\n",
       "    <tr>\n",
       "      <th>8</th>\n",
       "      <td>11698476</td>\n",
       "      <td>2023-10-01 08:50:00</td>\n",
       "      <td>322022.0</td>\n",
       "      <td>Gaubas V.</td>\n",
       "      <td>10</td>\n",
       "    </tr>\n",
       "    <tr>\n",
       "      <th>9</th>\n",
       "      <td>11698477</td>\n",
       "      <td>2023-10-01 08:20:00</td>\n",
       "      <td>288575.0</td>\n",
       "      <td>Martynov D.</td>\n",
       "      <td>10</td>\n",
       "    </tr>\n",
       "    <tr>\n",
       "      <th>10</th>\n",
       "      <td>11698544</td>\n",
       "      <td>2023-10-01 07:00:00</td>\n",
       "      <td>206602.0</td>\n",
       "      <td>Tabur C.</td>\n",
       "      <td>10</td>\n",
       "    </tr>\n",
       "    <tr>\n",
       "      <th>11</th>\n",
       "      <td>11698550</td>\n",
       "      <td>2023-10-01 09:55:00</td>\n",
       "      <td>275467.0</td>\n",
       "      <td>Paulson A.</td>\n",
       "      <td>10</td>\n",
       "    </tr>\n",
       "    <tr>\n",
       "      <th>12</th>\n",
       "      <td>11698683</td>\n",
       "      <td>2023-10-01 08:30:00</td>\n",
       "      <td>51309.0</td>\n",
       "      <td>Cid Subervi R.</td>\n",
       "      <td>10</td>\n",
       "    </tr>\n",
       "    <tr>\n",
       "      <th>13</th>\n",
       "      <td>11698735</td>\n",
       "      <td>2023-10-01 08:30:00</td>\n",
       "      <td>348987.0</td>\n",
       "      <td>Bartunkova N.</td>\n",
       "      <td>10</td>\n",
       "    </tr>\n",
       "    <tr>\n",
       "      <th>14</th>\n",
       "      <td>11698749</td>\n",
       "      <td>2023-10-01 09:00:00</td>\n",
       "      <td>67743.0</td>\n",
       "      <td>Gjorcheska L.</td>\n",
       "      <td>10</td>\n",
       "    </tr>\n",
       "    <tr>\n",
       "      <th>15</th>\n",
       "      <td>11698757</td>\n",
       "      <td>2023-10-01 10:00:00</td>\n",
       "      <td>132414.0</td>\n",
       "      <td>Guerrero Álvarez E.</td>\n",
       "      <td>10</td>\n",
       "    </tr>\n",
       "    <tr>\n",
       "      <th>16</th>\n",
       "      <td>11698861</td>\n",
       "      <td>2023-10-01 12:30:00</td>\n",
       "      <td>210033.0</td>\n",
       "      <td>Glinka D.</td>\n",
       "      <td>10</td>\n",
       "    </tr>\n",
       "    <tr>\n",
       "      <th>17</th>\n",
       "      <td>11699097</td>\n",
       "      <td>2023-10-01 13:00:00</td>\n",
       "      <td>299619.0</td>\n",
       "      <td>Janicijevic S.</td>\n",
       "      <td>10</td>\n",
       "    </tr>\n",
       "    <tr>\n",
       "      <th>18</th>\n",
       "      <td>11699173</td>\n",
       "      <td>2023-10-01 13:00:00</td>\n",
       "      <td>269909.0</td>\n",
       "      <td>Guillen Meza A.</td>\n",
       "      <td>10</td>\n",
       "    </tr>\n",
       "    <tr>\n",
       "      <th>19</th>\n",
       "      <td>11699296</td>\n",
       "      <td>2023-10-01 13:55:00</td>\n",
       "      <td>292051.0</td>\n",
       "      <td>Biolay  S.</td>\n",
       "      <td>10</td>\n",
       "    </tr>\n",
       "    <tr>\n",
       "      <th>20</th>\n",
       "      <td>11699361</td>\n",
       "      <td>2023-10-01 17:00:00</td>\n",
       "      <td>223513.0</td>\n",
       "      <td>Draxl L.</td>\n",
       "      <td>10</td>\n",
       "    </tr>\n",
       "    <tr>\n",
       "      <th>21</th>\n",
       "      <td>11699386</td>\n",
       "      <td>2023-10-01 19:40:00</td>\n",
       "      <td>51387.0</td>\n",
       "      <td>Townsend T.</td>\n",
       "      <td>10</td>\n",
       "    </tr>\n",
       "  </tbody>\n",
       "</table>\n",
       "</div>"
      ],
      "text/plain": [
       "    match_id      start_datetime  winner_player_id          winner_name  month\n",
       "0   11673962 2023-10-01 16:00:00          221515.0           Tirante T.     10\n",
       "1   11673993 2023-10-01 10:00:00           51100.0      Roca Batalla O.     10\n",
       "2   11674011 2023-10-01 15:00:00          307383.0          Shelbayh A.     10\n",
       "3   11674032 2023-10-01 14:45:00          238300.0            Machač T.     10\n",
       "4   11674074 2023-10-01 03:00:00           66968.0       Kudermetova V.     10\n",
       "5   11698055 2023-10-01 01:00:00          190950.0                Ma Y.     10\n",
       "6   11698379 2023-10-01 07:00:00           42029.0            Safwat M.     10\n",
       "7   11698403 2023-10-01 07:00:00          294815.0             Kubka M.     10\n",
       "8   11698476 2023-10-01 08:50:00          322022.0            Gaubas V.     10\n",
       "9   11698477 2023-10-01 08:20:00          288575.0          Martynov D.     10\n",
       "10  11698544 2023-10-01 07:00:00          206602.0             Tabur C.     10\n",
       "11  11698550 2023-10-01 09:55:00          275467.0           Paulson A.     10\n",
       "12  11698683 2023-10-01 08:30:00           51309.0       Cid Subervi R.     10\n",
       "13  11698735 2023-10-01 08:30:00          348987.0        Bartunkova N.     10\n",
       "14  11698749 2023-10-01 09:00:00           67743.0        Gjorcheska L.     10\n",
       "15  11698757 2023-10-01 10:00:00          132414.0  Guerrero Álvarez E.     10\n",
       "16  11698861 2023-10-01 12:30:00          210033.0            Glinka D.     10\n",
       "17  11699097 2023-10-01 13:00:00          299619.0       Janicijevic S.     10\n",
       "18  11699173 2023-10-01 13:00:00          269909.0      Guillen Meza A.     10\n",
       "19  11699296 2023-10-01 13:55:00          292051.0           Biolay  S.     10\n",
       "20  11699361 2023-10-01 17:00:00          223513.0             Draxl L.     10\n",
       "21  11699386 2023-10-01 19:40:00           51387.0          Townsend T.     10"
      ]
     },
     "execution_count": 221,
     "metadata": {},
     "output_type": "execute_result"
    }
   ],
   "source": [
    "final_match = data_match[data_match['slug'] == 'final']\n",
    "match_date = pd.merge(final_match[['match_id', 'start_datetime']], match_player[['match_id', 'winner_player_id', 'winner_name']], on='match_id', how='inner')\n",
    "match_date['month'] = match_date['start_datetime'].dt.month\n",
    "match_date"
   ]
  },
  {
   "cell_type": "code",
   "execution_count": 222,
   "metadata": {},
   "outputs": [
    {
     "data": {
      "text/plain": [
       "month  winner_player_id  winner_name        \n",
       "10     42029.0           Safwat M.              1\n",
       "       51100.0           Roca Batalla O.        1\n",
       "       51309.0           Cid Subervi R.         1\n",
       "       51387.0           Townsend T.            1\n",
       "       66968.0           Kudermetova V.         1\n",
       "       67743.0           Gjorcheska L.          1\n",
       "       132414.0          Guerrero Álvarez E.    1\n",
       "       190950.0          Ma Y.                  1\n",
       "       206602.0          Tabur C.               1\n",
       "       210033.0          Glinka D.              1\n",
       "       221515.0          Tirante T.             1\n",
       "       223513.0          Draxl L.               1\n",
       "       238300.0          Machač T.              1\n",
       "       269909.0          Guillen Meza A.        1\n",
       "       275467.0          Paulson A.             1\n",
       "       288575.0          Martynov D.            1\n",
       "       292051.0          Biolay  S.             1\n",
       "       294815.0          Kubka M.               1\n",
       "       299619.0          Janicijevic S.         1\n",
       "       307383.0          Shelbayh A.            1\n",
       "       322022.0          Gaubas V.              1\n",
       "       348987.0          Bartunkova N.          1\n",
       "Name: count, dtype: int64"
      ]
     },
     "execution_count": 222,
     "metadata": {},
     "output_type": "execute_result"
    }
   ],
   "source": [
    "match_date.groupby('month')[['winner_player_id', 'winner_name']].value_counts()"
   ]
  },
  {
   "cell_type": "markdown",
   "metadata": {},
   "source": [
    "### 10. Is there a correlation between a player's height and their ranking?\n"
   ]
  },
  {
   "cell_type": "markdown",
   "metadata": {},
   "source": [
    "According to the data distribution for both men and women, height does not provide an advantage in tennis and does not impact a better ranking.\n"
   ]
  },
  {
   "cell_type": "code",
   "execution_count": 261,
   "metadata": {},
   "outputs": [
    {
     "name": "stderr",
     "output_type": "stream",
     "text": [
      "C:\\Users\\eftekhari\\AppData\\Local\\Temp\\ipykernel_9312\\3439350862.py:5: SettingWithCopyWarning: \n",
      "A value is trying to be set on a copy of a slice from a DataFrame\n",
      "\n",
      "See the caveats in the documentation: https://pandas.pydata.org/pandas-docs/stable/user_guide/indexing.html#returning-a-view-versus-a-copy\n",
      "  height_rank.dropna(axis=0, how='any', inplace=True)\n"
     ]
    },
    {
     "data": {
      "text/html": [
       "<div>\n",
       "<style scoped>\n",
       "    .dataframe tbody tr th:only-of-type {\n",
       "        vertical-align: middle;\n",
       "    }\n",
       "\n",
       "    .dataframe tbody tr th {\n",
       "        vertical-align: top;\n",
       "    }\n",
       "\n",
       "    .dataframe thead th {\n",
       "        text-align: right;\n",
       "    }\n",
       "</style>\n",
       "<table border=\"1\" class=\"dataframe\">\n",
       "  <thead>\n",
       "    <tr style=\"text-align: right;\">\n",
       "      <th></th>\n",
       "      <th>height</th>\n",
       "      <th>current_rank</th>\n",
       "      <th>gender</th>\n",
       "    </tr>\n",
       "  </thead>\n",
       "  <tbody>\n",
       "    <tr>\n",
       "      <th>0</th>\n",
       "      <td>1.91</td>\n",
       "      <td>103.0</td>\n",
       "      <td>M</td>\n",
       "    </tr>\n",
       "    <tr>\n",
       "      <th>1</th>\n",
       "      <td>1.85</td>\n",
       "      <td>123.0</td>\n",
       "      <td>M</td>\n",
       "    </tr>\n",
       "    <tr>\n",
       "      <th>2</th>\n",
       "      <td>1.88</td>\n",
       "      <td>247.0</td>\n",
       "      <td>M</td>\n",
       "    </tr>\n",
       "    <tr>\n",
       "      <th>3</th>\n",
       "      <td>1.88</td>\n",
       "      <td>143.0</td>\n",
       "      <td>M</td>\n",
       "    </tr>\n",
       "    <tr>\n",
       "      <th>4</th>\n",
       "      <td>1.85</td>\n",
       "      <td>404.0</td>\n",
       "      <td>M</td>\n",
       "    </tr>\n",
       "    <tr>\n",
       "      <th>...</th>\n",
       "      <td>...</td>\n",
       "      <td>...</td>\n",
       "      <td>...</td>\n",
       "    </tr>\n",
       "    <tr>\n",
       "      <th>307</th>\n",
       "      <td>1.88</td>\n",
       "      <td>536.0</td>\n",
       "      <td>M</td>\n",
       "    </tr>\n",
       "    <tr>\n",
       "      <th>308</th>\n",
       "      <td>1.83</td>\n",
       "      <td>1127.0</td>\n",
       "      <td>M</td>\n",
       "    </tr>\n",
       "    <tr>\n",
       "      <th>314</th>\n",
       "      <td>1.88</td>\n",
       "      <td>1800.0</td>\n",
       "      <td>M</td>\n",
       "    </tr>\n",
       "    <tr>\n",
       "      <th>321</th>\n",
       "      <td>1.71</td>\n",
       "      <td>1268.0</td>\n",
       "      <td>F</td>\n",
       "    </tr>\n",
       "    <tr>\n",
       "      <th>355</th>\n",
       "      <td>1.83</td>\n",
       "      <td>461.0</td>\n",
       "      <td>M</td>\n",
       "    </tr>\n",
       "  </tbody>\n",
       "</table>\n",
       "<p>339 rows × 3 columns</p>\n",
       "</div>"
      ],
      "text/plain": [
       "     height  current_rank gender\n",
       "0      1.91         103.0      M\n",
       "1      1.85         123.0      M\n",
       "2      1.88         247.0      M\n",
       "3      1.88         143.0      M\n",
       "4      1.85         404.0      M\n",
       "..      ...           ...    ...\n",
       "307    1.88         536.0      M\n",
       "308    1.83        1127.0      M\n",
       "314    1.88        1800.0      M\n",
       "321    1.71        1268.0      F\n",
       "355    1.83         461.0      M\n",
       "\n",
       "[339 rows x 3 columns]"
      ]
     },
     "execution_count": 261,
     "metadata": {},
     "output_type": "execute_result"
    }
   ],
   "source": [
    "player_data = pd.concat([data_home_team, data_away_team])\n",
    "player_data.drop('match_id', axis=1, inplace=True)\n",
    "player_data.drop_duplicates(inplace=True)\n",
    "height_rank = player_data[['height', 'current_rank', 'gender']]\n",
    "height_rank.dropna(axis=0, how='any', inplace=True)\n",
    "height_rank"
   ]
  },
  {
   "cell_type": "code",
   "execution_count": 265,
   "metadata": {},
   "outputs": [
    {
     "name": "stderr",
     "output_type": "stream",
     "text": [
      "C:\\Users\\eftekhari\\AppData\\Local\\Temp\\ipykernel_9312\\349276073.py:33: UserWarning: No artists with labels found to put in legend.  Note that artists whose label start with an underscore are ignored when legend() is called with no argument.\n",
      "  ax.legend()\n"
     ]
    },
    {
     "data": {
      "image/png": "[encoded data removed]",
      "text/plain": [
       "<Figure size 1000x600 with 1 Axes>"
      ]
     },
     "metadata": {},
     "output_type": "display_data"
    }
   ],
   "source": [
    "fig, ax = plt.subplots(figsize=(10, 6))\n",
    "colors = height_rank['gender'].apply(lambda x: '#306048' if x == 'M' else '#c1d818')\n",
    "\n",
    "ax.scatter(height_rank['height'], height_rank['current_rank'], color=colors)\n",
    "\n",
    "ax.set_title(\n",
    "    \"Correlation between Player's Height and Ranking\",\n",
    "    weight=\"bold\",\n",
    "    color=\"#3C3D37\",\n",
    "    fontsize=15,\n",
    "    loc=\"left\",\n",
    ")\n",
    "ax.set_xlabel(\n",
    "    \"Height(m)\",\n",
    "    loc=\"left\",\n",
    "    weight=\"bold\",\n",
    "    fontsize=14,\n",
    "    color=\"#3C3D37\",\n",
    ")\n",
    "ax.set_ylabel(\n",
    "    \"Rank\",\n",
    "    loc=\"bottom\",\n",
    "    weight=\"bold\",\n",
    "    fontsize=14,\n",
    "    color=\"#3C3D37\",\n",
    ")\n",
    "\n",
    "ax.spines[[\"right\", \"top\"]].set_visible(False)\n",
    "ax.tick_params(axis='x', colors='#3C3D37')\n",
    "ax.tick_params(axis='y', colors='#3C3D37')\n",
    "\n",
    "ax.invert_yaxis()\n",
    "\n",
    "plt.show()"
   ]
  },
  {
   "cell_type": "markdown",
   "metadata": {},
   "source": [
    "### 11. What is the average duration of matches?\n"
   ]
  },
  {
   "cell_type": "markdown",
   "metadata": {},
   "source": [
    "On average, each game takes 69 minutes to complete.\n"
   ]
  },
  {
   "cell_type": "code",
   "execution_count": 266,
   "metadata": {},
   "outputs": [
    {
     "data": {
      "text/plain": [
       "count                          329\n",
       "mean     0 days 01:09:01.075987841\n",
       "std      0 days 00:33:45.365202765\n",
       "min              -1 days +23:46:24\n",
       "25%                0 days 00:44:51\n",
       "50%                0 days 00:59:20\n",
       "75%                0 days 01:33:21\n",
       "max                0 days 04:58:26\n",
       "Name: match_duration, dtype: object"
      ]
     },
     "execution_count": 266,
     "metadata": {},
     "output_type": "execute_result"
    }
   ],
   "source": [
    "mean_match_duration = data_match['match_duration'].mean()\n",
    "data_match['match_duration'].describe()"
   ]
  },
  {
   "cell_type": "code",
   "execution_count": 226,
   "metadata": {},
   "outputs": [
    {
     "data": {
      "image/png": "[encoded data removed]",
      "text/plain": [
       "<Figure size 1000x600 with 1 Axes>"
      ]
     },
     "metadata": {},
     "output_type": "display_data"
    }
   ],
   "source": [
    "match_duration_sort = data_match['match_duration_minutes'].sort_values().reset_index(drop=True)\n",
    "mean_match_duration_minutes = (mean_match_duration.total_seconds() / 60)\n",
    "\n",
    "fig, ax = plt.subplots(figsize=(10, 6))\n",
    "\n",
    "ax.scatter(range(len(match_duration_sort)), match_duration_sort, color='#c1d818', s=8)\n",
    "\n",
    "ax.axhline(y=mean_match_duration_minutes, color='#306048')\n",
    "\n",
    "ax.text(len(match_duration_sort) - 415, mean_match_duration_minutes, 'average', color='#306048', va='center', ha='left')\n",
    "ax.text(-20, mean_match_duration_minutes, f'{mean_match_duration_minutes:.0f}', color='#306048', va='center', ha='right')\n",
    "\n",
    "ax.set_title(\n",
    "    \"Duration of matches\",\n",
    "    weight=\"bold\",\n",
    "    color=\"#3C3D37\",\n",
    "    fontsize=15,\n",
    "    loc=\"left\",\n",
    ")\n",
    "ax.set_ylabel(\n",
    "    \"minutes\",\n",
    "    loc=\"bottom\",\n",
    "    weight=\"bold\",\n",
    "    fontsize=14,\n",
    "    color=\"#3C3D37\",\n",
    ")\n",
    "\n",
    "ax.spines[[\"right\", \"top\"]].set_visible(False)\n",
    "ax.tick_params(axis='x', colors='#3C3D37')\n",
    "ax.tick_params(axis='y', colors='#3C3D37')\n",
    "\n",
    "ax.get_xaxis().set_ticks([])\n",
    "\n",
    "plt.show()"
   ]
  },
  {
   "cell_type": "code",
   "execution_count": 227,
   "metadata": {},
   "outputs": [
    {
     "data": {
      "text/plain": [
       "<Axes: ylabel='match_duration_minutes'>"
      ]
     },
     "execution_count": 227,
     "metadata": {},
     "output_type": "execute_result"
    },
    {
     "data": {
      "image/png": "[encoded data removed]",
      "text/plain": [
       "<Figure size 1000x600 with 1 Axes>"
      ]
     },
     "metadata": {},
     "output_type": "display_data"
    }
   ],
   "source": [
    "fig, ax = plt.subplots(figsize=(10, 6))\n",
    "sns.boxplot(match_duration_sort, color=\"gray\", ax=ax)"
   ]
  },
  {
   "cell_type": "markdown",
   "metadata": {},
   "source": [
    "### 12. What is the average number of games per set in men's matches compared to women's matches?\n"
   ]
  },
  {
   "cell_type": "markdown",
   "metadata": {},
   "source": [
    "There is not much difference in the number of games per set between men and women.\n"
   ]
  },
  {
   "cell_type": "code",
   "execution_count": 228,
   "metadata": {},
   "outputs": [
    {
     "data": {
      "text/html": [
       "<div>\n",
       "<style scoped>\n",
       "    .dataframe tbody tr th:only-of-type {\n",
       "        vertical-align: middle;\n",
       "    }\n",
       "\n",
       "    .dataframe tbody tr th {\n",
       "        vertical-align: top;\n",
       "    }\n",
       "\n",
       "    .dataframe thead th {\n",
       "        text-align: right;\n",
       "    }\n",
       "</style>\n",
       "<table border=\"1\" class=\"dataframe\">\n",
       "  <thead>\n",
       "    <tr style=\"text-align: right;\">\n",
       "      <th></th>\n",
       "      <th>mean_game_in_set</th>\n",
       "    </tr>\n",
       "    <tr>\n",
       "      <th>gender</th>\n",
       "      <th></th>\n",
       "    </tr>\n",
       "  </thead>\n",
       "  <tbody>\n",
       "    <tr>\n",
       "      <th>F</th>\n",
       "      <td>8.715278</td>\n",
       "    </tr>\n",
       "    <tr>\n",
       "      <th>M</th>\n",
       "      <td>9.035897</td>\n",
       "    </tr>\n",
       "  </tbody>\n",
       "</table>\n",
       "</div>"
      ],
      "text/plain": [
       "        mean_game_in_set\n",
       "gender                  \n",
       "F               8.715278\n",
       "M               9.035897"
      ]
     },
     "execution_count": 228,
     "metadata": {},
     "output_type": "execute_result"
    }
   ],
   "source": [
    "tennis_set_game = data_tennis_power.groupby(['match_id', 'set_num'], as_index=False).agg(number_of_game=('game_num', 'max'))\n",
    "match_min_game_in_set = tennis_set_game.groupby('match_id', as_index=False).agg(mean_game_in_set=('number_of_game', 'mean'))\n",
    "match_min_game_in_set = pd.merge(match_min_game_in_set, match_player_gender[['match_id', 'gender']])\n",
    "match_min_game_in_set = match_min_game_in_set.groupby('gender').agg(mean_game_in_set=('mean_game_in_set', 'mean'))\n",
    "match_min_game_in_set"
   ]
  },
  {
   "cell_type": "code",
   "execution_count": 229,
   "metadata": {},
   "outputs": [
    {
     "name": "stderr",
     "output_type": "stream",
     "text": [
      "C:\\Users\\eftekhari\\AppData\\Local\\Temp\\ipykernel_9312\\2737932591.py:24: UserWarning: set_ticklabels() should only be used with a fixed number of ticks, i.e. after set_ticks() or using a FixedLocator.\n",
      "  ax.set_xticklabels(['female', 'male'], color='#3C3D37')\n"
     ]
    },
    {
     "data": {
      "text/plain": [
       "<Figure size 1000x600 with 0 Axes>"
      ]
     },
     "metadata": {},
     "output_type": "display_data"
    },
    {
     "data": {
      "image/png": "[encoded data removed]",
      "text/plain": [
       "<Figure size 640x480 with 1 Axes>"
      ]
     },
     "metadata": {},
     "output_type": "display_data"
    }
   ],
   "source": [
    "plt.figure(figsize=(10, 6))\n",
    "\n",
    "fig, ax = plt.subplots(1)\n",
    "\n",
    "ax.bar(match_min_game_in_set.index, match_min_game_in_set['mean_game_in_set'], color='#c1d818')\n",
    "\n",
    "\n",
    "ax.set_title(\n",
    "    \"Number of games per set\",\n",
    "    weight=\"bold\",\n",
    "    color=\"#3C3D37\",\n",
    "    fontsize=15,\n",
    "    loc=\"center\",\n",
    ")\n",
    "\n",
    "ax.set_ylabel(\n",
    "    \"Average sets\",\n",
    "    loc=\"bottom\",\n",
    "    weight=\"bold\",\n",
    "    fontsize=14,\n",
    "    color=\"#3C3D37\",\n",
    ")\n",
    "\n",
    "ax.set_xticklabels(['female', 'male'], color='#3C3D37')\n",
    "\n",
    "\n",
    "ax.spines[[\"right\", \"top\"]].set_visible(False)\n",
    "ax.tick_params(axis='x', colors='#3C3D37')\n",
    "ax.tick_params(axis='y', colors='#3C3D37')\n",
    "\n",
    "ax.set_ylim(0, 10)\n",
    "ax.set_yticks(range(0, 11, 1))\n",
    "\n",
    "\n",
    "plt.show()"
   ]
  },
  {
   "cell_type": "markdown",
   "metadata": {},
   "source": [
    "### 13. What is the distribution of left-handed versus right-handed players?"
   ]
  },
  {
   "cell_type": "markdown",
   "metadata": {},
   "source": [
    "Approximately 9 out of every 10 tennis players are right-handed.\n"
   ]
  },
  {
   "cell_type": "code",
   "execution_count": 230,
   "metadata": {},
   "outputs": [
    {
     "data": {
      "text/plain": [
       "plays\n",
       "right-handed    244\n",
       "left-handed      32\n",
       "Name: count, dtype: int64"
      ]
     },
     "execution_count": 230,
     "metadata": {},
     "output_type": "execute_result"
    }
   ],
   "source": [
    "plays_hand = player_data[player_data['plays'].isin(['right-handed', 'left-handed'])]['plays']\n",
    "plays_hand_count = plays_hand.value_counts()\n",
    "plays_hand_count"
   ]
  },
  {
   "cell_type": "code",
   "execution_count": 231,
   "metadata": {},
   "outputs": [
    {
     "data": {
      "image/png": "[encoded data removed]",
      "text/plain": [
       "<Figure size 1000x600 with 1 Axes>"
      ]
     },
     "metadata": {},
     "output_type": "display_data"
    }
   ],
   "source": [
    "plays_hand_percent = (plays_hand_count / plays_hand_count.sum()) * 100\n",
    "\n",
    "fig, ax = plt.subplots(figsize=(10, 6))\n",
    "bars = ax.bar(plays_hand_percent.index, plays_hand_percent.values, color='#c1d818')\n",
    "\n",
    "\n",
    "ax.set_title(\n",
    "    \"left-handed versus right-handed\",\n",
    "    weight=\"bold\",\n",
    "    color=\"#3C3D37\",\n",
    "    fontsize=15,\n",
    "    loc=\"center\",\n",
    ")\n",
    "\n",
    "\n",
    "\n",
    "ax.spines[[\"right\", \"top\"]].set_visible(False)\n",
    "ax.tick_params(axis='x', colors='#3C3D37')\n",
    "ax.tick_params(axis='y', colors='#3C3D37')\n",
    "\n",
    "ax.invert_xaxis()\n",
    "ax.set_ylim(0, 100)\n",
    "\n",
    "for bar in bars:\n",
    "    height = bar.get_height()\n",
    "    ax.text(bar.get_x() + bar.get_width() / 2 , height,\n",
    "            f'{height:.2f}%', ha='center', va='bottom', color='#3C3D37', fontsize=10)\n",
    "\n",
    "plt.show()\n"
   ]
  },
  {
   "cell_type": "markdown",
   "metadata": {},
   "source": [
    "### 14. What is the most common type of surface used in tournaments?"
   ]
  },
  {
   "cell_type": "markdown",
   "metadata": {},
   "source": [
    "Most of the match courts for the games have been Hardcourt outdoor and Red clay.\n"
   ]
  },
  {
   "cell_type": "code",
   "execution_count": 232,
   "metadata": {},
   "outputs": [
    {
     "data": {
      "text/plain": [
       "ground_type\n",
       "Hardcourt outdoor    335\n",
       "Red clay             323\n",
       "Hardcourt indoor      84\n",
       "Unknown               17\n",
       "Carpet indoor          3\n",
       "Synthetic outdoor      1\n",
       "Name: count, dtype: int64"
      ]
     },
     "execution_count": 232,
     "metadata": {},
     "output_type": "execute_result"
    }
   ],
   "source": [
    "ground_type_count = data_match['ground_type'].value_counts()\n",
    "ground_type_count"
   ]
  },
  {
   "cell_type": "code",
   "execution_count": 233,
   "metadata": {},
   "outputs": [
    {
     "data": {
      "image/png": "[encoded data removed]",
      "text/plain": [
       "<Figure size 1000x600 with 1 Axes>"
      ]
     },
     "metadata": {},
     "output_type": "display_data"
    }
   ],
   "source": [
    "ground_type_count_top = ground_type_count.head(3)\n",
    "\n",
    "ground_type_percent = (ground_type_count_top / ground_type_count_top.sum()) * 100\n",
    "\n",
    "fig, ax = plt.subplots(figsize=(10, 6))\n",
    "ax.barh(ground_type_percent.index, ground_type_percent.values, color=['#c1d818', '#c2452d', '#306048'])\n",
    "\n",
    "\n",
    "ax.set_title(\n",
    "    \"most common type of surface used in tournaments\",\n",
    "    weight=\"bold\",\n",
    "    color=\"#3C3D37\",\n",
    "    fontsize=15,\n",
    "    loc=\"center\",\n",
    ")\n",
    "\n",
    "ax.set_ylabel(\n",
    "    \"\",\n",
    "    loc=\"bottom\",\n",
    "    weight=\"bold\",\n",
    "    fontsize=14,\n",
    "    color=\"#3C3D37\",\n",
    ")\n",
    "\n",
    "\n",
    "ax.spines[[\"right\", \"top\"]].set_visible(False)\n",
    "ax.tick_params(axis='x', colors='#3C3D37')\n",
    "ax.tick_params(axis='y', colors='#3C3D37')\n",
    "\n",
    "ax.invert_yaxis()\n",
    "ax.set_xlim(0, 100)\n",
    "ax.grid(axis='x', linestyle='--', alpha=0.6, color= '#3C3D37')\n",
    "\n",
    "plt.show()\n"
   ]
  },
  {
   "cell_type": "markdown",
   "metadata": {},
   "source": [
    "### 15. How many distinct countries are represented in the dataset?"
   ]
  },
  {
   "cell_type": "markdown",
   "metadata": {},
   "source": [
    "There are players from 69 different countries in this dataset.\n"
   ]
  },
  {
   "cell_type": "code",
   "execution_count": 234,
   "metadata": {},
   "outputs": [
    {
     "data": {
      "text/plain": [
       "69"
      ]
     },
     "execution_count": 234,
     "metadata": {},
     "output_type": "execute_result"
    }
   ],
   "source": [
    "player_data['country'].nunique() - 1 #Unknown"
   ]
  },
  {
   "cell_type": "markdown",
   "metadata": {},
   "source": [
    "### 16. Which player has the highest winning percentage against top 10 ranked opponents?\n"
   ]
  },
  {
   "cell_type": "markdown",
   "metadata": {},
   "source": [
    "For each gender, among players who were not in the top 10, three women had a 100% win rate against the top 10 players, and one man achieved a 50% win rate. Another point to note is that these four players each only had one victory, and the other 11 players did not achieve any wins at all.\n"
   ]
  },
  {
   "cell_type": "code",
   "execution_count": 235,
   "metadata": {},
   "outputs": [],
   "source": [
    "top_10_male = player_data[(player_data['current_rank'] <= 10) & (player_data['current_rank'] > 0) & (player_data['gender'] == 'M')]\n",
    "top_10_female = player_data[(player_data['current_rank'] <= 10) & (player_data['current_rank'] > 0) & (player_data['gender'] == 'F')]"
   ]
  },
  {
   "cell_type": "code",
   "execution_count": 236,
   "metadata": {},
   "outputs": [],
   "source": [
    "top_10_male_match = match_player[(match_player['player_id_home'].isin(top_10_male['player_id'])) | (match_player['player_id_away'].isin(top_10_male['player_id']))]\n",
    "top_10_female_match = match_player[(match_player['player_id_home'].isin(top_10_female['player_id'])) | (match_player['player_id_away'].isin(top_10_female['player_id']))]\n"
   ]
  },
  {
   "cell_type": "code",
   "execution_count": 237,
   "metadata": {},
   "outputs": [
    {
     "name": "stderr",
     "output_type": "stream",
     "text": [
      "C:\\Users\\eftekhari\\AppData\\Local\\Temp\\ipykernel_9312\\1169963978.py:1: SettingWithCopyWarning: \n",
      "A value is trying to be set on a copy of a slice from a DataFrame.\n",
      "Try using .loc[row_indexer,col_indexer] = value instead\n",
      "\n",
      "See the caveats in the documentation: https://pandas.pydata.org/pandas-docs/stable/user_guide/indexing.html#returning-a-view-versus-a-copy\n",
      "  top_10_male_match['lost_player_id'] = top_10_male_match.apply(\n",
      "C:\\Users\\eftekhari\\AppData\\Local\\Temp\\ipykernel_9312\\1169963978.py:5: SettingWithCopyWarning: \n",
      "A value is trying to be set on a copy of a slice from a DataFrame.\n",
      "Try using .loc[row_indexer,col_indexer] = value instead\n",
      "\n",
      "See the caveats in the documentation: https://pandas.pydata.org/pandas-docs/stable/user_guide/indexing.html#returning-a-view-versus-a-copy\n",
      "  top_10_male_match['lost_name'] = top_10_male_match.apply(\n",
      "C:\\Users\\eftekhari\\AppData\\Local\\Temp\\ipykernel_9312\\1169963978.py:9: SettingWithCopyWarning: \n",
      "A value is trying to be set on a copy of a slice from a DataFrame.\n",
      "Try using .loc[row_indexer,col_indexer] = value instead\n",
      "\n",
      "See the caveats in the documentation: https://pandas.pydata.org/pandas-docs/stable/user_guide/indexing.html#returning-a-view-versus-a-copy\n",
      "  top_10_male_match['not_top_id'] = top_10_male_match.apply(\n",
      "C:\\Users\\eftekhari\\AppData\\Local\\Temp\\ipykernel_9312\\1169963978.py:13: SettingWithCopyWarning: \n",
      "A value is trying to be set on a copy of a slice from a DataFrame.\n",
      "Try using .loc[row_indexer,col_indexer] = value instead\n",
      "\n",
      "See the caveats in the documentation: https://pandas.pydata.org/pandas-docs/stable/user_guide/indexing.html#returning-a-view-versus-a-copy\n",
      "  top_10_male_match['not_top_name'] = top_10_male_match.apply(\n",
      "C:\\Users\\eftekhari\\AppData\\Local\\Temp\\ipykernel_9312\\1169963978.py:17: SettingWithCopyWarning: \n",
      "A value is trying to be set on a copy of a slice from a DataFrame.\n",
      "Try using .loc[row_indexer,col_indexer] = value instead\n",
      "\n",
      "See the caveats in the documentation: https://pandas.pydata.org/pandas-docs/stable/user_guide/indexing.html#returning-a-view-versus-a-copy\n",
      "  top_10_male_match['win_not_top'] = top_10_male_match.apply(\n",
      "C:\\Users\\eftekhari\\AppData\\Local\\Temp\\ipykernel_9312\\1169963978.py:24: SettingWithCopyWarning: \n",
      "A value is trying to be set on a copy of a slice from a DataFrame.\n",
      "Try using .loc[row_indexer,col_indexer] = value instead\n",
      "\n",
      "See the caveats in the documentation: https://pandas.pydata.org/pandas-docs/stable/user_guide/indexing.html#returning-a-view-versus-a-copy\n",
      "  top_10_female_match['lost_player_id'] = top_10_female_match.apply(\n",
      "C:\\Users\\eftekhari\\AppData\\Local\\Temp\\ipykernel_9312\\1169963978.py:28: SettingWithCopyWarning: \n",
      "A value is trying to be set on a copy of a slice from a DataFrame.\n",
      "Try using .loc[row_indexer,col_indexer] = value instead\n",
      "\n",
      "See the caveats in the documentation: https://pandas.pydata.org/pandas-docs/stable/user_guide/indexing.html#returning-a-view-versus-a-copy\n",
      "  top_10_female_match['lost_name'] = top_10_female_match.apply(\n",
      "C:\\Users\\eftekhari\\AppData\\Local\\Temp\\ipykernel_9312\\1169963978.py:32: SettingWithCopyWarning: \n",
      "A value is trying to be set on a copy of a slice from a DataFrame.\n",
      "Try using .loc[row_indexer,col_indexer] = value instead\n",
      "\n",
      "See the caveats in the documentation: https://pandas.pydata.org/pandas-docs/stable/user_guide/indexing.html#returning-a-view-versus-a-copy\n",
      "  top_10_female_match['not_top_id'] = top_10_female_match.apply(\n",
      "C:\\Users\\eftekhari\\AppData\\Local\\Temp\\ipykernel_9312\\1169963978.py:36: SettingWithCopyWarning: \n",
      "A value is trying to be set on a copy of a slice from a DataFrame.\n",
      "Try using .loc[row_indexer,col_indexer] = value instead\n",
      "\n",
      "See the caveats in the documentation: https://pandas.pydata.org/pandas-docs/stable/user_guide/indexing.html#returning-a-view-versus-a-copy\n",
      "  top_10_female_match['not_top_name'] = top_10_female_match.apply(\n",
      "C:\\Users\\eftekhari\\AppData\\Local\\Temp\\ipykernel_9312\\1169963978.py:40: SettingWithCopyWarning: \n",
      "A value is trying to be set on a copy of a slice from a DataFrame.\n",
      "Try using .loc[row_indexer,col_indexer] = value instead\n",
      "\n",
      "See the caveats in the documentation: https://pandas.pydata.org/pandas-docs/stable/user_guide/indexing.html#returning-a-view-versus-a-copy\n",
      "  top_10_female_match['win_not_top'] = top_10_female_match.apply(\n"
     ]
    }
   ],
   "source": [
    "top_10_male_match['lost_player_id'] = top_10_male_match.apply(\n",
    "    lambda row, : row['player_id_away'] if row['winner_code'] == 1 else row['player_id_home'],\n",
    "    axis=1\n",
    ")\n",
    "top_10_male_match['lost_name'] = top_10_male_match.apply(\n",
    "    lambda row, : row['name_away'] if row['winner_code'] == 1 else row['name_home'],\n",
    "    axis=1\n",
    ")\n",
    "top_10_male_match['not_top_id'] = top_10_male_match.apply(\n",
    "    lambda row, : row['lost_player_id'] if row['winner_player_id'] in top_10_male['player_id'].values else row['winner_player_id'],\n",
    "    axis=1\n",
    ")\n",
    "top_10_male_match['not_top_name'] = top_10_male_match.apply(\n",
    "    lambda row, : row['lost_name'] if row['winner_player_id'] in top_10_male['player_id'].values else row['winner_name'],\n",
    "    axis=1\n",
    ")\n",
    "top_10_male_match['win_not_top'] = top_10_male_match.apply(\n",
    "    lambda row, : True if row['winner_player_id'] == row['not_top_id'] else False,\n",
    "    axis=1\n",
    ")\n",
    "\n",
    "\n",
    "\n",
    "top_10_female_match['lost_player_id'] = top_10_female_match.apply(\n",
    "    lambda row, : row['player_id_away'] if row['winner_code'] == 1 else row['player_id_home'],\n",
    "    axis=1\n",
    ")\n",
    "top_10_female_match['lost_name'] = top_10_female_match.apply(\n",
    "    lambda row, : row['name_away'] if row['winner_code'] == 1 else row['name_home'],\n",
    "    axis=1\n",
    ")\n",
    "top_10_female_match['not_top_id'] = top_10_female_match.apply(\n",
    "    lambda row, : row['lost_player_id'] if row['winner_player_id'] in top_10_female['player_id'].values else row['winner_player_id'],\n",
    "    axis=1\n",
    ")\n",
    "top_10_female_match['not_top_name'] = top_10_female_match.apply(\n",
    "    lambda row, : row['lost_name'] if row['winner_player_id'] in top_10_female['player_id'].values else row['winner_name'],\n",
    "    axis=1\n",
    ")\n",
    "top_10_female_match['win_not_top'] = top_10_female_match.apply(\n",
    "    lambda row, : True if row['winner_player_id'] == row['not_top_id'] else False,\n",
    "    axis=1\n",
    ")\n"
   ]
  },
  {
   "cell_type": "code",
   "execution_count": 238,
   "metadata": {},
   "outputs": [],
   "source": [
    "top_10_male_match_result = top_10_male_match[['winner_player_id', 'winner_name', 'lost_player_id', 'lost_name', 'not_top_id', 'not_top_name', 'win_not_top']]\n",
    "top_10_female_match_result = top_10_female_match[['winner_player_id', 'winner_name', 'lost_player_id', 'lost_name', 'not_top_id', 'not_top_name', 'win_not_top']]"
   ]
  },
  {
   "cell_type": "code",
   "execution_count": 239,
   "metadata": {},
   "outputs": [],
   "source": [
    "not_top_male_result = top_10_male_match_result.groupby(['not_top_id', 'not_top_name'], as_index=False).agg(win=('win_not_top', 'sum'), play_match=('not_top_id', 'count'))\n",
    "not_top_female_result = top_10_female_match_result.groupby(['not_top_id', 'not_top_name'], as_index=False).agg(win=('win_not_top', 'sum'), play_match=('not_top_id', 'count'))\n"
   ]
  },
  {
   "cell_type": "code",
   "execution_count": 240,
   "metadata": {},
   "outputs": [],
   "source": [
    "not_top_male_result['percentage'] = (not_top_male_result['win'] / not_top_male_result['play_match']) * 100\n",
    "not_top_female_result['percentage'] = (not_top_female_result['win'] / not_top_female_result['play_match']) * 100"
   ]
  },
  {
   "cell_type": "code",
   "execution_count": 241,
   "metadata": {},
   "outputs": [
    {
     "data": {
      "text/html": [
       "<div>\n",
       "<style scoped>\n",
       "    .dataframe tbody tr th:only-of-type {\n",
       "        vertical-align: middle;\n",
       "    }\n",
       "\n",
       "    .dataframe tbody tr th {\n",
       "        vertical-align: top;\n",
       "    }\n",
       "\n",
       "    .dataframe thead th {\n",
       "        text-align: right;\n",
       "    }\n",
       "</style>\n",
       "<table border=\"1\" class=\"dataframe\">\n",
       "  <thead>\n",
       "    <tr style=\"text-align: right;\">\n",
       "      <th></th>\n",
       "      <th>not_top_id</th>\n",
       "      <th>not_top_name</th>\n",
       "      <th>win</th>\n",
       "      <th>play_match</th>\n",
       "      <th>percentage</th>\n",
       "    </tr>\n",
       "  </thead>\n",
       "  <tbody>\n",
       "    <tr>\n",
       "      <th>0</th>\n",
       "      <td>23581.0</td>\n",
       "      <td>Dimitrov G.</td>\n",
       "      <td>1</td>\n",
       "      <td>2</td>\n",
       "      <td>50.0</td>\n",
       "    </tr>\n",
       "    <tr>\n",
       "      <th>1</th>\n",
       "      <td>59281.0</td>\n",
       "      <td>Nishioka Y.</td>\n",
       "      <td>0</td>\n",
       "      <td>1</td>\n",
       "      <td>0.0</td>\n",
       "    </tr>\n",
       "    <tr>\n",
       "      <th>2</th>\n",
       "      <td>89632.0</td>\n",
       "      <td>Jarry N.</td>\n",
       "      <td>0</td>\n",
       "      <td>1</td>\n",
       "      <td>0.0</td>\n",
       "    </tr>\n",
       "    <tr>\n",
       "      <th>3</th>\n",
       "      <td>119248.0</td>\n",
       "      <td>Ruud C.</td>\n",
       "      <td>0</td>\n",
       "      <td>1</td>\n",
       "      <td>0.0</td>\n",
       "    </tr>\n",
       "    <tr>\n",
       "      <th>4</th>\n",
       "      <td>157456.0</td>\n",
       "      <td>Davidovich Fokina A.</td>\n",
       "      <td>0</td>\n",
       "      <td>1</td>\n",
       "      <td>0.0</td>\n",
       "    </tr>\n",
       "    <tr>\n",
       "      <th>5</th>\n",
       "      <td>185388.0</td>\n",
       "      <td>Humbert U.</td>\n",
       "      <td>0</td>\n",
       "      <td>1</td>\n",
       "      <td>0.0</td>\n",
       "    </tr>\n",
       "    <tr>\n",
       "      <th>6</th>\n",
       "      <td>261015.0</td>\n",
       "      <td>Musetti L.</td>\n",
       "      <td>0</td>\n",
       "      <td>1</td>\n",
       "      <td>0.0</td>\n",
       "    </tr>\n",
       "  </tbody>\n",
       "</table>\n",
       "</div>"
      ],
      "text/plain": [
       "   not_top_id          not_top_name  win  play_match  percentage\n",
       "0     23581.0           Dimitrov G.    1           2        50.0\n",
       "1     59281.0           Nishioka Y.    0           1         0.0\n",
       "2     89632.0              Jarry N.    0           1         0.0\n",
       "3    119248.0               Ruud C.    0           1         0.0\n",
       "4    157456.0  Davidovich Fokina A.    0           1         0.0\n",
       "5    185388.0            Humbert U.    0           1         0.0\n",
       "6    261015.0            Musetti L.    0           1         0.0"
      ]
     },
     "execution_count": 241,
     "metadata": {},
     "output_type": "execute_result"
    }
   ],
   "source": [
    "not_top_male_result"
   ]
  },
  {
   "cell_type": "code",
   "execution_count": 242,
   "metadata": {},
   "outputs": [
    {
     "data": {
      "text/html": [
       "<div>\n",
       "<style scoped>\n",
       "    .dataframe tbody tr th:only-of-type {\n",
       "        vertical-align: middle;\n",
       "    }\n",
       "\n",
       "    .dataframe tbody tr th {\n",
       "        vertical-align: top;\n",
       "    }\n",
       "\n",
       "    .dataframe thead th {\n",
       "        text-align: right;\n",
       "    }\n",
       "</style>\n",
       "<table border=\"1\" class=\"dataframe\">\n",
       "  <thead>\n",
       "    <tr style=\"text-align: right;\">\n",
       "      <th></th>\n",
       "      <th>not_top_id</th>\n",
       "      <th>not_top_name</th>\n",
       "      <th>win</th>\n",
       "      <th>play_match</th>\n",
       "      <th>percentage</th>\n",
       "    </tr>\n",
       "  </thead>\n",
       "  <tbody>\n",
       "    <tr>\n",
       "      <th>0</th>\n",
       "      <td>60392.0</td>\n",
       "      <td>Sorribes Tormo S.</td>\n",
       "      <td>0</td>\n",
       "      <td>1</td>\n",
       "      <td>0.0</td>\n",
       "    </tr>\n",
       "    <tr>\n",
       "      <th>1</th>\n",
       "      <td>66968.0</td>\n",
       "      <td>Kudermetova V.</td>\n",
       "      <td>1</td>\n",
       "      <td>1</td>\n",
       "      <td>100.0</td>\n",
       "    </tr>\n",
       "    <tr>\n",
       "      <th>2</th>\n",
       "      <td>67759.0</td>\n",
       "      <td>Alexandrova E.</td>\n",
       "      <td>0</td>\n",
       "      <td>1</td>\n",
       "      <td>0.0</td>\n",
       "    </tr>\n",
       "    <tr>\n",
       "      <th>3</th>\n",
       "      <td>90664.0</td>\n",
       "      <td>Kalinina A.</td>\n",
       "      <td>1</td>\n",
       "      <td>1</td>\n",
       "      <td>100.0</td>\n",
       "    </tr>\n",
       "    <tr>\n",
       "      <th>4</th>\n",
       "      <td>91960.0</td>\n",
       "      <td>Kenin S.</td>\n",
       "      <td>0</td>\n",
       "      <td>1</td>\n",
       "      <td>0.0</td>\n",
       "    </tr>\n",
       "    <tr>\n",
       "      <th>5</th>\n",
       "      <td>257784.0</td>\n",
       "      <td>Zheng Q.</td>\n",
       "      <td>0</td>\n",
       "      <td>1</td>\n",
       "      <td>0.0</td>\n",
       "    </tr>\n",
       "    <tr>\n",
       "      <th>6</th>\n",
       "      <td>311012.0</td>\n",
       "      <td>Krueger A.</td>\n",
       "      <td>0</td>\n",
       "      <td>1</td>\n",
       "      <td>0.0</td>\n",
       "    </tr>\n",
       "    <tr>\n",
       "      <th>7</th>\n",
       "      <td>406776.0</td>\n",
       "      <td>Andreeva M.</td>\n",
       "      <td>1</td>\n",
       "      <td>1</td>\n",
       "      <td>100.0</td>\n",
       "    </tr>\n",
       "  </tbody>\n",
       "</table>\n",
       "</div>"
      ],
      "text/plain": [
       "   not_top_id       not_top_name  win  play_match  percentage\n",
       "0     60392.0  Sorribes Tormo S.    0           1         0.0\n",
       "1     66968.0     Kudermetova V.    1           1       100.0\n",
       "2     67759.0     Alexandrova E.    0           1         0.0\n",
       "3     90664.0        Kalinina A.    1           1       100.0\n",
       "4     91960.0           Kenin S.    0           1         0.0\n",
       "5    257784.0           Zheng Q.    0           1         0.0\n",
       "6    311012.0         Krueger A.    0           1         0.0\n",
       "7    406776.0        Andreeva M.    1           1       100.0"
      ]
     },
     "execution_count": 242,
     "metadata": {},
     "output_type": "execute_result"
    }
   ],
   "source": [
    "not_top_female_result"
   ]
  },
  {
   "cell_type": "code",
   "execution_count": 243,
   "metadata": {},
   "outputs": [
    {
     "data": {
      "image/png": "[encoded data removed]",
      "text/plain": [
       "<Figure size 1600x800 with 2 Axes>"
      ]
     },
     "metadata": {},
     "output_type": "display_data"
    }
   ],
   "source": [
    "not_top_male_result = not_top_male_result.sort_values(by='not_top_name', ascending=False)\n",
    "not_top_female_result = not_top_female_result.sort_values(by='not_top_name', ascending=False)\n",
    "\n",
    "fig, (axwomen, axmen) = plt.subplots(nrows=1, ncols=2, figsize=(16, 8))\n",
    "fig.suptitle('winning percentage against top 10 ranked', weight=\"bold\", fontsize=16)\n",
    "\n",
    "bars_women = axwomen.barh(not_top_female_result['not_top_name'], not_top_female_result['percentage'], color= '#d9f048')\n",
    "axwomen.set_xlim(0, 100)\n",
    "axwomen.spines[[\"right\", \"top\"]].set_visible(False)\n",
    "axwomen.tick_params(axis='x', colors='#3C3D37')\n",
    "axwomen.tick_params(axis='y', colors='#3C3D37')\n",
    "axwomen.set_title(\n",
    "    \"Female\",\n",
    "    weight=\"bold\",\n",
    "    color=\"#3C3D37\",\n",
    "    fontsize=15,\n",
    "    loc=\"center\",\n",
    ")\n",
    "for bar, win, play in zip(bars_women, not_top_female_result['win'], not_top_female_result['play_match']):\n",
    "    axwomen.text(bar.get_width() + 1, bar.get_y() + bar.get_height()/2, f'{win}/{play}', va='center', ha='left', fontsize=10, color='#3C3D37')\n",
    "\n",
    "bars_men = axmen.barh(not_top_male_result['not_top_name'], not_top_male_result['percentage'], color= '#d9f048')\n",
    "axmen.set_xlim(0, 100)\n",
    "axmen.spines[[\"right\", \"top\"]].set_visible(False)\n",
    "axmen.tick_params(axis='x', colors='#3C3D37')\n",
    "axmen.tick_params(axis='y', colors='#3C3D37')\n",
    "axmen.set_title(\n",
    "    \"Male\",\n",
    "    weight=\"bold\",\n",
    "    color=\"#3C3D37\",\n",
    "    fontsize=15,\n",
    "    loc=\"center\",\n",
    ")\n",
    "for bar, win, play in zip(bars_men, not_top_male_result['win'], not_top_male_result['play_match']):\n",
    "    axmen.text(bar.get_width() + 1, bar.get_y() + bar.get_height()/2, f'{win}/{play}', va='center', ha='left', fontsize=10, color='#3C3D37')\n",
    "\n",
    "plt.subplots_adjust(wspace=0.4)\n",
    "\n",
    "plt.show()\n"
   ]
  },
  {
   "cell_type": "markdown",
   "metadata": {},
   "source": [
    "### 17. What is the average number of breaks of serve per match?"
   ]
  },
  {
   "cell_type": "markdown",
   "metadata": {},
   "source": [
    "In tennis, if a player wins a game when it is the opponent's turn to serve, it is called a \"break of game.\"<br> On average, there are 7 breaks of game per match.\n"
   ]
  },
  {
   "cell_type": "code",
   "execution_count": 244,
   "metadata": {},
   "outputs": [
    {
     "data": {
      "text/html": [
       "<div>\n",
       "<style scoped>\n",
       "    .dataframe tbody tr th:only-of-type {\n",
       "        vertical-align: middle;\n",
       "    }\n",
       "\n",
       "    .dataframe tbody tr th {\n",
       "        vertical-align: top;\n",
       "    }\n",
       "\n",
       "    .dataframe thead th {\n",
       "        text-align: right;\n",
       "    }\n",
       "</style>\n",
       "<table border=\"1\" class=\"dataframe\">\n",
       "  <thead>\n",
       "    <tr style=\"text-align: right;\">\n",
       "      <th></th>\n",
       "      <th>match_id</th>\n",
       "      <th>set_num</th>\n",
       "      <th>game_num</th>\n",
       "      <th>value</th>\n",
       "      <th>break_occurred</th>\n",
       "    </tr>\n",
       "  </thead>\n",
       "  <tbody>\n",
       "    <tr>\n",
       "      <th>0</th>\n",
       "      <td>11674074</td>\n",
       "      <td>1</td>\n",
       "      <td>1</td>\n",
       "      <td>30.50</td>\n",
       "      <td>False</td>\n",
       "    </tr>\n",
       "    <tr>\n",
       "      <th>1</th>\n",
       "      <td>11674074</td>\n",
       "      <td>1</td>\n",
       "      <td>2</td>\n",
       "      <td>81.10</td>\n",
       "      <td>True</td>\n",
       "    </tr>\n",
       "    <tr>\n",
       "      <th>2</th>\n",
       "      <td>11674074</td>\n",
       "      <td>1</td>\n",
       "      <td>3</td>\n",
       "      <td>51.60</td>\n",
       "      <td>False</td>\n",
       "    </tr>\n",
       "    <tr>\n",
       "      <th>3</th>\n",
       "      <td>11674074</td>\n",
       "      <td>1</td>\n",
       "      <td>4</td>\n",
       "      <td>-33.80</td>\n",
       "      <td>False</td>\n",
       "    </tr>\n",
       "    <tr>\n",
       "      <th>4</th>\n",
       "      <td>11674074</td>\n",
       "      <td>1</td>\n",
       "      <td>5</td>\n",
       "      <td>-59.88</td>\n",
       "      <td>True</td>\n",
       "    </tr>\n",
       "    <tr>\n",
       "      <th>5</th>\n",
       "      <td>11674074</td>\n",
       "      <td>1</td>\n",
       "      <td>6</td>\n",
       "      <td>-22.68</td>\n",
       "      <td>False</td>\n",
       "    </tr>\n",
       "    <tr>\n",
       "      <th>6</th>\n",
       "      <td>11674074</td>\n",
       "      <td>1</td>\n",
       "      <td>7</td>\n",
       "      <td>10.00</td>\n",
       "      <td>False</td>\n",
       "    </tr>\n",
       "  </tbody>\n",
       "</table>\n",
       "</div>"
      ],
      "text/plain": [
       "   match_id  set_num  game_num  value  break_occurred\n",
       "0  11674074        1         1  30.50           False\n",
       "1  11674074        1         2  81.10            True\n",
       "2  11674074        1         3  51.60           False\n",
       "3  11674074        1         4 -33.80           False\n",
       "4  11674074        1         5 -59.88            True\n",
       "5  11674074        1         6 -22.68           False\n",
       "6  11674074        1         7  10.00           False"
      ]
     },
     "execution_count": 244,
     "metadata": {},
     "output_type": "execute_result"
    }
   ],
   "source": [
    "data_tennis_power.head(7)"
   ]
  },
  {
   "cell_type": "code",
   "execution_count": 245,
   "metadata": {},
   "outputs": [
    {
     "data": {
      "text/plain": [
       "7.157303370786517"
      ]
     },
     "execution_count": 245,
     "metadata": {},
     "output_type": "execute_result"
    }
   ],
   "source": [
    "break_of_serve = data_tennis_power.groupby('match_id').agg(num_of_break=('break_occurred', 'sum'))\n",
    "break_of_serve_mean = break_of_serve['num_of_break'].mean()\n",
    "break_of_serve_mean"
   ]
  },
  {
   "cell_type": "code",
   "execution_count": 246,
   "metadata": {},
   "outputs": [
    {
     "data": {
      "text/plain": [
       "<Figure size 1000x600 with 0 Axes>"
      ]
     },
     "metadata": {},
     "output_type": "display_data"
    },
    {
     "data": {
      "image/png": "[encoded data removed]",
      "text/plain": [
       "<Figure size 640x480 with 1 Axes>"
      ]
     },
     "metadata": {},
     "output_type": "display_data"
    }
   ],
   "source": [
    "break_of_serve_sort = break_of_serve['num_of_break'].sort_values().reset_index(drop=True)\n",
    "\n",
    "plt.figure(figsize=(10, 6))\n",
    "fig, ax = plt.subplots(1)\n",
    "\n",
    "ax.scatter(range(len(break_of_serve_sort)), break_of_serve_sort,color='#c1d818')\n",
    "\n",
    "ax.axhline(y=break_of_serve_mean, color='#306048')\n",
    "ax.text(len(break_of_serve_sort) + 11, break_of_serve_mean, f'average: {break_of_serve_mean:.2f}', color='#306048', va='center', ha='left')\n",
    "\n",
    "\n",
    "\n",
    "ax.set_title(\n",
    "    \"Aces per match\",\n",
    "    weight=\"bold\",\n",
    "    color=\"#3C3D37\",\n",
    "    fontsize=15,\n",
    "    loc=\"left\",\n",
    ")\n",
    "ax.set_ylabel(\n",
    "    \"Ace\",\n",
    "    loc=\"bottom\",\n",
    "    weight=\"bold\",\n",
    "    fontsize=14,\n",
    "    color=\"#3C3D37\",\n",
    ")\n",
    "\n",
    "ax.spines[[\"right\", \"top\"]].set_visible(False)\n",
    "ax.tick_params(axis='x', colors='#3C3D37')\n",
    "ax.tick_params(axis='y', colors='#3C3D37')\n",
    "\n",
    "ax.get_xaxis().set_ticks([])\n",
    "\n",
    "plt.show()\n"
   ]
  },
  {
   "cell_type": "markdown",
   "metadata": {},
   "source": [
    "### 18. What topic has the most bets been placed on?\n"
   ]
  },
  {
   "cell_type": "markdown",
   "metadata": {},
   "source": [
    "Most bets have been placed on the entire match and the winner of the game.\n"
   ]
  },
  {
   "cell_type": "code",
   "execution_count": 247,
   "metadata": {},
   "outputs": [
    {
     "data": {
      "text/plain": [
       "market_name\n",
       "full_time           626\n",
       "first_set_winner    110\n",
       "total_games_won     108\n",
       "Name: count, dtype: int64"
      ]
     },
     "execution_count": 247,
     "metadata": {},
     "output_type": "execute_result"
    }
   ],
   "source": [
    "market_name_odds = data_odds.groupby('market_name')['market_name'].value_counts().sort_values(ascending=False)\n",
    "market_name_odds"
   ]
  },
  {
   "cell_type": "code",
   "execution_count": 248,
   "metadata": {},
   "outputs": [
    {
     "data": {
      "text/plain": [
       "<Figure size 1000x600 with 0 Axes>"
      ]
     },
     "metadata": {},
     "output_type": "display_data"
    },
    {
     "data": {
      "image/png": "[encoded data removed]",
      "text/plain": [
       "<Figure size 640x480 with 1 Axes>"
      ]
     },
     "metadata": {},
     "output_type": "display_data"
    }
   ],
   "source": [
    "plt.figure(figsize=(10, 6))\n",
    "\n",
    "fig, ax = plt.subplots(1)\n",
    "\n",
    "ax.barh(market_name_odds.index, market_name_odds.values, color='#c1d818')\n",
    "\n",
    "ax.set_title(\n",
    "    \"most odds market name\",\n",
    "    weight=\"bold\",\n",
    "    color=\"#3C3D37\",\n",
    "    fontsize=15,\n",
    "    loc=\"left\",\n",
    ")\n",
    "\n",
    "ax.spines[[\"right\", \"top\"]].set_visible(False)\n",
    "ax.tick_params(axis='x', colors='#3C3D37')\n",
    "ax.tick_params(axis='y', colors='#3C3D37')\n",
    "\n",
    "ax.invert_yaxis()\n",
    "\n",
    "\n",
    "\n",
    "\n",
    "\n",
    "plt.show()"
   ]
  },
  {
   "cell_type": "markdown",
   "metadata": {},
   "source": [
    "### 19. Does being the host affect winning the match?\n"
   ]
  },
  {
   "cell_type": "markdown",
   "metadata": {},
   "source": [
    "In tennis, being the host doesn't have much impact on winning the match.\n"
   ]
  },
  {
   "cell_type": "code",
   "execution_count": 249,
   "metadata": {},
   "outputs": [
    {
     "data": {
      "text/plain": [
       "winner_code\n",
       "1.0    383\n",
       "2.0    374\n",
       "dtype: int64"
      ]
     },
     "execution_count": 249,
     "metadata": {},
     "output_type": "execute_result"
    }
   ],
   "source": [
    "win_code = data_match.groupby('winner_code').size()\n",
    "win_code"
   ]
  },
  {
   "cell_type": "code",
   "execution_count": 250,
   "metadata": {},
   "outputs": [
    {
     "data": {
      "text/plain": [
       "<Figure size 1000x600 with 0 Axes>"
      ]
     },
     "metadata": {},
     "output_type": "display_data"
    },
    {
     "data": {
      "image/png": "[encoded data removed]",
      "text/plain": [
       "<Figure size 640x480 with 1 Axes>"
      ]
     },
     "metadata": {},
     "output_type": "display_data"
    }
   ],
   "source": [
    "plt.figure(figsize=(10, 6))\n",
    "\n",
    "fig, ax = plt.subplots(1)\n",
    "\n",
    "ax.bar(['home win', 'away win'], win_code.values, color='#c1d818')\n",
    "\n",
    "ax.set_title(\n",
    "    \"Does playing at home have an effect?\",\n",
    "    weight=\"bold\",\n",
    "    color=\"#3C3D37\",\n",
    "    fontsize=15,\n",
    "    loc=\"left\",\n",
    ")\n",
    "\n",
    "ax.spines[[\"right\", \"top\"]].set_visible(False)\n",
    "ax.tick_params(axis='x', colors='#3C3D37')\n",
    "ax.tick_params(axis='y', colors='#3C3D37')\n",
    "\n",
    "\n",
    "\n",
    "plt.show()"
   ]
  },
  {
   "cell_type": "markdown",
   "metadata": {},
   "source": [
    "### 20. Are tennis match winners predictable?\n"
   ]
  },
  {
   "cell_type": "markdown",
   "metadata": {},
   "source": [
    "According to the analyses of votes for the predicted winners and the actual winners of the matches, 67% of the matches were won by the players generally expected to win. This means that 2 out of every 3 matches were correctly predicted. While most matches followed the predictions, the number is not overwhelmingly significant. Therefore, it can be concluded that tennis matches are relatively predictable but not to a great extent.\n"
   ]
  },
  {
   "cell_type": "code",
   "execution_count": 251,
   "metadata": {},
   "outputs": [],
   "source": [
    "vote_result = pd.DataFrame()"
   ]
  },
  {
   "cell_type": "code",
   "execution_count": 252,
   "metadata": {},
   "outputs": [],
   "source": [
    "vote_result['match_id'] = data_votes['match_id']\n",
    "vote_result['vote'] = vote_result.apply(\n",
    "    lambda row: 'home' if data_votes[data_votes['match_id'] == row['match_id']]['home_vote'].iloc[0] > data_votes[data_votes['match_id'] == row['match_id']]['away_vote'].iloc[0] else 'away',\n",
    "    axis=1\n",
    ")\n",
    "vote_result['result'] = vote_result.apply(\n",
    "    lambda row: 'home' if len(data_match[data_match['match_id'] == row['match_id']]['winner_code']) > 0 and data_match[data_match['match_id'] == row['match_id']]['winner_code'].iloc[0] == 1 else 'away',\n",
    "    axis=1\n",
    ")\n",
    "vote_result['correct'] = vote_result['vote'] == vote_result['result']"
   ]
  },
  {
   "cell_type": "code",
   "execution_count": 253,
   "metadata": {},
   "outputs": [
    {
     "data": {
      "text/plain": [
       "correct\n",
       "False    251\n",
       "True     513\n",
       "dtype: int64"
      ]
     },
     "execution_count": 253,
     "metadata": {},
     "output_type": "execute_result"
    }
   ],
   "source": [
    "correct_vote_result = vote_result.groupby('correct').size()\n",
    "correct_vote_result"
   ]
  },
  {
   "cell_type": "code",
   "execution_count": 254,
   "metadata": {},
   "outputs": [
    {
     "data": {
      "image/png": "[encoded data removed]",
      "text/plain": [
       "<Figure size 1000x600 with 1 Axes>"
      ]
     },
     "metadata": {},
     "output_type": "display_data"
    }
   ],
   "source": [
    "correct_vote_result_percent = (correct_vote_result / correct_vote_result.sum()) * 100\n",
    "\n",
    "fig, ax = plt.subplots(figsize=(10, 6))\n",
    "bars = ax.bar(['Incorrect Prediction', 'Correct Prediction'], correct_vote_result.values, color='#c1d818')\n",
    "\n",
    "\n",
    "ax.set_title(\n",
    "    \"How predictable are the matches?\",\n",
    "    weight=\"bold\",\n",
    "    color=\"#3C3D37\",\n",
    "    fontsize=15,\n",
    "    loc=\"center\",\n",
    ")\n",
    "\n",
    "\n",
    "\n",
    "ax.spines[[\"right\", \"top\"]].set_visible(False)\n",
    "ax.tick_params(axis='x', colors='#3C3D37')\n",
    "ax.tick_params(axis='y', colors='#3C3D37')\n",
    "ax.invert_xaxis()\n",
    "\n",
    "for bar, percent in zip(bars, correct_vote_result_percent.values):\n",
    "    height = bar.get_height()\n",
    "    ax.text(bar.get_x() + bar.get_width() / 2, height,\n",
    "            f'{percent:.2f}%', ha='center', va='bottom', color='#3C3D37', fontsize=10)\n",
    "\n",
    "plt.show()"
   ]
  },
  {
   "cell_type": "markdown",
   "metadata": {},
   "source": [
    "### 21. Does the type of court affect the match duration?\n"
   ]
  },
  {
   "cell_type": "markdown",
   "metadata": {},
   "source": [
    "According to the analyses of match times on different types of courts, it is concluded that the type of court does not significantly affect the match duration.\n"
   ]
  },
  {
   "cell_type": "code",
   "execution_count": 255,
   "metadata": {},
   "outputs": [
    {
     "data": {
      "text/plain": [
       "ground_type\n",
       "Hardcourt indoor     66.790476\n",
       "Hardcourt outdoor    69.332415\n",
       "Red clay             70.758702\n",
       "Name: match_duration_minutes, dtype: float64"
      ]
     },
     "execution_count": 255,
     "metadata": {},
     "output_type": "execute_result"
    }
   ],
   "source": [
    "surface_duration = data_match.groupby('ground_type')['match_duration_minutes'].mean()\n",
    "surface_duration = surface_duration[surface_duration.index.isin(['Red clay', 'Hardcourt outdoor', 'Hardcourt indoor'])].sort_values()\n",
    "surface_duration"
   ]
  },
  {
   "cell_type": "code",
   "execution_count": 256,
   "metadata": {},
   "outputs": [
    {
     "data": {
      "text/plain": [
       "<Figure size 1000x600 with 0 Axes>"
      ]
     },
     "metadata": {},
     "output_type": "display_data"
    },
    {
     "data": {
      "image/png": "[encoded data removed]",
      "text/plain": [
       "<Figure size 640x480 with 1 Axes>"
      ]
     },
     "metadata": {},
     "output_type": "display_data"
    }
   ],
   "source": [
    "plt.figure(figsize=(10, 6))\n",
    "\n",
    "fig, ax = plt.subplots(1)\n",
    "\n",
    "ax.barh(surface_duration.index, surface_duration.values, color=['#306048', '#c1d818', '#c2452d'])\n",
    "\n",
    "ax.set_title(\n",
    "    \"Average match duration in each ground\",\n",
    "    weight=\"bold\",\n",
    "    color=\"#3C3D37\",\n",
    "    fontsize=15,\n",
    "    loc=\"left\",\n",
    ")\n",
    "ax.set_xlabel(\n",
    "    \"Minutes\",\n",
    "    loc=\"left\",\n",
    "    weight=\"bold\",\n",
    "    fontsize=14,\n",
    "    color=\"#3C3D37\",\n",
    ")\n",
    "\n",
    "ax.spines[[\"right\", \"top\"]].set_visible(False)\n",
    "ax.tick_params(axis='x', colors='#3C3D37')\n",
    "ax.tick_params(axis='y', colors='#3C3D37')\n",
    "\n",
    "ax.grid(axis='x', linestyle='--', alpha=0.6, color= '#3C3D37')\n",
    "ax.set_xlim(0, 120)\n",
    "ax.set_xticks(range(0, 120, 10))\n",
    "\n",
    "\n",
    "\n",
    "plt.show()"
   ]
  },
  {
   "cell_type": "markdown",
   "metadata": {},
   "source": [
    "### 22. How many votes were cast for each round?\n"
   ]
  },
  {
   "cell_type": "code",
   "execution_count": 257,
   "metadata": {},
   "outputs": [
    {
     "data": {
      "text/html": [
       "<div>\n",
       "<style scoped>\n",
       "    .dataframe tbody tr th:only-of-type {\n",
       "        vertical-align: middle;\n",
       "    }\n",
       "\n",
       "    .dataframe tbody tr th {\n",
       "        vertical-align: top;\n",
       "    }\n",
       "\n",
       "    .dataframe thead th {\n",
       "        text-align: right;\n",
       "    }\n",
       "</style>\n",
       "<table border=\"1\" class=\"dataframe\">\n",
       "  <thead>\n",
       "    <tr style=\"text-align: right;\">\n",
       "      <th></th>\n",
       "      <th>match_id</th>\n",
       "      <th>gender</th>\n",
       "      <th>slug</th>\n",
       "      <th>vote</th>\n",
       "    </tr>\n",
       "  </thead>\n",
       "  <tbody>\n",
       "    <tr>\n",
       "      <th>0</th>\n",
       "      <td>11673958</td>\n",
       "      <td>M</td>\n",
       "      <td>semifinal</td>\n",
       "      <td>787</td>\n",
       "    </tr>\n",
       "    <tr>\n",
       "      <th>1</th>\n",
       "      <td>11673962</td>\n",
       "      <td>M</td>\n",
       "      <td>final</td>\n",
       "      <td>1122</td>\n",
       "    </tr>\n",
       "    <tr>\n",
       "      <th>2</th>\n",
       "      <td>11673963</td>\n",
       "      <td>M</td>\n",
       "      <td>semifinal</td>\n",
       "      <td>612</td>\n",
       "    </tr>\n",
       "    <tr>\n",
       "      <th>3</th>\n",
       "      <td>11673993</td>\n",
       "      <td>M</td>\n",
       "      <td>final</td>\n",
       "      <td>952</td>\n",
       "    </tr>\n",
       "    <tr>\n",
       "      <th>4</th>\n",
       "      <td>11674000</td>\n",
       "      <td>M</td>\n",
       "      <td>semifinal</td>\n",
       "      <td>781</td>\n",
       "    </tr>\n",
       "    <tr>\n",
       "      <th>...</th>\n",
       "      <td>...</td>\n",
       "      <td>...</td>\n",
       "      <td>...</td>\n",
       "      <td>...</td>\n",
       "    </tr>\n",
       "    <tr>\n",
       "      <th>545</th>\n",
       "      <td>11703443</td>\n",
       "      <td>M</td>\n",
       "      <td>None</td>\n",
       "      <td>5</td>\n",
       "    </tr>\n",
       "    <tr>\n",
       "      <th>546</th>\n",
       "      <td>11703445</td>\n",
       "      <td>M</td>\n",
       "      <td>None</td>\n",
       "      <td>7</td>\n",
       "    </tr>\n",
       "    <tr>\n",
       "      <th>547</th>\n",
       "      <td>11703470</td>\n",
       "      <td>F</td>\n",
       "      <td>None</td>\n",
       "      <td>19</td>\n",
       "    </tr>\n",
       "    <tr>\n",
       "      <th>548</th>\n",
       "      <td>11703524</td>\n",
       "      <td>M</td>\n",
       "      <td>None</td>\n",
       "      <td>12</td>\n",
       "    </tr>\n",
       "    <tr>\n",
       "      <th>549</th>\n",
       "      <td>11703525</td>\n",
       "      <td>M</td>\n",
       "      <td>None</td>\n",
       "      <td>6</td>\n",
       "    </tr>\n",
       "  </tbody>\n",
       "</table>\n",
       "<p>550 rows × 4 columns</p>\n",
       "</div>"
      ],
      "text/plain": [
       "     match_id gender       slug  vote\n",
       "0    11673958      M  semifinal   787\n",
       "1    11673962      M      final  1122\n",
       "2    11673963      M  semifinal   612\n",
       "3    11673993      M      final   952\n",
       "4    11674000      M  semifinal   781\n",
       "..        ...    ...        ...   ...\n",
       "545  11703443      M       None     5\n",
       "546  11703445      M       None     7\n",
       "547  11703470      F       None    19\n",
       "548  11703524      M       None    12\n",
       "549  11703525      M       None     6\n",
       "\n",
       "[550 rows x 4 columns]"
      ]
     },
     "execution_count": 257,
     "metadata": {},
     "output_type": "execute_result"
    }
   ],
   "source": [
    "match_vote = pd.merge(match_player_gender[['match_id', 'gender']], data_match[['slug', 'match_id']], on='match_id', how='left')\n",
    "match_vote = pd.merge(match_vote, data_votes)\n",
    "match_vote['vote'] = match_vote['home_vote'] + match_vote['away_vote']\n",
    "match_vote.drop(columns=['home_vote', 'away_vote'], inplace=True)\n",
    "match_vote"
   ]
  },
  {
   "cell_type": "code",
   "execution_count": 258,
   "metadata": {},
   "outputs": [
    {
     "data": {
      "image/png": "[encoded data removed]",
      "text/plain": [
       "<Figure size 1600x800 with 1 Axes>"
      ]
     },
     "metadata": {},
     "output_type": "display_data"
    }
   ],
   "source": [
    "fig, ax = plt.subplots(1, figsize=(16, 8))\n",
    "\n",
    "round_map = {'final': 1, 'semifinal': 2, 'quarterfinal': 3, 'round-of-16': 4, 'round-of-32': 5, 'round-of-64': 6, 'qualification-round-1': 7}\n",
    "\n",
    "match_vote_gender = match_vote.groupby(['gender', 'slug'])['vote'].mean().reset_index()\n",
    "match_vote_gender['slug_num'] = match_vote_gender['slug'].map(round_map)\n",
    "match_vote_gender = match_vote_gender.sort_values(['slug_num', 'gender'])\n",
    "\n",
    "\n",
    "colors = ['#d9f048', '#306048']\n",
    "\n",
    "for color, gender_type in zip(colors, match_vote_gender['gender'].unique()):\n",
    "    data = match_vote_gender[match_vote_gender['gender'] == gender_type].sort_values(by='slug_num')\n",
    "    ax.plot(data['slug_num'], data['vote'],\n",
    "            label=gender_type, color=color, marker='o')\n",
    "\n",
    "ax.set_xticks(list(round_map.values()))\n",
    "ax.set_xticklabels(list(round_map.keys()), ha='center')\n",
    "ax.set_title(\n",
    "    \"vote in each round\",\n",
    "    weight=\"bold\",\n",
    "    color=\"#3C3D37\",\n",
    "    fontsize=15,\n",
    "    loc=\"left\",\n",
    ")\n",
    "\n",
    "\n",
    "ax.spines[[\"right\", \"top\"]].set_visible(False)\n",
    "ax.tick_params(axis='x', colors='#3C3D37')\n",
    "ax.tick_params(axis='y', colors='#3C3D37')\n",
    "\n",
    "ax.legend(labels=['Female', 'Male'], loc='upper left')\n",
    "plt.show()"
   ]
  },
  {
   "cell_type": "markdown",
   "metadata": {},
   "source": [
    "### 23.What is the average number of games per match?\n"
   ]
  },
  {
   "cell_type": "markdown",
   "metadata": {},
   "source": [
    "What is the average number of games per match?\n"
   ]
  },
  {
   "cell_type": "code",
   "execution_count": 267,
   "metadata": {},
   "outputs": [
    {
     "name": "stderr",
     "output_type": "stream",
     "text": [
      "C:\\Users\\eftekhari\\AppData\\Local\\Temp\\ipykernel_9312\\345283909.py:3: SettingWithCopyWarning: \n",
      "A value is trying to be set on a copy of a slice from a DataFrame.\n",
      "Try using .loc[row_indexer,col_indexer] = value instead\n",
      "\n",
      "See the caveats in the documentation: https://pandas.pydata.org/pandas-docs/stable/user_guide/indexing.html#returning-a-view-versus-a-copy\n",
      "  total_game_match['game_sum'] = total_game_match['home_value'] + total_game_match['away_value']\n"
     ]
    },
    {
     "data": {
      "text/plain": [
       "count    199.000000\n",
       "mean      19.688442\n",
       "std        5.115180\n",
       "min        3.000000\n",
       "25%       16.000000\n",
       "50%       19.000000\n",
       "75%       22.000000\n",
       "max       39.000000\n",
       "Name: game_sum, dtype: float64"
      ]
     },
     "execution_count": 267,
     "metadata": {},
     "output_type": "execute_result"
    }
   ],
   "source": [
    "total_game = data_statistics[data_statistics['statistic_name'] == 'total_won']\n",
    "total_game_match = total_game[['match_id', 'home_value', 'away_value']]\n",
    "total_game_match['game_sum'] = total_game_match['home_value'] + total_game_match['away_value']\n",
    "total_game_match = total_game_match.sort_values(by='game_sum').reset_index(drop=True)\n",
    "total_game_match['game_sum'].describe()"
   ]
  },
  {
   "cell_type": "code",
   "execution_count": 260,
   "metadata": {},
   "outputs": [
    {
     "data": {
      "image/png": "[encoded data removed]",
      "text/plain": [
       "<Figure size 1000x600 with 1 Axes>"
      ]
     },
     "metadata": {},
     "output_type": "display_data"
    }
   ],
   "source": [
    "game_mean = total_game_match['game_sum'].mean()\n",
    "fig, ax = plt.subplots(figsize=(10, 6))\n",
    "\n",
    "ax.scatter(total_game_match.index, total_game_match['game_sum'], color='#c1d818', s=8)\n",
    "\n",
    "ax.axhline(y=game_mean , color='#306048')\n",
    "\n",
    "ax.text(len(total_game_match) + 9 ,game_mean , 'average', color='#306048', va='center', ha='left')\n",
    "\n",
    "\n",
    "ax.set_title(\n",
    "    \"total game in match\",\n",
    "    weight=\"bold\",\n",
    "    color=\"#3C3D37\",\n",
    "    fontsize=15,\n",
    "    loc=\"left\",\n",
    ")\n",
    "\n",
    "\n",
    "ax.spines[[\"right\", \"top\"]].set_visible(False)\n",
    "ax.tick_params(axis='x', colors='#3C3D37')\n",
    "ax.tick_params(axis='y', colors='#3C3D37')\n",
    "\n",
    "ax.get_xaxis().set_ticks([])\n",
    "\n",
    "plt.show()"
   ]
  }
 ],
 "metadata": {
  "kernelspec": {
   "display_name": "Python 3",
   "language": "python",
   "name": "python3"
  },
  "language_info": {
   "codemirror_mode": {
    "name": "ipython",
    "version": 3
   },
   "file_extension": ".py",
   "mimetype": "text/x-python",
   "name": "python",
   "nbconvert_exporter": "python",
   "pygments_lexer": "ipython3",
   "version": "3.10.2"
  }
 },
 "nbformat": 4,
 "nbformat_minor": 2
}
